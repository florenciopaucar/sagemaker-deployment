{
 "cells": [
  {
   "cell_type": "markdown",
   "metadata": {},
   "source": [
    "# Sentiment Analysis Web App\n",
    "\n",
    "_Deep Learning Nanodegree Program | Deployment_\n",
    "\n",
    "---\n",
    "\n",
    "In this notebook we will use Amazon's SageMaker service to construct a random tree model to predict the sentiment of a movie review. In addition, we will deploy this model to an endpoint and construct a very simple web app which will interact with our model's deployed endpoint.\n",
    "\n",
    "## General Outline\n",
    "\n",
    "Typically, when using a notebook instance with SageMaker, you will proceed through the following steps. Of course, not every step will need to be done with each project. Also, there is quite a lot of room for variation in many of the steps, as you will see throughout these lessons.\n",
    "\n",
    "1. Download or otherwise retrieve the data.\n",
    "2. Process / Prepare the data.\n",
    "3. Upload the processed data to S3.\n",
    "4. Train a chosen model.\n",
    "5. Test the trained model (typically using a batch transform job).\n",
    "6. Deploy the trained model.\n",
    "7. Use the deployed model.\n",
    "\n",
    "In this notebook we will progress through each of the steps above. We will also see that the final step, using the deployed model, can be quite challenging."
   ]
  },
  {
   "cell_type": "markdown",
   "metadata": {},
   "source": [
    "## Step 1: Downloading the data\n",
    "\n",
    "The dataset we are going to use is very popular among researchers in Natural Language Processing, usually referred to as the [IMDb dataset](http://ai.stanford.edu/~amaas/data/sentiment/). It consists of movie reviews from the website [imdb.com](http://www.imdb.com/), each labeled as either '**pos**itive', if the reviewer enjoyed the film, or '**neg**ative' otherwise.\n",
    "\n",
    "> Maas, Andrew L., et al. [Learning Word Vectors for Sentiment Analysis](http://ai.stanford.edu/~amaas/data/sentiment/). In _Proceedings of the 49th Annual Meeting of the Association for Computational Linguistics: Human Language Technologies_. Association for Computational Linguistics, 2011.\n",
    "\n",
    "We begin by using some Jupyter Notebook magic to download and extract the dataset."
   ]
  },
  {
   "cell_type": "code",
   "execution_count": 1,
   "metadata": {},
   "outputs": [
    {
     "name": "stdout",
     "output_type": "stream",
     "text": [
      "mkdir: cannot create directory ‘../data’: File exists\n",
      "--2020-07-28 21:11:07--  http://ai.stanford.edu/~amaas/data/sentiment/aclImdb_v1.tar.gz\n",
      "Resolving ai.stanford.edu (ai.stanford.edu)... 171.64.68.10\n",
      "Connecting to ai.stanford.edu (ai.stanford.edu)|171.64.68.10|:80... connected.\n",
      "HTTP request sent, awaiting response... 200 OK\n",
      "Length: 84125825 (80M) [application/x-gzip]\n",
      "Saving to: ‘../data/aclImdb_v1.tar.gz’\n",
      "\n",
      "../data/aclImdb_v1. 100%[===================>]  80.23M  9.33MB/s    in 13s     \n",
      "\n",
      "2020-07-28 21:11:20 (6.23 MB/s) - ‘../data/aclImdb_v1.tar.gz’ saved [84125825/84125825]\n",
      "\n"
     ]
    }
   ],
   "source": [
    "%mkdir ../data\n",
    "!wget -O ../data/aclImdb_v1.tar.gz http://ai.stanford.edu/~amaas/data/sentiment/aclImdb_v1.tar.gz\n",
    "!tar -zxf ../data/aclImdb_v1.tar.gz -C ../data"
   ]
  },
  {
   "cell_type": "markdown",
   "metadata": {},
   "source": [
    "## Step 2: Preparing and Processing the data\n",
    "\n",
    "The data we have downloaded is split into various files, each of which contains a single review. It will be much easier going forward if we combine these individual files into two large files, one for training and one for testing."
   ]
  },
  {
   "cell_type": "code",
   "execution_count": 2,
   "metadata": {},
   "outputs": [],
   "source": [
    "import os\n",
    "import glob\n",
    "\n",
    "def read_imdb_data(data_dir='../data/aclImdb'):\n",
    "    data = {}\n",
    "    labels = {}\n",
    "    \n",
    "    for data_type in ['train', 'test']:\n",
    "        data[data_type] = {}\n",
    "        labels[data_type] = {}\n",
    "        \n",
    "        for sentiment in ['pos', 'neg']:\n",
    "            data[data_type][sentiment] = []\n",
    "            labels[data_type][sentiment] = []\n",
    "            \n",
    "            path = os.path.join(data_dir, data_type, sentiment, '*.txt')\n",
    "            files = glob.glob(path)\n",
    "            \n",
    "            for f in files:\n",
    "                with open(f) as review:\n",
    "                    data[data_type][sentiment].append(review.read())\n",
    "                    # Here we represent a positive review by '1' and a negative review by '0'\n",
    "                    labels[data_type][sentiment].append(1 if sentiment == 'pos' else 0)\n",
    "                    \n",
    "            assert len(data[data_type][sentiment]) == len(labels[data_type][sentiment]), \\\n",
    "                    \"{}/{} data size does not match labels size\".format(data_type, sentiment)\n",
    "                \n",
    "    return data, labels"
   ]
  },
  {
   "cell_type": "code",
   "execution_count": 3,
   "metadata": {},
   "outputs": [
    {
     "name": "stdout",
     "output_type": "stream",
     "text": [
      "IMDB reviews: train = 12500 pos / 12500 neg, test = 12500 pos / 12500 neg\n"
     ]
    }
   ],
   "source": [
    "data, labels = read_imdb_data()\n",
    "print(\"IMDB reviews: train = {} pos / {} neg, test = {} pos / {} neg\".format(\n",
    "            len(data['train']['pos']), len(data['train']['neg']),\n",
    "            len(data['test']['pos']), len(data['test']['neg'])))"
   ]
  },
  {
   "cell_type": "code",
   "execution_count": 4,
   "metadata": {},
   "outputs": [],
   "source": [
    "from sklearn.utils import shuffle\n",
    "\n",
    "def prepare_imdb_data(data, labels):\n",
    "    \"\"\"Prepare training and test sets from IMDb movie reviews.\"\"\"\n",
    "    \n",
    "    #Combine positive and negative reviews and labels\n",
    "    data_train = data['train']['pos'] + data['train']['neg']\n",
    "    data_test = data['test']['pos'] + data['test']['neg']\n",
    "    labels_train = labels['train']['pos'] + labels['train']['neg']\n",
    "    labels_test = labels['test']['pos'] + labels['test']['neg']\n",
    "    \n",
    "    #Shuffle reviews and corresponding labels within training and test sets\n",
    "    data_train, labels_train = shuffle(data_train, labels_train)\n",
    "    data_test, labels_test = shuffle(data_test, labels_test)\n",
    "    \n",
    "    # Return a unified training data, test data, training labels, test labets\n",
    "    return data_train, data_test, labels_train, labels_test"
   ]
  },
  {
   "cell_type": "code",
   "execution_count": 5,
   "metadata": {},
   "outputs": [
    {
     "name": "stdout",
     "output_type": "stream",
     "text": [
      "IMDb reviews (combined): train = 25000, test = 25000\n"
     ]
    }
   ],
   "source": [
    "train_X, test_X, train_y, test_y = prepare_imdb_data(data, labels)\n",
    "print(\"IMDb reviews (combined): train = {}, test = {}\".format(len(train_X), len(test_X)))"
   ]
  },
  {
   "cell_type": "code",
   "execution_count": 6,
   "metadata": {},
   "outputs": [
    {
     "data": {
      "text/plain": [
       "\"I gave this a 10 out of 10 points. I love it so much. I am a child of the 80s and totally into heavy metal for many years. Those are the reasons i like this movie so much. Its so cool to see those posters in the bedroom of that boy (Judas Priest, Lizzy Borden, Raven, Twisted sister...)and his vinyl collection(unveiling the wicked by Exciter, Rise of the mutants by shock metal master Impaler and Killing is my business by Megadeth). Also the soundtrack by FASTWAY is totally incredible and fits very well with the plot. If you are into metal, then TRICK OR TREAT is your friend. Don't buy or watch this movie for OZZY or GENE SIMMONS because they are in the movie for seconds, watch it because the soundtrack and the story that will take you back to the glory 80s. You will not be the same person after.\""
      ]
     },
     "execution_count": 6,
     "metadata": {},
     "output_type": "execute_result"
    }
   ],
   "source": [
    "train_X[100]"
   ]
  },
  {
   "cell_type": "markdown",
   "metadata": {},
   "source": [
    "## Processing the data\n",
    "\n",
    "Now that we have our training and testing datasets merged and ready to use, we need to start processing the raw data into something that will be useable by our machine learning algorithm. To begin with, we remove any html formatting and any non-alpha numeric characters that may appear in the reviews. We will do this in a very simplistic way using Python's regular expression module. We will discuss the reason for this rather simplistic pre-processing later on."
   ]
  },
  {
   "cell_type": "code",
   "execution_count": 7,
   "metadata": {},
   "outputs": [],
   "source": [
    "import re\n",
    "\n",
    "REPLACE_NO_SPACE = re.compile(\"(\\.)|(\\;)|(\\:)|(\\!)|(\\')|(\\?)|(\\,)|(\\\")|(\\()|(\\))|(\\[)|(\\])\")\n",
    "REPLACE_WITH_SPACE = re.compile(\"(<br\\s*/><br\\s*/>)|(\\-)|(\\/)\")\n",
    "\n",
    "def review_to_words(review):\n",
    "    words = REPLACE_NO_SPACE.sub(\"\", review.lower())\n",
    "    words = REPLACE_WITH_SPACE.sub(\" \", words)\n",
    "    return words"
   ]
  },
  {
   "cell_type": "code",
   "execution_count": 8,
   "metadata": {},
   "outputs": [
    {
     "data": {
      "text/plain": [
       "'i gave this a 10 out of 10 points i love it so much i am a child of the 80s and totally into heavy metal for many years those are the reasons i like this movie so much its so cool to see those posters in the bedroom of that boy judas priest lizzy borden raven twisted sisterand his vinyl collectionunveiling the wicked by exciter rise of the mutants by shock metal master impaler and killing is my business by megadeth also the soundtrack by fastway is totally incredible and fits very well with the plot if you are into metal then trick or treat is your friend dont buy or watch this movie for ozzy or gene simmons because they are in the movie for seconds watch it because the soundtrack and the story that will take you back to the glory 80s you will not be the same person after'"
      ]
     },
     "execution_count": 8,
     "metadata": {},
     "output_type": "execute_result"
    }
   ],
   "source": [
    "review_to_words(train_X[100])"
   ]
  },
  {
   "cell_type": "code",
   "execution_count": 9,
   "metadata": {},
   "outputs": [],
   "source": [
    "import pickle\n",
    "\n",
    "cache_dir = os.path.join(\"../cache\", \"sentiment_web_app\")  # where to store cache files\n",
    "os.makedirs(cache_dir, exist_ok=True)  # ensure cache directory exists\n",
    "\n",
    "def preprocess_data(data_train, data_test, labels_train, labels_test,\n",
    "                    cache_dir=cache_dir, cache_file=\"preprocessed_data.pkl\"):\n",
    "    \"\"\"Convert each review to words; read from cache if available.\"\"\"\n",
    "\n",
    "    # If cache_file is not None, try to read from it first\n",
    "    cache_data = None\n",
    "    if cache_file is not None:\n",
    "        try:\n",
    "            with open(os.path.join(cache_dir, cache_file), \"rb\") as f:\n",
    "                cache_data = pickle.load(f)\n",
    "            print(\"Read preprocessed data from cache file:\", cache_file)\n",
    "        except:\n",
    "            pass  # unable to read from cache, but that's okay\n",
    "    \n",
    "    # If cache is missing, then do the heavy lifting\n",
    "    if cache_data is None:\n",
    "        # Preprocess training and test data to obtain words for each review\n",
    "        #words_train = list(map(review_to_words, data_train))\n",
    "        #words_test = list(map(review_to_words, data_test))\n",
    "        words_train = [review_to_words(review) for review in data_train]\n",
    "        words_test = [review_to_words(review) for review in data_test]\n",
    "        \n",
    "        # Write to cache file for future runs\n",
    "        if cache_file is not None:\n",
    "            cache_data = dict(words_train=words_train, words_test=words_test,\n",
    "                              labels_train=labels_train, labels_test=labels_test)\n",
    "            with open(os.path.join(cache_dir, cache_file), \"wb\") as f:\n",
    "                pickle.dump(cache_data, f)\n",
    "            print(\"Wrote preprocessed data to cache file:\", cache_file)\n",
    "    else:\n",
    "        # Unpack data loaded from cache file\n",
    "        words_train, words_test, labels_train, labels_test = (cache_data['words_train'],\n",
    "                cache_data['words_test'], cache_data['labels_train'], cache_data['labels_test'])\n",
    "    \n",
    "    return words_train, words_test, labels_train, labels_test"
   ]
  },
  {
   "cell_type": "code",
   "execution_count": 10,
   "metadata": {},
   "outputs": [
    {
     "name": "stdout",
     "output_type": "stream",
     "text": [
      "Wrote preprocessed data to cache file: preprocessed_data.pkl\n"
     ]
    }
   ],
   "source": [
    "# Preprocess data\n",
    "train_X, test_X, train_y, test_y = preprocess_data(train_X, test_X, train_y, test_y)"
   ]
  },
  {
   "cell_type": "markdown",
   "metadata": {},
   "source": [
    "### Extract Bag-of-Words features\n",
    "\n",
    "For the model we will be implementing, rather than using the reviews directly, we are going to transform each review into a Bag-of-Words feature representation. Keep in mind that 'in the wild' we will only have access to the training set so our transformer can only use the training set to construct a representation."
   ]
  },
  {
   "cell_type": "code",
   "execution_count": 11,
   "metadata": {},
   "outputs": [
    {
     "name": "stderr",
     "output_type": "stream",
     "text": [
      "/home/ec2-user/anaconda3/envs/python3/lib/python3.6/site-packages/sklearn/externals/joblib/__init__.py:15: FutureWarning: sklearn.externals.joblib is deprecated in 0.21 and will be removed in 0.23. Please import this functionality directly from joblib, which can be installed with: pip install joblib. If this warning is raised when loading pickled models, you may need to re-serialize those models with scikit-learn 0.21+.\n",
      "  warnings.warn(msg, category=FutureWarning)\n"
     ]
    }
   ],
   "source": [
    "import numpy as np\n",
    "from sklearn.feature_extraction.text import CountVectorizer\n",
    "from sklearn.externals import joblib\n",
    "# joblib is an enhanced version of pickle that is more efficient for storing NumPy arrays\n",
    "\n",
    "def extract_BoW_features(words_train, words_test, vocabulary_size=5000,\n",
    "                         cache_dir=cache_dir, cache_file=\"bow_features.pkl\"):\n",
    "    \"\"\"Extract Bag-of-Words for a given set of documents, already preprocessed into words.\"\"\"\n",
    "    \n",
    "    # If cache_file is not None, try to read from it first\n",
    "    cache_data = None\n",
    "    if cache_file is not None:\n",
    "        try:\n",
    "            with open(os.path.join(cache_dir, cache_file), \"rb\") as f:\n",
    "                cache_data = joblib.load(f)\n",
    "            print(\"Read features from cache file:\", cache_file)\n",
    "        except:\n",
    "            pass  # unable to read from cache, but that's okay\n",
    "    \n",
    "    # If cache is missing, then do the heavy lifting\n",
    "    if cache_data is None:\n",
    "        # Fit a vectorizer to training documents and use it to transform them\n",
    "        # NOTE: Training documents have already been preprocessed and tokenized into words;\n",
    "        #       pass in dummy functions to skip those steps, e.g. preprocessor=lambda x: x\n",
    "        vectorizer = CountVectorizer(max_features=vocabulary_size)\n",
    "        features_train = vectorizer.fit_transform(words_train).toarray()\n",
    "\n",
    "        # Apply the same vectorizer to transform the test documents (ignore unknown words)\n",
    "        features_test = vectorizer.transform(words_test).toarray()\n",
    "        \n",
    "        # NOTE: Remember to convert the features using .toarray() for a compact representation\n",
    "        \n",
    "        # Write to cache file for future runs (store vocabulary as well)\n",
    "        if cache_file is not None:\n",
    "            vocabulary = vectorizer.vocabulary_\n",
    "            cache_data = dict(features_train=features_train, features_test=features_test,\n",
    "                             vocabulary=vocabulary)\n",
    "            with open(os.path.join(cache_dir, cache_file), \"wb\") as f:\n",
    "                joblib.dump(cache_data, f)\n",
    "            print(\"Wrote features to cache file:\", cache_file)\n",
    "    else:\n",
    "        # Unpack data loaded from cache file\n",
    "        features_train, features_test, vocabulary = (cache_data['features_train'],\n",
    "                cache_data['features_test'], cache_data['vocabulary'])\n",
    "    \n",
    "    # Return both the extracted features as well as the vocabulary\n",
    "    return features_train, features_test, vocabulary"
   ]
  },
  {
   "cell_type": "code",
   "execution_count": 12,
   "metadata": {},
   "outputs": [
    {
     "name": "stdout",
     "output_type": "stream",
     "text": [
      "Wrote features to cache file: bow_features.pkl\n"
     ]
    }
   ],
   "source": [
    "# Extract Bag of Words features for both training and test datasets\n",
    "train_X, test_X, vocabulary = extract_BoW_features(train_X, test_X)"
   ]
  },
  {
   "cell_type": "code",
   "execution_count": 13,
   "metadata": {},
   "outputs": [
    {
     "data": {
      "text/plain": [
       "5000"
      ]
     },
     "execution_count": 13,
     "metadata": {},
     "output_type": "execute_result"
    }
   ],
   "source": [
    "len(train_X[100])"
   ]
  },
  {
   "cell_type": "markdown",
   "metadata": {},
   "source": [
    "## Step 3: Upload data to S3\n",
    "\n",
    "Now that we have created the feature representation of our training (and testing) data, it is time to start setting up and using the XGBoost classifier provided by SageMaker.\n",
    "\n",
    "### Writing the datasets\n",
    "\n",
    "The XGBoost classifier that we will be using requires the dataset to be written to a file and stored using Amazon S3. To do this, we will start by splitting the training dataset into two parts, the data we will train the model with and a validation set. Then, we will write those datasets to a file locally and then upload the files to S3. In addition, we will write the test set to a file and upload that file to S3. This is so that we can use SageMakers Batch Transform functionality to test our model once we've fit it."
   ]
  },
  {
   "cell_type": "code",
   "execution_count": 14,
   "metadata": {},
   "outputs": [],
   "source": [
    "import pandas as pd\n",
    "\n",
    "# Earlier we shuffled the training dataset so to make things simple we can just assign\n",
    "# the first 10 000 reviews to the validation set and use the remaining reviews for training.\n",
    "val_X = pd.DataFrame(train_X[:10000])\n",
    "train_X = pd.DataFrame(train_X[10000:])\n",
    "\n",
    "val_y = pd.DataFrame(train_y[:10000])\n",
    "train_y = pd.DataFrame(train_y[10000:])"
   ]
  },
  {
   "cell_type": "markdown",
   "metadata": {},
   "source": [
    "The documentation for the XGBoost algorithm in SageMaker requires that the training and validation datasets should contain no headers or index and that the label should occur first for each sample.\n",
    "\n",
    "For more information about this and other algorithms, the SageMaker developer documentation can be found on __[Amazon's website.](https://docs.aws.amazon.com/sagemaker/latest/dg/)__"
   ]
  },
  {
   "cell_type": "code",
   "execution_count": 15,
   "metadata": {},
   "outputs": [],
   "source": [
    "# First we make sure that the local directory in which we'd like to store the training and validation csv files exists.\n",
    "data_dir = '../data/sentiment_web_app'\n",
    "if not os.path.exists(data_dir):\n",
    "    os.makedirs(data_dir)"
   ]
  },
  {
   "cell_type": "code",
   "execution_count": 16,
   "metadata": {},
   "outputs": [],
   "source": [
    "pd.DataFrame(test_X).to_csv(os.path.join(data_dir, 'test.csv'), header=False, index=False)\n",
    "\n",
    "pd.concat([val_y, val_X], axis=1).to_csv(os.path.join(data_dir, 'validation.csv'), header=False, index=False)\n",
    "pd.concat([train_y, train_X], axis=1).to_csv(os.path.join(data_dir, 'train.csv'), header=False, index=False)"
   ]
  },
  {
   "cell_type": "code",
   "execution_count": 17,
   "metadata": {},
   "outputs": [],
   "source": [
    "# To save a bit of memory we can set text_X, train_X, val_X, train_y and val_y to None.\n",
    "\n",
    "test_X = train_X = val_X = train_y = val_y = None"
   ]
  },
  {
   "cell_type": "markdown",
   "metadata": {},
   "source": [
    "### Uploading Training / Validation files to S3\n",
    "\n",
    "Amazon's S3 service allows us to store files that can be accessed by both the built-in training models such as the XGBoost model we will be using as well as custom models such as the one we will see a little later.\n",
    "\n",
    "For this and most other tasks we will be doing using SageMaker, there are two methods we could use. The first is to use the low level functionality of SageMaker which requires knowing each of the objects involved in the SageMaker environment. The second is to use the high level functionality in which certain choices have been made on the user's behalf. The low level approach benefits from allowing the user a great deal of flexibility while the high level approach makes development much quicker. For our purposes we will opt to use the high level approach although using the low-level approach is certainly an option.\n",
    "\n",
    "Recall the method `upload_data()` which is a member of the object representing our current SageMaker session. What this method does is upload the data to the default bucket (which is created if it does not exist) into the path described by the key_prefix variable. To see this for yourself, once you have uploaded the data files, go to the S3 console and look to see where the files have been uploaded.\n",
    "\n",
    "For additional resources, see the __[SageMaker API documentation](http://sagemaker.readthedocs.io/en/latest/)__ and in addition the __[SageMaker Developer Guide.](https://docs.aws.amazon.com/sagemaker/latest/dg/)__"
   ]
  },
  {
   "cell_type": "code",
   "execution_count": 18,
   "metadata": {},
   "outputs": [],
   "source": [
    "import sagemaker\n",
    "\n",
    "session = sagemaker.Session() # Store the current SageMaker session\n",
    "\n",
    "# S3 prefix (which folder will we use)\n",
    "prefix = 'sentiment-web-app'\n",
    "\n",
    "test_location = session.upload_data(os.path.join(data_dir, 'test.csv'), key_prefix=prefix)\n",
    "val_location = session.upload_data(os.path.join(data_dir, 'validation.csv'), key_prefix=prefix)\n",
    "train_location = session.upload_data(os.path.join(data_dir, 'train.csv'), key_prefix=prefix)"
   ]
  },
  {
   "cell_type": "markdown",
   "metadata": {},
   "source": [
    "## Step 4: Creating the XGBoost model\n",
    "\n",
    "Now that the data has been uploaded it is time to create the XGBoost model. To begin with, we need to do some setup. At this point it is worth discussing what a model is in SageMaker. It is easiest to think of a model of comprising three different objects in the SageMaker ecosystem, which interact with one another.\n",
    "\n",
    "- Model Artifacts\n",
    "- Training Code (Container)\n",
    "- Inference Code (Container)\n",
    "\n",
    "The Model Artifacts are what you might think of as the actual model itself. For example, if you were building a neural network, the model artifacts would be the weights of the various layers. In our case, for an XGBoost model, the artifacts are the actual trees that are created during training.\n",
    "\n",
    "The other two objects, the training code and the inference code are then used to manipulate the training artifacts. More precisely, the training code uses the training data that is provided and creates the model artifacts, while the inference code uses the model artifacts to make predictions on new data.\n",
    "\n",
    "The way that SageMaker runs the training and inference code is by making use of Docker containers. For now, think of a container as being a way of packaging code up so that dependencies aren't an issue."
   ]
  },
  {
   "cell_type": "code",
   "execution_count": 19,
   "metadata": {},
   "outputs": [],
   "source": [
    "from sagemaker import get_execution_role\n",
    "\n",
    "# Our current execution role is required when creating the model as the training\n",
    "# and inference code will need to access the model artifacts.\n",
    "role = get_execution_role()"
   ]
  },
  {
   "cell_type": "code",
   "execution_count": 20,
   "metadata": {},
   "outputs": [
    {
     "name": "stderr",
     "output_type": "stream",
     "text": [
      "'get_image_uri' method will be deprecated in favor of 'ImageURIProvider' class in SageMaker Python SDK v2.\n",
      "There is a more up to date SageMaker XGBoost image. To use the newer image, please set 'repo_version'='1.0-1'. For example:\n",
      "\tget_image_uri(region, 'xgboost', '1.0-1').\n"
     ]
    }
   ],
   "source": [
    "# We need to retrieve the location of the container which is provided by Amazon for using XGBoost.\n",
    "# As a matter of convenience, the training and inference code both use the same container.\n",
    "from sagemaker.amazon.amazon_estimator import get_image_uri\n",
    "\n",
    "container = get_image_uri(session.boto_region_name, 'xgboost')"
   ]
  },
  {
   "cell_type": "code",
   "execution_count": 21,
   "metadata": {},
   "outputs": [
    {
     "name": "stderr",
     "output_type": "stream",
     "text": [
      "Parameter image_name will be renamed to image_uri in SageMaker Python SDK v2.\n"
     ]
    }
   ],
   "source": [
    "# First we create a SageMaker estimator object for our model.\n",
    "xgb = sagemaker.estimator.Estimator(container, # The location of the container we wish to use\n",
    "                                    role,                                    # What is our current IAM Role\n",
    "                                    train_instance_count=1,                  # How many compute instances\n",
    "                                    train_instance_type='ml.m4.xlarge',      # What kind of compute instances\n",
    "                                    output_path='s3://{}/{}/output'.format(session.default_bucket(), prefix),\n",
    "                                    sagemaker_session=session)\n",
    "\n",
    "# And then set the algorithm specific parameters.\n",
    "xgb.set_hyperparameters(max_depth=5,\n",
    "                        eta=0.2,\n",
    "                        gamma=4,\n",
    "                        min_child_weight=6,\n",
    "                        subsample=0.8,\n",
    "                        silent=0,\n",
    "                        objective='binary:logistic',\n",
    "                        early_stopping_rounds=10,\n",
    "                        num_round=500)"
   ]
  },
  {
   "cell_type": "markdown",
   "metadata": {},
   "source": [
    "### Fit the XGBoost model\n",
    "\n",
    "Now that our model has been set up we simply need to attach the training and validation datasets and then ask SageMaker to set up the computation."
   ]
  },
  {
   "cell_type": "code",
   "execution_count": 22,
   "metadata": {},
   "outputs": [
    {
     "name": "stderr",
     "output_type": "stream",
     "text": [
      "'s3_input' class will be renamed to 'TrainingInput' in SageMaker Python SDK v2.\n",
      "'s3_input' class will be renamed to 'TrainingInput' in SageMaker Python SDK v2.\n"
     ]
    }
   ],
   "source": [
    "s3_input_train = sagemaker.s3_input(s3_data=train_location, content_type='csv')\n",
    "s3_input_validation = sagemaker.s3_input(s3_data=val_location, content_type='csv')"
   ]
  },
  {
   "cell_type": "code",
   "execution_count": 23,
   "metadata": {},
   "outputs": [
    {
     "name": "stdout",
     "output_type": "stream",
     "text": [
      "2020-07-28 21:13:21 Starting - Starting the training job...\n",
      "2020-07-28 21:13:23 Starting - Launching requested ML instances.........\n",
      "2020-07-28 21:14:58 Starting - Preparing the instances for training...\n",
      "2020-07-28 21:15:47 Downloading - Downloading input data...\n",
      "2020-07-28 21:16:07 Training - Downloading the training image..\u001b[34mArguments: train\u001b[0m\n",
      "\u001b[34m[2020-07-28:21:16:28:INFO] Running standalone xgboost training.\u001b[0m\n",
      "\u001b[34m[2020-07-28:21:16:28:INFO] File size need to be processed in the node: 238.5mb. Available memory size in the node: 8481.01mb\u001b[0m\n",
      "\u001b[34m[2020-07-28:21:16:28:INFO] Determined delimiter of CSV input is ','\u001b[0m\n",
      "\u001b[34m[21:16:28] S3DistributionType set as FullyReplicated\u001b[0m\n",
      "\u001b[34m[21:16:30] 15000x5000 matrix with 75000000 entries loaded from /opt/ml/input/data/train?format=csv&label_column=0&delimiter=,\u001b[0m\n",
      "\u001b[34m[2020-07-28:21:16:30:INFO] Determined delimiter of CSV input is ','\u001b[0m\n",
      "\u001b[34m[21:16:30] S3DistributionType set as FullyReplicated\u001b[0m\n",
      "\u001b[34m[21:16:31] 10000x5000 matrix with 50000000 entries loaded from /opt/ml/input/data/validation?format=csv&label_column=0&delimiter=,\u001b[0m\n",
      "\u001b[34m[21:16:34] src/tree/updater_prune.cc:74: tree pruning end, 1 roots, 46 extra nodes, 2 pruned nodes, max_depth=5\u001b[0m\n",
      "\u001b[34m[0]#011train-error:0.3008#011validation-error:0.3145\u001b[0m\n",
      "\u001b[34mMultiple eval metrics have been passed: 'validation-error' will be used for early stopping.\n",
      "\u001b[0m\n",
      "\u001b[34mWill train until validation-error hasn't improved in 10 rounds.\u001b[0m\n",
      "\u001b[34m[21:16:36] src/tree/updater_prune.cc:74: tree pruning end, 1 roots, 42 extra nodes, 2 pruned nodes, max_depth=5\u001b[0m\n",
      "\u001b[34m[1]#011train-error:0.288667#011validation-error:0.2957\u001b[0m\n",
      "\u001b[34m[21:16:37] src/tree/updater_prune.cc:74: tree pruning end, 1 roots, 38 extra nodes, 4 pruned nodes, max_depth=5\u001b[0m\n",
      "\u001b[34m[2]#011train-error:0.281667#011validation-error:0.2894\u001b[0m\n",
      "\u001b[34m[21:16:39] src/tree/updater_prune.cc:74: tree pruning end, 1 roots, 28 extra nodes, 2 pruned nodes, max_depth=5\u001b[0m\n",
      "\u001b[34m[3]#011train-error:0.2784#011validation-error:0.2881\u001b[0m\n",
      "\n",
      "2020-07-28 21:16:27 Training - Training image download completed. Training in progress.\u001b[34m[21:16:40] src/tree/updater_prune.cc:74: tree pruning end, 1 roots, 42 extra nodes, 8 pruned nodes, max_depth=5\u001b[0m\n",
      "\u001b[34m[4]#011train-error:0.263333#011validation-error:0.2757\u001b[0m\n",
      "\u001b[34m[21:16:41] src/tree/updater_prune.cc:74: tree pruning end, 1 roots, 28 extra nodes, 4 pruned nodes, max_depth=5\u001b[0m\n",
      "\u001b[34m[5]#011train-error:0.254067#011validation-error:0.2648\u001b[0m\n",
      "\u001b[34m[21:16:42] src/tree/updater_prune.cc:74: tree pruning end, 1 roots, 34 extra nodes, 4 pruned nodes, max_depth=5\u001b[0m\n",
      "\u001b[34m[6]#011train-error:0.250067#011validation-error:0.2625\u001b[0m\n",
      "\u001b[34m[21:16:44] src/tree/updater_prune.cc:74: tree pruning end, 1 roots, 34 extra nodes, 8 pruned nodes, max_depth=5\u001b[0m\n",
      "\u001b[34m[7]#011train-error:0.240267#011validation-error:0.2533\u001b[0m\n",
      "\u001b[34m[21:16:45] src/tree/updater_prune.cc:74: tree pruning end, 1 roots, 36 extra nodes, 8 pruned nodes, max_depth=5\u001b[0m\n",
      "\u001b[34m[8]#011train-error:0.236067#011validation-error:0.2502\u001b[0m\n",
      "\u001b[34m[21:16:46] src/tree/updater_prune.cc:74: tree pruning end, 1 roots, 32 extra nodes, 0 pruned nodes, max_depth=5\u001b[0m\n",
      "\u001b[34m[9]#011train-error:0.232867#011validation-error:0.2478\u001b[0m\n",
      "\u001b[34m[21:16:47] src/tree/updater_prune.cc:74: tree pruning end, 1 roots, 30 extra nodes, 6 pruned nodes, max_depth=5\u001b[0m\n",
      "\u001b[34m[10]#011train-error:0.228867#011validation-error:0.245\u001b[0m\n",
      "\u001b[34m[21:16:49] src/tree/updater_prune.cc:74: tree pruning end, 1 roots, 38 extra nodes, 10 pruned nodes, max_depth=5\u001b[0m\n",
      "\u001b[34m[11]#011train-error:0.222333#011validation-error:0.2401\u001b[0m\n",
      "\u001b[34m[21:16:50] src/tree/updater_prune.cc:74: tree pruning end, 1 roots, 28 extra nodes, 4 pruned nodes, max_depth=5\u001b[0m\n",
      "\u001b[34m[12]#011train-error:0.218067#011validation-error:0.2385\u001b[0m\n",
      "\u001b[34m[21:16:51] src/tree/updater_prune.cc:74: tree pruning end, 1 roots, 28 extra nodes, 8 pruned nodes, max_depth=5\u001b[0m\n",
      "\u001b[34m[13]#011train-error:0.2124#011validation-error:0.233\u001b[0m\n",
      "\u001b[34m[21:16:52] src/tree/updater_prune.cc:74: tree pruning end, 1 roots, 26 extra nodes, 8 pruned nodes, max_depth=5\u001b[0m\n",
      "\u001b[34m[14]#011train-error:0.210733#011validation-error:0.2304\u001b[0m\n",
      "\u001b[34m[21:16:54] src/tree/updater_prune.cc:74: tree pruning end, 1 roots, 24 extra nodes, 6 pruned nodes, max_depth=5\u001b[0m\n",
      "\u001b[34m[15]#011train-error:0.208533#011validation-error:0.2306\u001b[0m\n",
      "\u001b[34m[21:16:55] src/tree/updater_prune.cc:74: tree pruning end, 1 roots, 20 extra nodes, 10 pruned nodes, max_depth=5\u001b[0m\n",
      "\u001b[34m[16]#011train-error:0.203467#011validation-error:0.2271\u001b[0m\n",
      "\u001b[34m[21:16:56] src/tree/updater_prune.cc:74: tree pruning end, 1 roots, 32 extra nodes, 6 pruned nodes, max_depth=5\u001b[0m\n",
      "\u001b[34m[17]#011train-error:0.198667#011validation-error:0.2215\u001b[0m\n",
      "\u001b[34m[21:16:58] src/tree/updater_prune.cc:74: tree pruning end, 1 roots, 36 extra nodes, 2 pruned nodes, max_depth=5\u001b[0m\n",
      "\u001b[34m[18]#011train-error:0.1946#011validation-error:0.2171\u001b[0m\n",
      "\u001b[34m[21:16:59] src/tree/updater_prune.cc:74: tree pruning end, 1 roots, 24 extra nodes, 8 pruned nodes, max_depth=5\u001b[0m\n",
      "\u001b[34m[19]#011train-error:0.1928#011validation-error:0.2129\u001b[0m\n",
      "\u001b[34m[21:17:00] src/tree/updater_prune.cc:74: tree pruning end, 1 roots, 34 extra nodes, 8 pruned nodes, max_depth=5\u001b[0m\n",
      "\u001b[34m[20]#011train-error:0.189667#011validation-error:0.2124\u001b[0m\n",
      "\u001b[34m[21:17:01] src/tree/updater_prune.cc:74: tree pruning end, 1 roots, 24 extra nodes, 8 pruned nodes, max_depth=5\u001b[0m\n",
      "\u001b[34m[21]#011train-error:0.1868#011validation-error:0.2105\u001b[0m\n",
      "\u001b[34m[21:17:03] src/tree/updater_prune.cc:74: tree pruning end, 1 roots, 36 extra nodes, 10 pruned nodes, max_depth=5\u001b[0m\n",
      "\u001b[34m[22]#011train-error:0.184133#011validation-error:0.2071\u001b[0m\n",
      "\u001b[34m[21:17:04] src/tree/updater_prune.cc:74: tree pruning end, 1 roots, 22 extra nodes, 6 pruned nodes, max_depth=5\u001b[0m\n",
      "\u001b[34m[23]#011train-error:0.1816#011validation-error:0.2061\u001b[0m\n",
      "\u001b[34m[21:17:05] src/tree/updater_prune.cc:74: tree pruning end, 1 roots, 30 extra nodes, 6 pruned nodes, max_depth=5\u001b[0m\n",
      "\u001b[34m[24]#011train-error:0.178467#011validation-error:0.2031\u001b[0m\n",
      "\u001b[34m[21:17:06] src/tree/updater_prune.cc:74: tree pruning end, 1 roots, 36 extra nodes, 0 pruned nodes, max_depth=5\u001b[0m\n",
      "\u001b[34m[25]#011train-error:0.175867#011validation-error:0.2008\u001b[0m\n",
      "\u001b[34m[21:17:08] src/tree/updater_prune.cc:74: tree pruning end, 1 roots, 22 extra nodes, 4 pruned nodes, max_depth=5\u001b[0m\n",
      "\u001b[34m[26]#011train-error:0.1738#011validation-error:0.2004\u001b[0m\n",
      "\u001b[34m[21:17:09] src/tree/updater_prune.cc:74: tree pruning end, 1 roots, 28 extra nodes, 10 pruned nodes, max_depth=5\u001b[0m\n",
      "\u001b[34m[27]#011train-error:0.171267#011validation-error:0.1978\u001b[0m\n",
      "\u001b[34m[21:17:10] src/tree/updater_prune.cc:74: tree pruning end, 1 roots, 26 extra nodes, 16 pruned nodes, max_depth=5\u001b[0m\n",
      "\u001b[34m[28]#011train-error:0.169067#011validation-error:0.1977\u001b[0m\n",
      "\u001b[34m[21:17:12] src/tree/updater_prune.cc:74: tree pruning end, 1 roots, 22 extra nodes, 10 pruned nodes, max_depth=5\u001b[0m\n",
      "\u001b[34m[29]#011train-error:0.1676#011validation-error:0.1976\u001b[0m\n",
      "\u001b[34m[21:17:13] src/tree/updater_prune.cc:74: tree pruning end, 1 roots, 14 extra nodes, 8 pruned nodes, max_depth=5\u001b[0m\n",
      "\u001b[34m[30]#011train-error:0.167267#011validation-error:0.1961\u001b[0m\n",
      "\u001b[34m[21:17:14] src/tree/updater_prune.cc:74: tree pruning end, 1 roots, 14 extra nodes, 16 pruned nodes, max_depth=5\u001b[0m\n",
      "\u001b[34m[31]#011train-error:0.166467#011validation-error:0.1945\u001b[0m\n",
      "\u001b[34m[21:17:15] src/tree/updater_prune.cc:74: tree pruning end, 1 roots, 30 extra nodes, 10 pruned nodes, max_depth=5\u001b[0m\n",
      "\u001b[34m[32]#011train-error:0.1656#011validation-error:0.1951\u001b[0m\n",
      "\u001b[34m[21:17:17] src/tree/updater_prune.cc:74: tree pruning end, 1 roots, 24 extra nodes, 12 pruned nodes, max_depth=5\u001b[0m\n",
      "\u001b[34m[33]#011train-error:0.1636#011validation-error:0.1937\u001b[0m\n",
      "\u001b[34m[21:17:18] src/tree/updater_prune.cc:74: tree pruning end, 1 roots, 30 extra nodes, 6 pruned nodes, max_depth=5\u001b[0m\n",
      "\u001b[34m[34]#011train-error:0.161467#011validation-error:0.1929\u001b[0m\n",
      "\u001b[34m[21:17:19] src/tree/updater_prune.cc:74: tree pruning end, 1 roots, 30 extra nodes, 12 pruned nodes, max_depth=5\u001b[0m\n",
      "\u001b[34m[35]#011train-error:0.160067#011validation-error:0.1908\u001b[0m\n",
      "\u001b[34m[21:17:21] src/tree/updater_prune.cc:74: tree pruning end, 1 roots, 14 extra nodes, 16 pruned nodes, max_depth=5\u001b[0m\n",
      "\u001b[34m[36]#011train-error:0.159#011validation-error:0.1891\u001b[0m\n",
      "\u001b[34m[21:17:22] src/tree/updater_prune.cc:74: tree pruning end, 1 roots, 16 extra nodes, 12 pruned nodes, max_depth=5\u001b[0m\n",
      "\u001b[34m[37]#011train-error:0.1578#011validation-error:0.1883\u001b[0m\n",
      "\u001b[34m[21:17:23] src/tree/updater_prune.cc:74: tree pruning end, 1 roots, 34 extra nodes, 6 pruned nodes, max_depth=5\u001b[0m\n",
      "\u001b[34m[38]#011train-error:0.155933#011validation-error:0.1878\u001b[0m\n",
      "\u001b[34m[21:17:24] src/tree/updater_prune.cc:74: tree pruning end, 1 roots, 34 extra nodes, 12 pruned nodes, max_depth=5\u001b[0m\n",
      "\u001b[34m[39]#011train-error:0.155133#011validation-error:0.1874\u001b[0m\n",
      "\u001b[34m[21:17:26] src/tree/updater_prune.cc:74: tree pruning end, 1 roots, 20 extra nodes, 10 pruned nodes, max_depth=5\u001b[0m\n",
      "\u001b[34m[40]#011train-error:0.153333#011validation-error:0.1863\u001b[0m\n",
      "\u001b[34m[21:17:27] src/tree/updater_prune.cc:74: tree pruning end, 1 roots, 22 extra nodes, 8 pruned nodes, max_depth=5\u001b[0m\n",
      "\u001b[34m[41]#011train-error:0.152867#011validation-error:0.185\u001b[0m\n",
      "\u001b[34m[21:17:28] src/tree/updater_prune.cc:74: tree pruning end, 1 roots, 16 extra nodes, 8 pruned nodes, max_depth=5\u001b[0m\n",
      "\u001b[34m[42]#011train-error:0.151667#011validation-error:0.1834\u001b[0m\n",
      "\u001b[34m[21:17:29] src/tree/updater_prune.cc:74: tree pruning end, 1 roots, 22 extra nodes, 6 pruned nodes, max_depth=5\u001b[0m\n",
      "\u001b[34m[43]#011train-error:0.150067#011validation-error:0.1812\u001b[0m\n"
     ]
    },
    {
     "name": "stdout",
     "output_type": "stream",
     "text": [
      "\u001b[34m[21:17:31] src/tree/updater_prune.cc:74: tree pruning end, 1 roots, 12 extra nodes, 18 pruned nodes, max_depth=5\u001b[0m\n",
      "\u001b[34m[44]#011train-error:0.149#011validation-error:0.1805\u001b[0m\n",
      "\u001b[34m[21:17:32] src/tree/updater_prune.cc:74: tree pruning end, 1 roots, 28 extra nodes, 6 pruned nodes, max_depth=5\u001b[0m\n",
      "\u001b[34m[45]#011train-error:0.1474#011validation-error:0.1812\u001b[0m\n",
      "\u001b[34m[21:17:33] src/tree/updater_prune.cc:74: tree pruning end, 1 roots, 32 extra nodes, 12 pruned nodes, max_depth=5\u001b[0m\n",
      "\u001b[34m[46]#011train-error:0.145533#011validation-error:0.1812\u001b[0m\n",
      "\u001b[34m[21:17:34] src/tree/updater_prune.cc:74: tree pruning end, 1 roots, 30 extra nodes, 14 pruned nodes, max_depth=5\u001b[0m\n",
      "\u001b[34m[47]#011train-error:0.1442#011validation-error:0.1818\u001b[0m\n",
      "\u001b[34m[21:17:36] src/tree/updater_prune.cc:74: tree pruning end, 1 roots, 32 extra nodes, 6 pruned nodes, max_depth=5\u001b[0m\n",
      "\u001b[34m[48]#011train-error:0.142533#011validation-error:0.1815\u001b[0m\n",
      "\u001b[34m[21:17:37] src/tree/updater_prune.cc:74: tree pruning end, 1 roots, 16 extra nodes, 8 pruned nodes, max_depth=5\u001b[0m\n",
      "\u001b[34m[49]#011train-error:0.140133#011validation-error:0.1795\u001b[0m\n",
      "\u001b[34m[21:17:38] src/tree/updater_prune.cc:74: tree pruning end, 1 roots, 22 extra nodes, 10 pruned nodes, max_depth=5\u001b[0m\n",
      "\u001b[34m[50]#011train-error:0.1386#011validation-error:0.1779\u001b[0m\n",
      "\u001b[34m[21:17:40] src/tree/updater_prune.cc:74: tree pruning end, 1 roots, 36 extra nodes, 10 pruned nodes, max_depth=5\u001b[0m\n",
      "\u001b[34m[51]#011train-error:0.135933#011validation-error:0.1781\u001b[0m\n",
      "\u001b[34m[21:17:41] src/tree/updater_prune.cc:74: tree pruning end, 1 roots, 24 extra nodes, 12 pruned nodes, max_depth=5\u001b[0m\n",
      "\u001b[34m[52]#011train-error:0.1348#011validation-error:0.1765\u001b[0m\n",
      "\u001b[34m[21:17:42] src/tree/updater_prune.cc:74: tree pruning end, 1 roots, 26 extra nodes, 6 pruned nodes, max_depth=5\u001b[0m\n",
      "\u001b[34m[53]#011train-error:0.134133#011validation-error:0.1744\u001b[0m\n",
      "\u001b[34m[21:17:43] src/tree/updater_prune.cc:74: tree pruning end, 1 roots, 22 extra nodes, 8 pruned nodes, max_depth=5\u001b[0m\n",
      "\u001b[34m[54]#011train-error:0.132467#011validation-error:0.1742\u001b[0m\n",
      "\u001b[34m[21:17:45] src/tree/updater_prune.cc:74: tree pruning end, 1 roots, 18 extra nodes, 4 pruned nodes, max_depth=5\u001b[0m\n",
      "\u001b[34m[55]#011train-error:0.1314#011validation-error:0.1721\u001b[0m\n",
      "\u001b[34m[21:17:46] src/tree/updater_prune.cc:74: tree pruning end, 1 roots, 18 extra nodes, 14 pruned nodes, max_depth=5\u001b[0m\n",
      "\u001b[34m[56]#011train-error:0.130867#011validation-error:0.1699\u001b[0m\n",
      "\u001b[34m[21:17:47] src/tree/updater_prune.cc:74: tree pruning end, 1 roots, 22 extra nodes, 8 pruned nodes, max_depth=5\u001b[0m\n",
      "\u001b[34m[57]#011train-error:0.13#011validation-error:0.1705\u001b[0m\n",
      "\u001b[34m[21:17:48] src/tree/updater_prune.cc:74: tree pruning end, 1 roots, 24 extra nodes, 2 pruned nodes, max_depth=5\u001b[0m\n",
      "\u001b[34m[58]#011train-error:0.129733#011validation-error:0.1694\u001b[0m\n",
      "\u001b[34m[21:17:50] src/tree/updater_prune.cc:74: tree pruning end, 1 roots, 10 extra nodes, 6 pruned nodes, max_depth=5\u001b[0m\n",
      "\u001b[34m[59]#011train-error:0.128733#011validation-error:0.1694\u001b[0m\n",
      "\u001b[34m[21:17:51] src/tree/updater_prune.cc:74: tree pruning end, 1 roots, 26 extra nodes, 8 pruned nodes, max_depth=5\u001b[0m\n",
      "\u001b[34m[60]#011train-error:0.127667#011validation-error:0.169\u001b[0m\n",
      "\u001b[34m[21:17:52] src/tree/updater_prune.cc:74: tree pruning end, 1 roots, 34 extra nodes, 6 pruned nodes, max_depth=5\u001b[0m\n",
      "\u001b[34m[61]#011train-error:0.126067#011validation-error:0.1673\u001b[0m\n",
      "\u001b[34m[21:17:53] src/tree/updater_prune.cc:74: tree pruning end, 1 roots, 16 extra nodes, 10 pruned nodes, max_depth=5\u001b[0m\n",
      "\u001b[34m[62]#011train-error:0.125133#011validation-error:0.1693\u001b[0m\n",
      "\u001b[34m[21:17:55] src/tree/updater_prune.cc:74: tree pruning end, 1 roots, 20 extra nodes, 4 pruned nodes, max_depth=5\u001b[0m\n",
      "\u001b[34m[63]#011train-error:0.123667#011validation-error:0.1687\u001b[0m\n",
      "\u001b[34m[21:17:56] src/tree/updater_prune.cc:74: tree pruning end, 1 roots, 12 extra nodes, 6 pruned nodes, max_depth=5\u001b[0m\n",
      "\u001b[34m[64]#011train-error:0.123267#011validation-error:0.1682\u001b[0m\n",
      "\u001b[34m[21:17:57] src/tree/updater_prune.cc:74: tree pruning end, 1 roots, 16 extra nodes, 10 pruned nodes, max_depth=5\u001b[0m\n",
      "\u001b[34m[65]#011train-error:0.123133#011validation-error:0.1676\u001b[0m\n",
      "\u001b[34m[21:17:59] src/tree/updater_prune.cc:74: tree pruning end, 1 roots, 12 extra nodes, 14 pruned nodes, max_depth=5\u001b[0m\n",
      "\u001b[34m[66]#011train-error:0.123333#011validation-error:0.1669\u001b[0m\n",
      "\u001b[34m[21:18:00] src/tree/updater_prune.cc:74: tree pruning end, 1 roots, 28 extra nodes, 6 pruned nodes, max_depth=5\u001b[0m\n",
      "\u001b[34m[67]#011train-error:0.1226#011validation-error:0.1661\u001b[0m\n",
      "\u001b[34m[21:18:01] src/tree/updater_prune.cc:74: tree pruning end, 1 roots, 24 extra nodes, 10 pruned nodes, max_depth=5\u001b[0m\n",
      "\u001b[34m[68]#011train-error:0.121067#011validation-error:0.1665\u001b[0m\n",
      "\u001b[34m[21:18:02] src/tree/updater_prune.cc:74: tree pruning end, 1 roots, 16 extra nodes, 8 pruned nodes, max_depth=5\u001b[0m\n",
      "\u001b[34m[69]#011train-error:0.121267#011validation-error:0.1668\u001b[0m\n",
      "\u001b[34m[21:18:04] src/tree/updater_prune.cc:74: tree pruning end, 1 roots, 18 extra nodes, 4 pruned nodes, max_depth=5\u001b[0m\n",
      "\u001b[34m[70]#011train-error:0.120867#011validation-error:0.1655\u001b[0m\n",
      "\u001b[34m[21:18:05] src/tree/updater_prune.cc:74: tree pruning end, 1 roots, 22 extra nodes, 12 pruned nodes, max_depth=5\u001b[0m\n",
      "\u001b[34m[71]#011train-error:0.120733#011validation-error:0.1662\u001b[0m\n",
      "\u001b[34m[21:18:06] src/tree/updater_prune.cc:74: tree pruning end, 1 roots, 26 extra nodes, 6 pruned nodes, max_depth=5\u001b[0m\n",
      "\u001b[34m[72]#011train-error:0.1194#011validation-error:0.1659\u001b[0m\n",
      "\u001b[34m[21:18:07] src/tree/updater_prune.cc:74: tree pruning end, 1 roots, 16 extra nodes, 14 pruned nodes, max_depth=5\u001b[0m\n",
      "\u001b[34m[73]#011train-error:0.1194#011validation-error:0.1644\u001b[0m\n",
      "\u001b[34m[21:18:09] src/tree/updater_prune.cc:74: tree pruning end, 1 roots, 20 extra nodes, 6 pruned nodes, max_depth=5\u001b[0m\n",
      "\u001b[34m[74]#011train-error:0.119533#011validation-error:0.1639\u001b[0m\n",
      "\u001b[34m[21:18:10] src/tree/updater_prune.cc:74: tree pruning end, 1 roots, 10 extra nodes, 8 pruned nodes, max_depth=5\u001b[0m\n",
      "\u001b[34m[75]#011train-error:0.118467#011validation-error:0.1628\u001b[0m\n",
      "\u001b[34m[21:18:11] src/tree/updater_prune.cc:74: tree pruning end, 1 roots, 22 extra nodes, 12 pruned nodes, max_depth=5\u001b[0m\n",
      "\u001b[34m[76]#011train-error:0.117733#011validation-error:0.1625\u001b[0m\n",
      "\u001b[34m[21:18:12] src/tree/updater_prune.cc:74: tree pruning end, 1 roots, 28 extra nodes, 6 pruned nodes, max_depth=5\u001b[0m\n",
      "\u001b[34m[77]#011train-error:0.1168#011validation-error:0.1613\u001b[0m\n",
      "\u001b[34m[21:18:14] src/tree/updater_prune.cc:74: tree pruning end, 1 roots, 18 extra nodes, 10 pruned nodes, max_depth=5\u001b[0m\n",
      "\u001b[34m[78]#011train-error:0.115733#011validation-error:0.1609\u001b[0m\n",
      "\u001b[34m[21:18:15] src/tree/updater_prune.cc:74: tree pruning end, 1 roots, 30 extra nodes, 14 pruned nodes, max_depth=5\u001b[0m\n",
      "\u001b[34m[79]#011train-error:0.114333#011validation-error:0.1618\u001b[0m\n",
      "\u001b[34m[21:18:16] src/tree/updater_prune.cc:74: tree pruning end, 1 roots, 18 extra nodes, 10 pruned nodes, max_depth=5\u001b[0m\n",
      "\u001b[34m[80]#011train-error:0.114267#011validation-error:0.1607\u001b[0m\n",
      "\u001b[34m[21:18:18] src/tree/updater_prune.cc:74: tree pruning end, 1 roots, 42 extra nodes, 6 pruned nodes, max_depth=5\u001b[0m\n",
      "\u001b[34m[81]#011train-error:0.112933#011validation-error:0.1603\u001b[0m\n",
      "\u001b[34m[21:18:19] src/tree/updater_prune.cc:74: tree pruning end, 1 roots, 22 extra nodes, 8 pruned nodes, max_depth=5\u001b[0m\n",
      "\u001b[34m[82]#011train-error:0.112667#011validation-error:0.1601\u001b[0m\n",
      "\u001b[34m[21:18:20] src/tree/updater_prune.cc:74: tree pruning end, 1 roots, 16 extra nodes, 10 pruned nodes, max_depth=5\u001b[0m\n",
      "\u001b[34m[83]#011train-error:0.112133#011validation-error:0.1598\u001b[0m\n",
      "\u001b[34m[21:18:21] src/tree/updater_prune.cc:74: tree pruning end, 1 roots, 14 extra nodes, 16 pruned nodes, max_depth=5\u001b[0m\n",
      "\u001b[34m[84]#011train-error:0.112333#011validation-error:0.1592\u001b[0m\n",
      "\u001b[34m[21:18:23] src/tree/updater_prune.cc:74: tree pruning end, 1 roots, 24 extra nodes, 10 pruned nodes, max_depth=5\u001b[0m\n",
      "\u001b[34m[85]#011train-error:0.1108#011validation-error:0.1589\u001b[0m\n",
      "\u001b[34m[21:18:24] src/tree/updater_prune.cc:74: tree pruning end, 1 roots, 14 extra nodes, 8 pruned nodes, max_depth=5\u001b[0m\n",
      "\u001b[34m[86]#011train-error:0.110467#011validation-error:0.1585\u001b[0m\n",
      "\u001b[34m[21:18:25] src/tree/updater_prune.cc:74: tree pruning end, 1 roots, 14 extra nodes, 4 pruned nodes, max_depth=5\u001b[0m\n",
      "\u001b[34m[87]#011train-error:0.109867#011validation-error:0.1581\u001b[0m\n",
      "\u001b[34m[21:18:26] src/tree/updater_prune.cc:74: tree pruning end, 1 roots, 18 extra nodes, 12 pruned nodes, max_depth=5\u001b[0m\n",
      "\u001b[34m[88]#011train-error:0.110133#011validation-error:0.1575\u001b[0m\n",
      "\u001b[34m[21:18:28] src/tree/updater_prune.cc:74: tree pruning end, 1 roots, 12 extra nodes, 4 pruned nodes, max_depth=5\u001b[0m\n",
      "\u001b[34m[89]#011train-error:0.110333#011validation-error:0.1578\u001b[0m\n",
      "\u001b[34m[21:18:29] src/tree/updater_prune.cc:74: tree pruning end, 1 roots, 12 extra nodes, 12 pruned nodes, max_depth=5\u001b[0m\n",
      "\u001b[34m[90]#011train-error:0.109667#011validation-error:0.1582\u001b[0m\n",
      "\u001b[34m[21:18:30] src/tree/updater_prune.cc:74: tree pruning end, 1 roots, 20 extra nodes, 10 pruned nodes, max_depth=5\u001b[0m\n",
      "\u001b[34m[91]#011train-error:0.108333#011validation-error:0.1588\u001b[0m\n"
     ]
    },
    {
     "name": "stdout",
     "output_type": "stream",
     "text": [
      "\u001b[34m[21:18:31] src/tree/updater_prune.cc:74: tree pruning end, 1 roots, 26 extra nodes, 2 pruned nodes, max_depth=5\u001b[0m\n",
      "\u001b[34m[92]#011train-error:0.107867#011validation-error:0.1584\u001b[0m\n",
      "\u001b[34m[21:18:33] src/tree/updater_prune.cc:74: tree pruning end, 1 roots, 12 extra nodes, 14 pruned nodes, max_depth=5\u001b[0m\n",
      "\u001b[34m[93]#011train-error:0.1078#011validation-error:0.1581\u001b[0m\n",
      "\u001b[34m[21:18:34] src/tree/updater_prune.cc:74: tree pruning end, 1 roots, 24 extra nodes, 6 pruned nodes, max_depth=5\u001b[0m\n",
      "\u001b[34m[94]#011train-error:0.1066#011validation-error:0.1563\u001b[0m\n",
      "\u001b[34m[21:18:35] src/tree/updater_prune.cc:74: tree pruning end, 1 roots, 26 extra nodes, 14 pruned nodes, max_depth=5\u001b[0m\n",
      "\u001b[34m[95]#011train-error:0.106#011validation-error:0.1566\u001b[0m\n",
      "\u001b[34m[21:18:37] src/tree/updater_prune.cc:74: tree pruning end, 1 roots, 14 extra nodes, 6 pruned nodes, max_depth=5\u001b[0m\n",
      "\u001b[34m[96]#011train-error:0.105667#011validation-error:0.1562\u001b[0m\n",
      "\u001b[34m[21:18:38] src/tree/updater_prune.cc:74: tree pruning end, 1 roots, 14 extra nodes, 10 pruned nodes, max_depth=5\u001b[0m\n",
      "\u001b[34m[97]#011train-error:0.105667#011validation-error:0.1554\u001b[0m\n",
      "\u001b[34m[21:18:39] src/tree/updater_prune.cc:74: tree pruning end, 1 roots, 12 extra nodes, 4 pruned nodes, max_depth=5\u001b[0m\n",
      "\u001b[34m[98]#011train-error:0.104867#011validation-error:0.1557\u001b[0m\n",
      "\u001b[34m[21:18:40] src/tree/updater_prune.cc:74: tree pruning end, 1 roots, 14 extra nodes, 10 pruned nodes, max_depth=5\u001b[0m\n",
      "\u001b[34m[99]#011train-error:0.104#011validation-error:0.1552\u001b[0m\n",
      "\u001b[34m[21:18:42] src/tree/updater_prune.cc:74: tree pruning end, 1 roots, 20 extra nodes, 14 pruned nodes, max_depth=5\u001b[0m\n",
      "\u001b[34m[100]#011train-error:0.103467#011validation-error:0.1554\u001b[0m\n",
      "\u001b[34m[21:18:43] src/tree/updater_prune.cc:74: tree pruning end, 1 roots, 18 extra nodes, 10 pruned nodes, max_depth=5\u001b[0m\n",
      "\u001b[34m[101]#011train-error:0.1038#011validation-error:0.1551\u001b[0m\n",
      "\u001b[34m[21:18:44] src/tree/updater_prune.cc:74: tree pruning end, 1 roots, 16 extra nodes, 8 pruned nodes, max_depth=5\u001b[0m\n",
      "\u001b[34m[102]#011train-error:0.102867#011validation-error:0.1556\u001b[0m\n",
      "\u001b[34m[21:18:45] src/tree/updater_prune.cc:74: tree pruning end, 1 roots, 16 extra nodes, 2 pruned nodes, max_depth=5\u001b[0m\n",
      "\u001b[34m[103]#011train-error:0.1028#011validation-error:0.1558\u001b[0m\n",
      "\u001b[34m[21:18:47] src/tree/updater_prune.cc:74: tree pruning end, 1 roots, 26 extra nodes, 12 pruned nodes, max_depth=5\u001b[0m\n",
      "\u001b[34m[104]#011train-error:0.1014#011validation-error:0.1555\u001b[0m\n",
      "\u001b[34m[21:18:48] src/tree/updater_prune.cc:74: tree pruning end, 1 roots, 10 extra nodes, 10 pruned nodes, max_depth=5\u001b[0m\n",
      "\u001b[34m[105]#011train-error:0.1016#011validation-error:0.1557\u001b[0m\n",
      "\u001b[34m[21:18:49] src/tree/updater_prune.cc:74: tree pruning end, 1 roots, 18 extra nodes, 14 pruned nodes, max_depth=5\u001b[0m\n",
      "\u001b[34m[106]#011train-error:0.101667#011validation-error:0.156\u001b[0m\n",
      "\u001b[34m[21:18:51] src/tree/updater_prune.cc:74: tree pruning end, 1 roots, 14 extra nodes, 14 pruned nodes, max_depth=5\u001b[0m\n",
      "\u001b[34m[107]#011train-error:0.101267#011validation-error:0.156\u001b[0m\n",
      "\u001b[34m[21:18:52] src/tree/updater_prune.cc:74: tree pruning end, 1 roots, 14 extra nodes, 8 pruned nodes, max_depth=5\u001b[0m\n",
      "\u001b[34m[108]#011train-error:0.101267#011validation-error:0.1551\u001b[0m\n",
      "\u001b[34m[21:18:53] src/tree/updater_prune.cc:74: tree pruning end, 1 roots, 26 extra nodes, 6 pruned nodes, max_depth=5\u001b[0m\n",
      "\u001b[34m[109]#011train-error:0.100733#011validation-error:0.1541\u001b[0m\n",
      "\u001b[34m[21:18:54] src/tree/updater_prune.cc:74: tree pruning end, 1 roots, 18 extra nodes, 24 pruned nodes, max_depth=5\u001b[0m\n",
      "\u001b[34m[110]#011train-error:0.100533#011validation-error:0.1545\u001b[0m\n",
      "\u001b[34m[21:18:56] src/tree/updater_prune.cc:74: tree pruning end, 1 roots, 20 extra nodes, 4 pruned nodes, max_depth=5\u001b[0m\n",
      "\u001b[34m[111]#011train-error:0.1002#011validation-error:0.1545\u001b[0m\n",
      "\u001b[34m[21:18:57] src/tree/updater_prune.cc:74: tree pruning end, 1 roots, 12 extra nodes, 8 pruned nodes, max_depth=5\u001b[0m\n",
      "\u001b[34m[112]#011train-error:0.099933#011validation-error:0.1542\u001b[0m\n",
      "\u001b[34m[21:18:58] src/tree/updater_prune.cc:74: tree pruning end, 1 roots, 16 extra nodes, 20 pruned nodes, max_depth=5\u001b[0m\n",
      "\u001b[34m[113]#011train-error:0.098933#011validation-error:0.1528\u001b[0m\n",
      "\u001b[34m[21:18:59] src/tree/updater_prune.cc:74: tree pruning end, 1 roots, 14 extra nodes, 6 pruned nodes, max_depth=5\u001b[0m\n",
      "\u001b[34m[114]#011train-error:0.098933#011validation-error:0.1526\u001b[0m\n",
      "\u001b[34m[21:19:01] src/tree/updater_prune.cc:74: tree pruning end, 1 roots, 38 extra nodes, 4 pruned nodes, max_depth=5\u001b[0m\n",
      "\u001b[34m[115]#011train-error:0.0976#011validation-error:0.1534\u001b[0m\n",
      "\u001b[34m[21:19:02] src/tree/updater_prune.cc:74: tree pruning end, 1 roots, 20 extra nodes, 10 pruned nodes, max_depth=5\u001b[0m\n",
      "\u001b[34m[116]#011train-error:0.097133#011validation-error:0.1529\u001b[0m\n",
      "\u001b[34m[21:19:03] src/tree/updater_prune.cc:74: tree pruning end, 1 roots, 16 extra nodes, 12 pruned nodes, max_depth=5\u001b[0m\n",
      "\u001b[34m[117]#011train-error:0.096733#011validation-error:0.1524\u001b[0m\n",
      "\u001b[34m[21:19:04] src/tree/updater_prune.cc:74: tree pruning end, 1 roots, 30 extra nodes, 12 pruned nodes, max_depth=5\u001b[0m\n",
      "\u001b[34m[118]#011train-error:0.096#011validation-error:0.1531\u001b[0m\n",
      "\u001b[34m[21:19:06] src/tree/updater_prune.cc:74: tree pruning end, 1 roots, 22 extra nodes, 10 pruned nodes, max_depth=5\u001b[0m\n",
      "\u001b[34m[119]#011train-error:0.095333#011validation-error:0.1525\u001b[0m\n",
      "\u001b[34m[21:19:07] src/tree/updater_prune.cc:74: tree pruning end, 1 roots, 10 extra nodes, 8 pruned nodes, max_depth=5\u001b[0m\n",
      "\u001b[34m[120]#011train-error:0.095067#011validation-error:0.1524\u001b[0m\n",
      "\u001b[34m[21:19:08] src/tree/updater_prune.cc:74: tree pruning end, 1 roots, 14 extra nodes, 18 pruned nodes, max_depth=5\u001b[0m\n",
      "\u001b[34m[121]#011train-error:0.094867#011validation-error:0.1518\u001b[0m\n",
      "\u001b[34m[21:19:09] src/tree/updater_prune.cc:74: tree pruning end, 1 roots, 22 extra nodes, 10 pruned nodes, max_depth=5\u001b[0m\n",
      "\u001b[34m[122]#011train-error:0.094733#011validation-error:0.1523\u001b[0m\n",
      "\u001b[34m[21:19:11] src/tree/updater_prune.cc:74: tree pruning end, 1 roots, 16 extra nodes, 2 pruned nodes, max_depth=5\u001b[0m\n",
      "\u001b[34m[123]#011train-error:0.0942#011validation-error:0.1522\u001b[0m\n",
      "\u001b[34m[21:19:12] src/tree/updater_prune.cc:74: tree pruning end, 1 roots, 18 extra nodes, 4 pruned nodes, max_depth=5\u001b[0m\n",
      "\u001b[34m[124]#011train-error:0.094133#011validation-error:0.1521\u001b[0m\n",
      "\u001b[34m[21:19:13] src/tree/updater_prune.cc:74: tree pruning end, 1 roots, 12 extra nodes, 6 pruned nodes, max_depth=5\u001b[0m\n",
      "\u001b[34m[125]#011train-error:0.093867#011validation-error:0.152\u001b[0m\n",
      "\u001b[34m[21:19:15] src/tree/updater_prune.cc:74: tree pruning end, 1 roots, 16 extra nodes, 10 pruned nodes, max_depth=5\u001b[0m\n",
      "\u001b[34m[126]#011train-error:0.093067#011validation-error:0.1511\u001b[0m\n",
      "\u001b[34m[21:19:16] src/tree/updater_prune.cc:74: tree pruning end, 1 roots, 14 extra nodes, 6 pruned nodes, max_depth=5\u001b[0m\n",
      "\u001b[34m[127]#011train-error:0.0924#011validation-error:0.1512\u001b[0m\n",
      "\u001b[34m[21:19:17] src/tree/updater_prune.cc:74: tree pruning end, 1 roots, 14 extra nodes, 8 pruned nodes, max_depth=5\u001b[0m\n",
      "\u001b[34m[128]#011train-error:0.092267#011validation-error:0.1506\u001b[0m\n",
      "\u001b[34m[21:19:18] src/tree/updater_prune.cc:74: tree pruning end, 1 roots, 28 extra nodes, 10 pruned nodes, max_depth=5\u001b[0m\n",
      "\u001b[34m[129]#011train-error:0.091067#011validation-error:0.15\u001b[0m\n",
      "\u001b[34m[21:19:20] src/tree/updater_prune.cc:74: tree pruning end, 1 roots, 18 extra nodes, 16 pruned nodes, max_depth=5\u001b[0m\n",
      "\u001b[34m[130]#011train-error:0.091267#011validation-error:0.15\u001b[0m\n",
      "\u001b[34m[21:19:21] src/tree/updater_prune.cc:74: tree pruning end, 1 roots, 12 extra nodes, 2 pruned nodes, max_depth=5\u001b[0m\n",
      "\u001b[34m[131]#011train-error:0.091267#011validation-error:0.1492\u001b[0m\n",
      "\u001b[34m[21:19:22] src/tree/updater_prune.cc:74: tree pruning end, 1 roots, 14 extra nodes, 6 pruned nodes, max_depth=5\u001b[0m\n",
      "\u001b[34m[132]#011train-error:0.091333#011validation-error:0.1492\u001b[0m\n",
      "\u001b[34m[21:19:23] src/tree/updater_prune.cc:74: tree pruning end, 1 roots, 22 extra nodes, 10 pruned nodes, max_depth=5\u001b[0m\n",
      "\u001b[34m[133]#011train-error:0.091067#011validation-error:0.1494\u001b[0m\n",
      "\u001b[34m[21:19:25] src/tree/updater_prune.cc:74: tree pruning end, 1 roots, 24 extra nodes, 4 pruned nodes, max_depth=5\u001b[0m\n",
      "\u001b[34m[134]#011train-error:0.090067#011validation-error:0.1488\u001b[0m\n",
      "\u001b[34m[21:19:26] src/tree/updater_prune.cc:74: tree pruning end, 1 roots, 24 extra nodes, 6 pruned nodes, max_depth=5\u001b[0m\n",
      "\u001b[34m[135]#011train-error:0.089667#011validation-error:0.1482\u001b[0m\n",
      "\u001b[34m[21:19:27] src/tree/updater_prune.cc:74: tree pruning end, 1 roots, 16 extra nodes, 8 pruned nodes, max_depth=5\u001b[0m\n",
      "\u001b[34m[136]#011train-error:0.089067#011validation-error:0.1486\u001b[0m\n",
      "\u001b[34m[21:19:28] src/tree/updater_prune.cc:74: tree pruning end, 1 roots, 12 extra nodes, 6 pruned nodes, max_depth=5\u001b[0m\n",
      "\u001b[34m[137]#011train-error:0.0884#011validation-error:0.1491\u001b[0m\n",
      "\u001b[34m[21:19:30] src/tree/updater_prune.cc:74: tree pruning end, 1 roots, 12 extra nodes, 6 pruned nodes, max_depth=5\u001b[0m\n",
      "\u001b[34m[138]#011train-error:0.0878#011validation-error:0.1485\u001b[0m\n",
      "\u001b[34m[21:19:31] src/tree/updater_prune.cc:74: tree pruning end, 1 roots, 16 extra nodes, 10 pruned nodes, max_depth=5\u001b[0m\n",
      "\u001b[34m[139]#011train-error:0.0876#011validation-error:0.1484\u001b[0m\n"
     ]
    },
    {
     "name": "stdout",
     "output_type": "stream",
     "text": [
      "\u001b[34m[21:19:32] src/tree/updater_prune.cc:74: tree pruning end, 1 roots, 32 extra nodes, 8 pruned nodes, max_depth=5\u001b[0m\n",
      "\u001b[34m[140]#011train-error:0.088067#011validation-error:0.1482\u001b[0m\n",
      "\u001b[34m[21:19:34] src/tree/updater_prune.cc:74: tree pruning end, 1 roots, 24 extra nodes, 4 pruned nodes, max_depth=5\u001b[0m\n",
      "\u001b[34m[141]#011train-error:0.0874#011validation-error:0.1484\u001b[0m\n",
      "\u001b[34m[21:19:35] src/tree/updater_prune.cc:74: tree pruning end, 1 roots, 14 extra nodes, 12 pruned nodes, max_depth=5\u001b[0m\n",
      "\u001b[34m[142]#011train-error:0.0866#011validation-error:0.1484\u001b[0m\n",
      "\u001b[34m[21:19:36] src/tree/updater_prune.cc:74: tree pruning end, 1 roots, 16 extra nodes, 14 pruned nodes, max_depth=5\u001b[0m\n",
      "\u001b[34m[143]#011train-error:0.086067#011validation-error:0.1479\u001b[0m\n",
      "\u001b[34m[21:19:37] src/tree/updater_prune.cc:74: tree pruning end, 1 roots, 10 extra nodes, 10 pruned nodes, max_depth=5\u001b[0m\n",
      "\u001b[34m[144]#011train-error:0.085933#011validation-error:0.1482\u001b[0m\n",
      "\u001b[34m[21:19:39] src/tree/updater_prune.cc:74: tree pruning end, 1 roots, 12 extra nodes, 4 pruned nodes, max_depth=5\u001b[0m\n",
      "\u001b[34m[145]#011train-error:0.086333#011validation-error:0.1475\u001b[0m\n",
      "\u001b[34m[21:19:40] src/tree/updater_prune.cc:74: tree pruning end, 1 roots, 12 extra nodes, 0 pruned nodes, max_depth=5\u001b[0m\n",
      "\u001b[34m[146]#011train-error:0.086133#011validation-error:0.1471\u001b[0m\n",
      "\u001b[34m[21:19:41] src/tree/updater_prune.cc:74: tree pruning end, 1 roots, 14 extra nodes, 10 pruned nodes, max_depth=5\u001b[0m\n",
      "\u001b[34m[147]#011train-error:0.085933#011validation-error:0.1469\u001b[0m\n",
      "\u001b[34m[21:19:42] src/tree/updater_prune.cc:74: tree pruning end, 1 roots, 18 extra nodes, 4 pruned nodes, max_depth=5\u001b[0m\n",
      "\u001b[34m[148]#011train-error:0.085733#011validation-error:0.1465\u001b[0m\n",
      "\u001b[34m[21:19:44] src/tree/updater_prune.cc:74: tree pruning end, 1 roots, 14 extra nodes, 14 pruned nodes, max_depth=5\u001b[0m\n",
      "\u001b[34m[149]#011train-error:0.085667#011validation-error:0.146\u001b[0m\n",
      "\u001b[34m[21:19:45] src/tree/updater_prune.cc:74: tree pruning end, 1 roots, 22 extra nodes, 8 pruned nodes, max_depth=5\u001b[0m\n",
      "\u001b[34m[150]#011train-error:0.0846#011validation-error:0.1454\u001b[0m\n",
      "\u001b[34m[21:19:46] src/tree/updater_prune.cc:74: tree pruning end, 1 roots, 14 extra nodes, 12 pruned nodes, max_depth=5\u001b[0m\n",
      "\u001b[34m[151]#011train-error:0.083867#011validation-error:0.1454\u001b[0m\n",
      "\u001b[34m[21:19:48] src/tree/updater_prune.cc:74: tree pruning end, 1 roots, 10 extra nodes, 8 pruned nodes, max_depth=5\u001b[0m\n",
      "\u001b[34m[152]#011train-error:0.084#011validation-error:0.145\u001b[0m\n",
      "\u001b[34m[21:19:49] src/tree/updater_prune.cc:74: tree pruning end, 1 roots, 12 extra nodes, 12 pruned nodes, max_depth=5\u001b[0m\n",
      "\u001b[34m[153]#011train-error:0.084067#011validation-error:0.1441\u001b[0m\n",
      "\u001b[34m[21:19:50] src/tree/updater_prune.cc:74: tree pruning end, 1 roots, 12 extra nodes, 4 pruned nodes, max_depth=5\u001b[0m\n",
      "\u001b[34m[154]#011train-error:0.084#011validation-error:0.1436\u001b[0m\n",
      "\u001b[34m[21:19:51] src/tree/updater_prune.cc:74: tree pruning end, 1 roots, 14 extra nodes, 6 pruned nodes, max_depth=5\u001b[0m\n",
      "\u001b[34m[155]#011train-error:0.084067#011validation-error:0.1436\u001b[0m\n",
      "\u001b[34m[21:19:53] src/tree/updater_prune.cc:74: tree pruning end, 1 roots, 20 extra nodes, 6 pruned nodes, max_depth=5\u001b[0m\n",
      "\u001b[34m[156]#011train-error:0.083267#011validation-error:0.1434\u001b[0m\n",
      "\u001b[34m[21:19:54] src/tree/updater_prune.cc:74: tree pruning end, 1 roots, 30 extra nodes, 10 pruned nodes, max_depth=5\u001b[0m\n",
      "\u001b[34m[157]#011train-error:0.082733#011validation-error:0.1439\u001b[0m\n",
      "\u001b[34m[21:19:55] src/tree/updater_prune.cc:74: tree pruning end, 1 roots, 12 extra nodes, 16 pruned nodes, max_depth=5\u001b[0m\n",
      "\u001b[34m[158]#011train-error:0.082467#011validation-error:0.1434\u001b[0m\n",
      "\u001b[34m[21:19:57] src/tree/updater_prune.cc:74: tree pruning end, 1 roots, 12 extra nodes, 6 pruned nodes, max_depth=5\u001b[0m\n",
      "\u001b[34m[159]#011train-error:0.0822#011validation-error:0.1433\u001b[0m\n",
      "\u001b[34m[21:19:58] src/tree/updater_prune.cc:74: tree pruning end, 1 roots, 20 extra nodes, 2 pruned nodes, max_depth=5\u001b[0m\n",
      "\u001b[34m[160]#011train-error:0.081867#011validation-error:0.1429\u001b[0m\n",
      "\u001b[34m[21:19:59] src/tree/updater_prune.cc:74: tree pruning end, 1 roots, 10 extra nodes, 10 pruned nodes, max_depth=5\u001b[0m\n",
      "\u001b[34m[161]#011train-error:0.081867#011validation-error:0.1428\u001b[0m\n",
      "\u001b[34m[21:20:00] src/tree/updater_prune.cc:74: tree pruning end, 1 roots, 12 extra nodes, 8 pruned nodes, max_depth=5\u001b[0m\n",
      "\u001b[34m[162]#011train-error:0.0814#011validation-error:0.1422\u001b[0m\n",
      "\u001b[34m[21:20:02] src/tree/updater_prune.cc:74: tree pruning end, 1 roots, 12 extra nodes, 16 pruned nodes, max_depth=5\u001b[0m\n",
      "\u001b[34m[163]#011train-error:0.081333#011validation-error:0.1433\u001b[0m\n",
      "\u001b[34m[21:20:03] src/tree/updater_prune.cc:74: tree pruning end, 1 roots, 12 extra nodes, 2 pruned nodes, max_depth=5\u001b[0m\n",
      "\u001b[34m[164]#011train-error:0.080933#011validation-error:0.1433\u001b[0m\n",
      "\u001b[34m[21:20:04] src/tree/updater_prune.cc:74: tree pruning end, 1 roots, 12 extra nodes, 10 pruned nodes, max_depth=5\u001b[0m\n",
      "\u001b[34m[165]#011train-error:0.0804#011validation-error:0.1435\u001b[0m\n",
      "\u001b[34m[21:20:05] src/tree/updater_prune.cc:74: tree pruning end, 1 roots, 10 extra nodes, 8 pruned nodes, max_depth=5\u001b[0m\n",
      "\u001b[34m[166]#011train-error:0.080467#011validation-error:0.1439\u001b[0m\n",
      "\u001b[34m[21:20:07] src/tree/updater_prune.cc:74: tree pruning end, 1 roots, 12 extra nodes, 2 pruned nodes, max_depth=5\u001b[0m\n",
      "\u001b[34m[167]#011train-error:0.0808#011validation-error:0.1433\u001b[0m\n",
      "\u001b[34m[21:20:08] src/tree/updater_prune.cc:74: tree pruning end, 1 roots, 10 extra nodes, 2 pruned nodes, max_depth=5\u001b[0m\n",
      "\u001b[34m[168]#011train-error:0.080667#011validation-error:0.1433\u001b[0m\n",
      "\u001b[34m[21:20:09] src/tree/updater_prune.cc:74: tree pruning end, 1 roots, 12 extra nodes, 10 pruned nodes, max_depth=5\u001b[0m\n",
      "\u001b[34m[169]#011train-error:0.079867#011validation-error:0.142\u001b[0m\n",
      "\u001b[34m[21:20:10] src/tree/updater_prune.cc:74: tree pruning end, 1 roots, 20 extra nodes, 16 pruned nodes, max_depth=5\u001b[0m\n",
      "\u001b[34m[170]#011train-error:0.0794#011validation-error:0.142\u001b[0m\n",
      "\u001b[34m[21:20:12] src/tree/updater_prune.cc:74: tree pruning end, 1 roots, 26 extra nodes, 18 pruned nodes, max_depth=5\u001b[0m\n",
      "\u001b[34m[171]#011train-error:0.078667#011validation-error:0.142\u001b[0m\n",
      "\n",
      "2020-07-28 21:20:24 Uploading - Uploading generated training model\u001b[34m[21:20:13] src/tree/updater_prune.cc:74: tree pruning end, 1 roots, 10 extra nodes, 10 pruned nodes, max_depth=5\u001b[0m\n",
      "\u001b[34m[172]#011train-error:0.079067#011validation-error:0.1424\u001b[0m\n",
      "\u001b[34m[21:20:14] src/tree/updater_prune.cc:74: tree pruning end, 1 roots, 12 extra nodes, 6 pruned nodes, max_depth=5\u001b[0m\n",
      "\u001b[34m[173]#011train-error:0.078533#011validation-error:0.1426\u001b[0m\n",
      "\u001b[34m[21:20:16] src/tree/updater_prune.cc:74: tree pruning end, 1 roots, 20 extra nodes, 6 pruned nodes, max_depth=5\u001b[0m\n",
      "\u001b[34m[174]#011train-error:0.078267#011validation-error:0.142\u001b[0m\n",
      "\u001b[34m[21:20:17] src/tree/updater_prune.cc:74: tree pruning end, 1 roots, 12 extra nodes, 2 pruned nodes, max_depth=5\u001b[0m\n",
      "\u001b[34m[175]#011train-error:0.078#011validation-error:0.1423\u001b[0m\n",
      "\u001b[34m[21:20:18] src/tree/updater_prune.cc:74: tree pruning end, 1 roots, 24 extra nodes, 10 pruned nodes, max_depth=5\u001b[0m\n",
      "\u001b[34m[176]#011train-error:0.077333#011validation-error:0.1424\u001b[0m\n",
      "\u001b[34m[21:20:19] src/tree/updater_prune.cc:74: tree pruning end, 1 roots, 20 extra nodes, 8 pruned nodes, max_depth=5\u001b[0m\n",
      "\u001b[34m[177]#011train-error:0.0768#011validation-error:0.1427\u001b[0m\n",
      "\u001b[34m[21:20:21] src/tree/updater_prune.cc:74: tree pruning end, 1 roots, 10 extra nodes, 8 pruned nodes, max_depth=5\u001b[0m\n",
      "\u001b[34m[178]#011train-error:0.0766#011validation-error:0.1426\u001b[0m\n",
      "\u001b[34m[21:20:22] src/tree/updater_prune.cc:74: tree pruning end, 1 roots, 16 extra nodes, 10 pruned nodes, max_depth=5\u001b[0m\n",
      "\u001b[34m[179]#011train-error:0.076333#011validation-error:0.1434\u001b[0m\n",
      "\u001b[34mStopping. Best iteration:\u001b[0m\n",
      "\u001b[34m[169]#011train-error:0.079867#011validation-error:0.142\n",
      "\u001b[0m\n",
      "\n",
      "2020-07-28 21:20:31 Completed - Training job completed\n",
      "Training seconds: 284\n",
      "Billable seconds: 284\n"
     ]
    }
   ],
   "source": [
    "xgb.fit({'train': s3_input_train, 'validation': s3_input_validation})"
   ]
  },
  {
   "cell_type": "markdown",
   "metadata": {},
   "source": [
    "## Step 5: Testing the model\n",
    "\n",
    "Now that we've fit our XGBoost model, it's time to see how well it performs. To do this we will use SageMakers Batch Transform functionality. Batch Transform is a convenient way to perform inference on a large dataset in a way that is not realtime. That is, we don't necessarily need to use our model's results immediately and instead we can perform inference on a large number of samples. An example of this in industry might be performing an end of month report. This method of inference can also be useful to us as it means that we can perform inference on our entire test set. \n",
    "\n",
    "To perform a Batch Transformation we need to first create a transformer objects from our trained estimator object."
   ]
  },
  {
   "cell_type": "code",
   "execution_count": 36,
   "metadata": {},
   "outputs": [
    {
     "name": "stderr",
     "output_type": "stream",
     "text": [
      "Parameter image will be renamed to image_uri in SageMaker Python SDK v2.\n",
      "Using already existing model: xgboost-2020-07-28-21-13-21-379\n"
     ]
    }
   ],
   "source": [
    "xgb_transformer = xgb.transformer(instance_count = 1, instance_type = 'ml.m4.xlarge')"
   ]
  },
  {
   "cell_type": "markdown",
   "metadata": {},
   "source": [
    "Next we actually perform the transform job. When doing so we need to make sure to specify the type of data we are sending so that it is serialized correctly in the background. In our case we are providing our model with csv data so we specify `text/csv`. Also, if the test data that we have provided is too large to process all at once then we need to specify how the data file should be split up. Since each line is a single entry in our data set we tell SageMaker that it can split the input on each line."
   ]
  },
  {
   "cell_type": "code",
   "execution_count": 37,
   "metadata": {},
   "outputs": [],
   "source": [
    "xgb_transformer.transform(test_location, content_type='text/csv', split_type='Line')"
   ]
  },
  {
   "cell_type": "markdown",
   "metadata": {},
   "source": [
    "Currently the transform job is running but it is doing so in the background. Since we wish to wait until the transform job is done and we would like a bit of feedback we can run the `wait()` method."
   ]
  },
  {
   "cell_type": "code",
   "execution_count": 38,
   "metadata": {},
   "outputs": [
    {
     "name": "stdout",
     "output_type": "stream",
     "text": [
      "....................\u001b[34mArguments: serve\u001b[0m\n",
      "\u001b[34m[2020-07-28 21:39:04 +0000] [1] [INFO] Starting gunicorn 19.7.1\u001b[0m\n",
      "\u001b[34m[2020-07-28 21:39:04 +0000] [1] [INFO] Listening at: http://0.0.0.0:8080 (1)\u001b[0m\n",
      "\u001b[34m[2020-07-28 21:39:04 +0000] [1] [INFO] Using worker: gevent\u001b[0m\n",
      "\u001b[34m[2020-07-28 21:39:04 +0000] [38] [INFO] Booting worker with pid: 38\u001b[0m\n",
      "\u001b[34m[2020-07-28 21:39:04 +0000] [39] [INFO] Booting worker with pid: 39\u001b[0m\n",
      "\u001b[34m[2020-07-28 21:39:04 +0000] [40] [INFO] Booting worker with pid: 40\u001b[0m\n",
      "\u001b[34m[2020-07-28 21:39:04 +0000] [41] [INFO] Booting worker with pid: 41\u001b[0m\n",
      "\u001b[34m[2020-07-28:21:39:05:INFO] Model loaded successfully for worker : 38\u001b[0m\n",
      "\u001b[34m[2020-07-28:21:39:05:INFO] Model loaded successfully for worker : 39\u001b[0m\n",
      "\u001b[34m[2020-07-28:21:39:05:INFO] Model loaded successfully for worker : 40\u001b[0m\n",
      "\u001b[34m[2020-07-28:21:39:05:INFO] Model loaded successfully for worker : 41\u001b[0m\n",
      "\u001b[34m[2020-07-28:21:39:18:INFO] Sniff delimiter as ','\u001b[0m\n",
      "\u001b[34m[2020-07-28:21:39:18:INFO] Determined delimiter of CSV input is ','\u001b[0m\n",
      "\u001b[34m[2020-07-28:21:39:18:INFO] Sniff delimiter as ','\u001b[0m\n",
      "\u001b[34m[2020-07-28:21:39:18:INFO] Determined delimiter of CSV input is ','\u001b[0m\n",
      "\u001b[34m[2020-07-28:21:39:18:INFO] Sniff delimiter as ','\u001b[0m\n",
      "\u001b[34m[2020-07-28:21:39:18:INFO] Determined delimiter of CSV input is ','\u001b[0m\n",
      "\u001b[35m[2020-07-28:21:39:18:INFO] Sniff delimiter as ','\u001b[0m\n",
      "\u001b[35m[2020-07-28:21:39:18:INFO] Determined delimiter of CSV input is ','\u001b[0m\n",
      "\u001b[35m[2020-07-28:21:39:18:INFO] Sniff delimiter as ','\u001b[0m\n",
      "\u001b[35m[2020-07-28:21:39:18:INFO] Determined delimiter of CSV input is ','\u001b[0m\n",
      "\u001b[35m[2020-07-28:21:39:18:INFO] Sniff delimiter as ','\u001b[0m\n",
      "\u001b[35m[2020-07-28:21:39:18:INFO] Determined delimiter of CSV input is ','\u001b[0m\n",
      "\u001b[34m[2020-07-28:21:39:19:INFO] Sniff delimiter as ','\u001b[0m\n",
      "\u001b[34m[2020-07-28:21:39:19:INFO] Determined delimiter of CSV input is ','\u001b[0m\n",
      "\u001b[35m[2020-07-28:21:39:19:INFO] Sniff delimiter as ','\u001b[0m\n",
      "\u001b[35m[2020-07-28:21:39:19:INFO] Determined delimiter of CSV input is ','\u001b[0m\n",
      "\u001b[32m2020-07-28T21:39:15.468:[sagemaker logs]: MaxConcurrentTransforms=4, MaxPayloadInMB=6, BatchStrategy=MULTI_RECORD\u001b[0m\n",
      "\u001b[34m[2020-07-28:21:39:21:INFO] Sniff delimiter as ','\u001b[0m\n",
      "\u001b[34m[2020-07-28:21:39:21:INFO] Determined delimiter of CSV input is ','\u001b[0m\n",
      "\u001b[35m[2020-07-28:21:39:21:INFO] Sniff delimiter as ','\u001b[0m\n",
      "\u001b[35m[2020-07-28:21:39:21:INFO] Determined delimiter of CSV input is ','\u001b[0m\n",
      "\u001b[34m[2020-07-28:21:39:21:INFO] Sniff delimiter as ','\u001b[0m\n",
      "\u001b[34m[2020-07-28:21:39:21:INFO] Determined delimiter of CSV input is ','\u001b[0m\n",
      "\u001b[34m[2020-07-28:21:39:21:INFO] Sniff delimiter as ','\u001b[0m\n",
      "\u001b[34m[2020-07-28:21:39:21:INFO] Determined delimiter of CSV input is ','\u001b[0m\n",
      "\u001b[34m[2020-07-28:21:39:21:INFO] Sniff delimiter as ','\u001b[0m\n",
      "\u001b[34m[2020-07-28:21:39:21:INFO] Determined delimiter of CSV input is ','\u001b[0m\n",
      "\u001b[35m[2020-07-28:21:39:21:INFO] Sniff delimiter as ','\u001b[0m\n",
      "\u001b[35m[2020-07-28:21:39:21:INFO] Determined delimiter of CSV input is ','\u001b[0m\n",
      "\u001b[35m[2020-07-28:21:39:21:INFO] Sniff delimiter as ','\u001b[0m\n",
      "\u001b[35m[2020-07-28:21:39:21:INFO] Determined delimiter of CSV input is ','\u001b[0m\n",
      "\u001b[35m[2020-07-28:21:39:21:INFO] Sniff delimiter as ','\u001b[0m\n",
      "\u001b[35m[2020-07-28:21:39:21:INFO] Determined delimiter of CSV input is ','\u001b[0m\n",
      "\u001b[34m[2020-07-28:21:39:23:INFO] Sniff delimiter as ','\u001b[0m\n",
      "\u001b[34m[2020-07-28:21:39:23:INFO] Determined delimiter of CSV input is ','\u001b[0m\n",
      "\u001b[34m[2020-07-28:21:39:23:INFO] Sniff delimiter as ','\u001b[0m\n",
      "\u001b[34m[2020-07-28:21:39:23:INFO] Determined delimiter of CSV input is ','\u001b[0m\n",
      "\u001b[34m[2020-07-28:21:39:23:INFO] Sniff delimiter as ','\u001b[0m\n",
      "\u001b[34m[2020-07-28:21:39:23:INFO] Determined delimiter of CSV input is ','\u001b[0m\n",
      "\u001b[34m[2020-07-28:21:39:24:INFO] Sniff delimiter as ','\u001b[0m\n",
      "\u001b[34m[2020-07-28:21:39:24:INFO] Determined delimiter of CSV input is ','\u001b[0m\n",
      "\u001b[35m[2020-07-28:21:39:23:INFO] Sniff delimiter as ','\u001b[0m\n",
      "\u001b[35m[2020-07-28:21:39:23:INFO] Determined delimiter of CSV input is ','\u001b[0m\n",
      "\u001b[35m[2020-07-28:21:39:23:INFO] Sniff delimiter as ','\u001b[0m\n",
      "\u001b[35m[2020-07-28:21:39:23:INFO] Determined delimiter of CSV input is ','\u001b[0m\n",
      "\u001b[35m[2020-07-28:21:39:23:INFO] Sniff delimiter as ','\u001b[0m\n",
      "\u001b[35m[2020-07-28:21:39:23:INFO] Determined delimiter of CSV input is ','\u001b[0m\n",
      "\u001b[35m[2020-07-28:21:39:24:INFO] Sniff delimiter as ','\u001b[0m\n",
      "\u001b[35m[2020-07-28:21:39:24:INFO] Determined delimiter of CSV input is ','\u001b[0m\n",
      "\u001b[34m[2020-07-28:21:39:25:INFO] Sniff delimiter as ','\u001b[0m\n",
      "\u001b[34m[2020-07-28:21:39:25:INFO] Determined delimiter of CSV input is ','\u001b[0m\n",
      "\u001b[34m[2020-07-28:21:39:26:INFO] Sniff delimiter as ','\u001b[0m\n",
      "\u001b[34m[2020-07-28:21:39:26:INFO] Determined delimiter of CSV input is ','\u001b[0m\n",
      "\u001b[35m[2020-07-28:21:39:25:INFO] Sniff delimiter as ','\u001b[0m\n",
      "\u001b[35m[2020-07-28:21:39:25:INFO] Determined delimiter of CSV input is ','\u001b[0m\n",
      "\u001b[35m[2020-07-28:21:39:26:INFO] Sniff delimiter as ','\u001b[0m\n",
      "\u001b[35m[2020-07-28:21:39:26:INFO] Determined delimiter of CSV input is ','\u001b[0m\n",
      "\u001b[34m[2020-07-28:21:39:26:INFO] Sniff delimiter as ','\u001b[0m\n",
      "\u001b[35m[2020-07-28:21:39:26:INFO] Sniff delimiter as ','\u001b[0m\n",
      "\u001b[34m[2020-07-28:21:39:26:INFO] Determined delimiter of CSV input is ','\u001b[0m\n",
      "\u001b[34m[2020-07-28:21:39:26:INFO] Sniff delimiter as ','\u001b[0m\n",
      "\u001b[34m[2020-07-28:21:39:26:INFO] Determined delimiter of CSV input is ','\u001b[0m\n",
      "\u001b[35m[2020-07-28:21:39:26:INFO] Determined delimiter of CSV input is ','\u001b[0m\n",
      "\u001b[35m[2020-07-28:21:39:26:INFO] Sniff delimiter as ','\u001b[0m\n",
      "\u001b[35m[2020-07-28:21:39:26:INFO] Determined delimiter of CSV input is ','\u001b[0m\n",
      "\u001b[34m[2020-07-28:21:39:28:INFO] Determined delimiter of CSV input is ','\u001b[0m\n",
      "\u001b[35m[2020-07-28:21:39:28:INFO] Determined delimiter of CSV input is ','\u001b[0m\n",
      "\u001b[34m[2020-07-28:21:39:28:INFO] Sniff delimiter as ','\u001b[0m\n",
      "\u001b[34m[2020-07-28:21:39:28:INFO] Determined delimiter of CSV input is ','\u001b[0m\n",
      "\u001b[34m[2020-07-28:21:39:29:INFO] Sniff delimiter as ','\u001b[0m\n",
      "\u001b[34m[2020-07-28:21:39:29:INFO] Determined delimiter of CSV input is ','\u001b[0m\n",
      "\u001b[35m[2020-07-28:21:39:28:INFO] Sniff delimiter as ','\u001b[0m\n",
      "\u001b[35m[2020-07-28:21:39:28:INFO] Determined delimiter of CSV input is ','\u001b[0m\n",
      "\u001b[35m[2020-07-28:21:39:29:INFO] Sniff delimiter as ','\u001b[0m\n",
      "\u001b[35m[2020-07-28:21:39:29:INFO] Determined delimiter of CSV input is ','\u001b[0m\n",
      "\u001b[34m[2020-07-28:21:39:30:INFO] Sniff delimiter as ','\u001b[0m\n",
      "\u001b[35m[2020-07-28:21:39:30:INFO] Sniff delimiter as ','\u001b[0m\n",
      "\u001b[34m[2020-07-28:21:39:30:INFO] Determined delimiter of CSV input is ','\u001b[0m\n",
      "\u001b[34m[2020-07-28:21:39:30:INFO] Sniff delimiter as ','\u001b[0m\n",
      "\u001b[34m[2020-07-28:21:39:30:INFO] Determined delimiter of CSV input is ','\u001b[0m\n",
      "\u001b[34m[2020-07-28:21:39:31:INFO] Sniff delimiter as ','\u001b[0m\n",
      "\u001b[34m[2020-07-28:21:39:31:INFO] Determined delimiter of CSV input is ','\u001b[0m\n",
      "\u001b[35m[2020-07-28:21:39:30:INFO] Determined delimiter of CSV input is ','\u001b[0m\n",
      "\u001b[35m[2020-07-28:21:39:30:INFO] Sniff delimiter as ','\u001b[0m\n",
      "\u001b[35m[2020-07-28:21:39:30:INFO] Determined delimiter of CSV input is ','\u001b[0m\n",
      "\u001b[35m[2020-07-28:21:39:31:INFO] Sniff delimiter as ','\u001b[0m\n",
      "\u001b[35m[2020-07-28:21:39:31:INFO] Determined delimiter of CSV input is ','\u001b[0m\n",
      "\u001b[34m[2020-07-28:21:39:31:INFO] Sniff delimiter as ','\u001b[0m\n",
      "\u001b[34m[2020-07-28:21:39:31:INFO] Determined delimiter of CSV input is ','\u001b[0m\n",
      "\u001b[35m[2020-07-28:21:39:31:INFO] Sniff delimiter as ','\u001b[0m\n",
      "\u001b[35m[2020-07-28:21:39:31:INFO] Determined delimiter of CSV input is ','\u001b[0m\n",
      "\u001b[34m[2020-07-28:21:39:33:INFO] Sniff delimiter as ','\u001b[0m\n",
      "\u001b[34m[2020-07-28:21:39:33:INFO] Determined delimiter of CSV input is ','\u001b[0m\n",
      "\u001b[35m[2020-07-28:21:39:33:INFO] Sniff delimiter as ','\u001b[0m\n",
      "\u001b[35m[2020-07-28:21:39:33:INFO] Determined delimiter of CSV input is ','\u001b[0m\n",
      "\u001b[34m[2020-07-28:21:39:33:INFO] Sniff delimiter as ','\u001b[0m\n",
      "\u001b[34m[2020-07-28:21:39:33:INFO] Determined delimiter of CSV input is ','\u001b[0m\n",
      "\u001b[34m[2020-07-28:21:39:33:INFO] Sniff delimiter as ','\u001b[0m\n",
      "\u001b[34m[2020-07-28:21:39:33:INFO] Determined delimiter of CSV input is ','\u001b[0m\n",
      "\u001b[34m[2020-07-28:21:39:34:INFO] Sniff delimiter as ','\u001b[0m\n",
      "\u001b[34m[2020-07-28:21:39:34:INFO] Determined delimiter of CSV input is ','\u001b[0m\n",
      "\u001b[35m[2020-07-28:21:39:33:INFO] Sniff delimiter as ','\u001b[0m\n",
      "\u001b[35m[2020-07-28:21:39:33:INFO] Determined delimiter of CSV input is ','\u001b[0m\n",
      "\u001b[35m[2020-07-28:21:39:33:INFO] Sniff delimiter as ','\u001b[0m\n",
      "\u001b[35m[2020-07-28:21:39:33:INFO] Determined delimiter of CSV input is ','\u001b[0m\n",
      "\u001b[35m[2020-07-28:21:39:34:INFO] Sniff delimiter as ','\u001b[0m\n",
      "\u001b[35m[2020-07-28:21:39:34:INFO] Determined delimiter of CSV input is ','\u001b[0m\n",
      "\u001b[34m[2020-07-28:21:39:35:INFO] Sniff delimiter as ','\u001b[0m\n",
      "\u001b[34m[2020-07-28:21:39:35:INFO] Determined delimiter of CSV input is ','\u001b[0m\n",
      "\u001b[34m[2020-07-28:21:39:35:INFO] Sniff delimiter as ','\u001b[0m\n",
      "\u001b[34m[2020-07-28:21:39:35:INFO] Determined delimiter of CSV input is ','\u001b[0m\n",
      "\u001b[34m[2020-07-28:21:39:36:INFO] Sniff delimiter as ','\u001b[0m\n",
      "\u001b[34m[2020-07-28:21:39:36:INFO] Determined delimiter of CSV input is ','\u001b[0m\n",
      "\u001b[35m[2020-07-28:21:39:35:INFO] Sniff delimiter as ','\u001b[0m\n",
      "\u001b[35m[2020-07-28:21:39:35:INFO] Determined delimiter of CSV input is ','\u001b[0m\n",
      "\u001b[35m[2020-07-28:21:39:35:INFO] Sniff delimiter as ','\u001b[0m\n",
      "\u001b[35m[2020-07-28:21:39:35:INFO] Determined delimiter of CSV input is ','\u001b[0m\n",
      "\u001b[35m[2020-07-28:21:39:36:INFO] Sniff delimiter as ','\u001b[0m\n",
      "\u001b[35m[2020-07-28:21:39:36:INFO] Determined delimiter of CSV input is ','\u001b[0m\n",
      "\u001b[34m[2020-07-28:21:39:36:INFO] Sniff delimiter as ','\u001b[0m\n",
      "\u001b[34m[2020-07-28:21:39:36:INFO] Determined delimiter of CSV input is ','\u001b[0m\n",
      "\u001b[35m[2020-07-28:21:39:36:INFO] Sniff delimiter as ','\u001b[0m\n",
      "\u001b[35m[2020-07-28:21:39:36:INFO] Determined delimiter of CSV input is ','\u001b[0m\n",
      "\u001b[34m[2020-07-28:21:39:38:INFO] Sniff delimiter as ','\u001b[0m\n",
      "\u001b[34m[2020-07-28:21:39:38:INFO] Determined delimiter of CSV input is ','\u001b[0m\n",
      "\u001b[34m[2020-07-28:21:39:38:INFO] Sniff delimiter as ','\u001b[0m\n",
      "\u001b[34m[2020-07-28:21:39:38:INFO] Determined delimiter of CSV input is ','\u001b[0m\n",
      "\u001b[35m[2020-07-28:21:39:38:INFO] Sniff delimiter as ','\u001b[0m\n",
      "\u001b[35m[2020-07-28:21:39:38:INFO] Determined delimiter of CSV input is ','\u001b[0m\n",
      "\u001b[35m[2020-07-28:21:39:38:INFO] Sniff delimiter as ','\u001b[0m\n",
      "\u001b[35m[2020-07-28:21:39:38:INFO] Determined delimiter of CSV input is ','\u001b[0m\n"
     ]
    },
    {
     "name": "stdout",
     "output_type": "stream",
     "text": [
      "\n",
      "\u001b[34m[2020-07-28:21:39:40:INFO] Sniff delimiter as ','\u001b[0m\n",
      "\u001b[34m[2020-07-28:21:39:40:INFO] Determined delimiter of CSV input is ','\u001b[0m\n",
      "\u001b[34m[2020-07-28:21:39:40:INFO] Sniff delimiter as ','\u001b[0m\n",
      "\u001b[34m[2020-07-28:21:39:40:INFO] Determined delimiter of CSV input is ','\u001b[0m\n",
      "\u001b[34m[2020-07-28:21:39:40:INFO] Sniff delimiter as ','\u001b[0m\n",
      "\u001b[34m[2020-07-28:21:39:40:INFO] Determined delimiter of CSV input is ','\u001b[0m\n",
      "\u001b[35m[2020-07-28:21:39:40:INFO] Sniff delimiter as ','\u001b[0m\n",
      "\u001b[35m[2020-07-28:21:39:40:INFO] Determined delimiter of CSV input is ','\u001b[0m\n",
      "\u001b[35m[2020-07-28:21:39:40:INFO] Sniff delimiter as ','\u001b[0m\n",
      "\u001b[35m[2020-07-28:21:39:40:INFO] Determined delimiter of CSV input is ','\u001b[0m\n",
      "\u001b[35m[2020-07-28:21:39:40:INFO] Sniff delimiter as ','\u001b[0m\n",
      "\u001b[35m[2020-07-28:21:39:40:INFO] Determined delimiter of CSV input is ','\u001b[0m\n",
      "\u001b[34m[2020-07-28:21:39:41:INFO] Sniff delimiter as ','\u001b[0m\n",
      "\u001b[34m[2020-07-28:21:39:41:INFO] Determined delimiter of CSV input is ','\u001b[0m\n",
      "\u001b[35m[2020-07-28:21:39:41:INFO] Sniff delimiter as ','\u001b[0m\n",
      "\u001b[35m[2020-07-28:21:39:41:INFO] Determined delimiter of CSV input is ','\u001b[0m\n"
     ]
    }
   ],
   "source": [
    "xgb_transformer.wait()"
   ]
  },
  {
   "cell_type": "markdown",
   "metadata": {},
   "source": [
    "Now the transform job has executed and the result, the estimated sentiment of each review, has been saved on S3. Since we would rather work on this file locally we can perform a bit of notebook magic to copy the file to the `data_dir`."
   ]
  },
  {
   "cell_type": "code",
   "execution_count": 39,
   "metadata": {},
   "outputs": [
    {
     "ename": "OSError",
     "evalue": "[Errno 12] Cannot allocate memory",
     "output_type": "error",
     "traceback": [
      "\u001b[0;31m---------------------------------------------------------------------------\u001b[0m",
      "\u001b[0;31mOSError\u001b[0m                                   Traceback (most recent call last)",
      "\u001b[0;32m<ipython-input-39-97993f446af4>\u001b[0m in \u001b[0;36m<module>\u001b[0;34m\u001b[0m\n\u001b[0;32m----> 1\u001b[0;31m \u001b[0mget_ipython\u001b[0m\u001b[0;34m(\u001b[0m\u001b[0;34m)\u001b[0m\u001b[0;34m.\u001b[0m\u001b[0msystem\u001b[0m\u001b[0;34m(\u001b[0m\u001b[0;34m'aws s3 cp --recursive $xgb_transformer.output_path $data_dir'\u001b[0m\u001b[0;34m)\u001b[0m\u001b[0;34m\u001b[0m\u001b[0;34m\u001b[0m\u001b[0m\n\u001b[0m",
      "\u001b[0;32m~/anaconda3/envs/python3/lib/python3.6/site-packages/IPython/core/interactiveshell.py\u001b[0m in \u001b[0;36msystem_piped\u001b[0;34m(self, cmd)\u001b[0m\n\u001b[1;32m   2454\u001b[0m         \u001b[0;31m# a non-None value would trigger :func:`sys.displayhook` calls.\u001b[0m\u001b[0;34m\u001b[0m\u001b[0;34m\u001b[0m\u001b[0;34m\u001b[0m\u001b[0m\n\u001b[1;32m   2455\u001b[0m         \u001b[0;31m# Instead, we store the exit_code in user_ns.\u001b[0m\u001b[0;34m\u001b[0m\u001b[0;34m\u001b[0m\u001b[0;34m\u001b[0m\u001b[0m\n\u001b[0;32m-> 2456\u001b[0;31m         \u001b[0mself\u001b[0m\u001b[0;34m.\u001b[0m\u001b[0muser_ns\u001b[0m\u001b[0;34m[\u001b[0m\u001b[0;34m'_exit_code'\u001b[0m\u001b[0;34m]\u001b[0m \u001b[0;34m=\u001b[0m \u001b[0msystem\u001b[0m\u001b[0;34m(\u001b[0m\u001b[0mself\u001b[0m\u001b[0;34m.\u001b[0m\u001b[0mvar_expand\u001b[0m\u001b[0;34m(\u001b[0m\u001b[0mcmd\u001b[0m\u001b[0;34m,\u001b[0m \u001b[0mdepth\u001b[0m\u001b[0;34m=\u001b[0m\u001b[0;36m1\u001b[0m\u001b[0;34m)\u001b[0m\u001b[0;34m)\u001b[0m\u001b[0;34m\u001b[0m\u001b[0;34m\u001b[0m\u001b[0m\n\u001b[0m\u001b[1;32m   2457\u001b[0m \u001b[0;34m\u001b[0m\u001b[0m\n\u001b[1;32m   2458\u001b[0m     \u001b[0;32mdef\u001b[0m \u001b[0msystem_raw\u001b[0m\u001b[0;34m(\u001b[0m\u001b[0mself\u001b[0m\u001b[0;34m,\u001b[0m \u001b[0mcmd\u001b[0m\u001b[0;34m)\u001b[0m\u001b[0;34m:\u001b[0m\u001b[0;34m\u001b[0m\u001b[0;34m\u001b[0m\u001b[0m\n",
      "\u001b[0;32m~/anaconda3/envs/python3/lib/python3.6/site-packages/IPython/utils/_process_posix.py\u001b[0m in \u001b[0;36msystem\u001b[0;34m(self, cmd)\u001b[0m\n\u001b[1;32m    154\u001b[0m                 \u001b[0mchild\u001b[0m \u001b[0;34m=\u001b[0m \u001b[0mpexpect\u001b[0m\u001b[0;34m.\u001b[0m\u001b[0mspawnb\u001b[0m\u001b[0;34m(\u001b[0m\u001b[0mself\u001b[0m\u001b[0;34m.\u001b[0m\u001b[0msh\u001b[0m\u001b[0;34m,\u001b[0m \u001b[0margs\u001b[0m\u001b[0;34m=\u001b[0m\u001b[0;34m[\u001b[0m\u001b[0;34m'-c'\u001b[0m\u001b[0;34m,\u001b[0m \u001b[0mcmd\u001b[0m\u001b[0;34m]\u001b[0m\u001b[0;34m)\u001b[0m \u001b[0;31m# Pexpect-U\u001b[0m\u001b[0;34m\u001b[0m\u001b[0;34m\u001b[0m\u001b[0m\n\u001b[1;32m    155\u001b[0m             \u001b[0;32melse\u001b[0m\u001b[0;34m:\u001b[0m\u001b[0;34m\u001b[0m\u001b[0;34m\u001b[0m\u001b[0m\n\u001b[0;32m--> 156\u001b[0;31m                 \u001b[0mchild\u001b[0m \u001b[0;34m=\u001b[0m \u001b[0mpexpect\u001b[0m\u001b[0;34m.\u001b[0m\u001b[0mspawn\u001b[0m\u001b[0;34m(\u001b[0m\u001b[0mself\u001b[0m\u001b[0;34m.\u001b[0m\u001b[0msh\u001b[0m\u001b[0;34m,\u001b[0m \u001b[0margs\u001b[0m\u001b[0;34m=\u001b[0m\u001b[0;34m[\u001b[0m\u001b[0;34m'-c'\u001b[0m\u001b[0;34m,\u001b[0m \u001b[0mcmd\u001b[0m\u001b[0;34m]\u001b[0m\u001b[0;34m)\u001b[0m  \u001b[0;31m# Vanilla Pexpect\u001b[0m\u001b[0;34m\u001b[0m\u001b[0;34m\u001b[0m\u001b[0m\n\u001b[0m\u001b[1;32m    157\u001b[0m             \u001b[0mflush\u001b[0m \u001b[0;34m=\u001b[0m \u001b[0msys\u001b[0m\u001b[0;34m.\u001b[0m\u001b[0mstdout\u001b[0m\u001b[0;34m.\u001b[0m\u001b[0mflush\u001b[0m\u001b[0;34m\u001b[0m\u001b[0;34m\u001b[0m\u001b[0m\n\u001b[1;32m    158\u001b[0m             \u001b[0;32mwhile\u001b[0m \u001b[0;32mTrue\u001b[0m\u001b[0;34m:\u001b[0m\u001b[0;34m\u001b[0m\u001b[0;34m\u001b[0m\u001b[0m\n",
      "\u001b[0;32m~/anaconda3/envs/python3/lib/python3.6/site-packages/pexpect/pty_spawn.py\u001b[0m in \u001b[0;36m__init__\u001b[0;34m(self, command, args, timeout, maxread, searchwindowsize, logfile, cwd, env, ignore_sighup, echo, preexec_fn, encoding, codec_errors, dimensions, use_poll)\u001b[0m\n\u001b[1;32m    203\u001b[0m             \u001b[0mself\u001b[0m\u001b[0;34m.\u001b[0m\u001b[0mname\u001b[0m \u001b[0;34m=\u001b[0m \u001b[0;34m'<pexpect factory incomplete>'\u001b[0m\u001b[0;34m\u001b[0m\u001b[0;34m\u001b[0m\u001b[0m\n\u001b[1;32m    204\u001b[0m         \u001b[0;32melse\u001b[0m\u001b[0;34m:\u001b[0m\u001b[0;34m\u001b[0m\u001b[0;34m\u001b[0m\u001b[0m\n\u001b[0;32m--> 205\u001b[0;31m             \u001b[0mself\u001b[0m\u001b[0;34m.\u001b[0m\u001b[0m_spawn\u001b[0m\u001b[0;34m(\u001b[0m\u001b[0mcommand\u001b[0m\u001b[0;34m,\u001b[0m \u001b[0margs\u001b[0m\u001b[0;34m,\u001b[0m \u001b[0mpreexec_fn\u001b[0m\u001b[0;34m,\u001b[0m \u001b[0mdimensions\u001b[0m\u001b[0;34m)\u001b[0m\u001b[0;34m\u001b[0m\u001b[0;34m\u001b[0m\u001b[0m\n\u001b[0m\u001b[1;32m    206\u001b[0m         \u001b[0mself\u001b[0m\u001b[0;34m.\u001b[0m\u001b[0muse_poll\u001b[0m \u001b[0;34m=\u001b[0m \u001b[0muse_poll\u001b[0m\u001b[0;34m\u001b[0m\u001b[0;34m\u001b[0m\u001b[0m\n\u001b[1;32m    207\u001b[0m \u001b[0;34m\u001b[0m\u001b[0m\n",
      "\u001b[0;32m~/anaconda3/envs/python3/lib/python3.6/site-packages/pexpect/pty_spawn.py\u001b[0m in \u001b[0;36m_spawn\u001b[0;34m(self, command, args, preexec_fn, dimensions)\u001b[0m\n\u001b[1;32m    302\u001b[0m \u001b[0;34m\u001b[0m\u001b[0m\n\u001b[1;32m    303\u001b[0m         self.ptyproc = self._spawnpty(self.args, env=self.env,\n\u001b[0;32m--> 304\u001b[0;31m                                      cwd=self.cwd, **kwargs)\n\u001b[0m\u001b[1;32m    305\u001b[0m \u001b[0;34m\u001b[0m\u001b[0m\n\u001b[1;32m    306\u001b[0m         \u001b[0mself\u001b[0m\u001b[0;34m.\u001b[0m\u001b[0mpid\u001b[0m \u001b[0;34m=\u001b[0m \u001b[0mself\u001b[0m\u001b[0;34m.\u001b[0m\u001b[0mptyproc\u001b[0m\u001b[0;34m.\u001b[0m\u001b[0mpid\u001b[0m\u001b[0;34m\u001b[0m\u001b[0;34m\u001b[0m\u001b[0m\n",
      "\u001b[0;32m~/anaconda3/envs/python3/lib/python3.6/site-packages/pexpect/pty_spawn.py\u001b[0m in \u001b[0;36m_spawnpty\u001b[0;34m(self, args, **kwargs)\u001b[0m\n\u001b[1;32m    313\u001b[0m     \u001b[0;32mdef\u001b[0m \u001b[0m_spawnpty\u001b[0m\u001b[0;34m(\u001b[0m\u001b[0mself\u001b[0m\u001b[0;34m,\u001b[0m \u001b[0margs\u001b[0m\u001b[0;34m,\u001b[0m \u001b[0;34m**\u001b[0m\u001b[0mkwargs\u001b[0m\u001b[0;34m)\u001b[0m\u001b[0;34m:\u001b[0m\u001b[0;34m\u001b[0m\u001b[0;34m\u001b[0m\u001b[0m\n\u001b[1;32m    314\u001b[0m         \u001b[0;34m'''Spawn a pty and return an instance of PtyProcess.'''\u001b[0m\u001b[0;34m\u001b[0m\u001b[0;34m\u001b[0m\u001b[0m\n\u001b[0;32m--> 315\u001b[0;31m         \u001b[0;32mreturn\u001b[0m \u001b[0mptyprocess\u001b[0m\u001b[0;34m.\u001b[0m\u001b[0mPtyProcess\u001b[0m\u001b[0;34m.\u001b[0m\u001b[0mspawn\u001b[0m\u001b[0;34m(\u001b[0m\u001b[0margs\u001b[0m\u001b[0;34m,\u001b[0m \u001b[0;34m**\u001b[0m\u001b[0mkwargs\u001b[0m\u001b[0;34m)\u001b[0m\u001b[0;34m\u001b[0m\u001b[0;34m\u001b[0m\u001b[0m\n\u001b[0m\u001b[1;32m    316\u001b[0m \u001b[0;34m\u001b[0m\u001b[0m\n\u001b[1;32m    317\u001b[0m     \u001b[0;32mdef\u001b[0m \u001b[0mclose\u001b[0m\u001b[0;34m(\u001b[0m\u001b[0mself\u001b[0m\u001b[0;34m,\u001b[0m \u001b[0mforce\u001b[0m\u001b[0;34m=\u001b[0m\u001b[0;32mTrue\u001b[0m\u001b[0;34m)\u001b[0m\u001b[0;34m:\u001b[0m\u001b[0;34m\u001b[0m\u001b[0;34m\u001b[0m\u001b[0m\n",
      "\u001b[0;32m~/anaconda3/envs/python3/lib/python3.6/site-packages/ptyprocess/ptyprocess.py\u001b[0m in \u001b[0;36mspawn\u001b[0;34m(cls, argv, cwd, env, echo, preexec_fn, dimensions)\u001b[0m\n\u001b[1;32m    224\u001b[0m \u001b[0;34m\u001b[0m\u001b[0m\n\u001b[1;32m    225\u001b[0m         \u001b[0;32mif\u001b[0m \u001b[0muse_native_pty_fork\u001b[0m\u001b[0;34m:\u001b[0m\u001b[0;34m\u001b[0m\u001b[0;34m\u001b[0m\u001b[0m\n\u001b[0;32m--> 226\u001b[0;31m             \u001b[0mpid\u001b[0m\u001b[0;34m,\u001b[0m \u001b[0mfd\u001b[0m \u001b[0;34m=\u001b[0m \u001b[0mpty\u001b[0m\u001b[0;34m.\u001b[0m\u001b[0mfork\u001b[0m\u001b[0;34m(\u001b[0m\u001b[0;34m)\u001b[0m\u001b[0;34m\u001b[0m\u001b[0;34m\u001b[0m\u001b[0m\n\u001b[0m\u001b[1;32m    227\u001b[0m         \u001b[0;32melse\u001b[0m\u001b[0;34m:\u001b[0m\u001b[0;34m\u001b[0m\u001b[0;34m\u001b[0m\u001b[0m\n\u001b[1;32m    228\u001b[0m             \u001b[0;31m# Use internal fork_pty, for Solaris\u001b[0m\u001b[0;34m\u001b[0m\u001b[0;34m\u001b[0m\u001b[0;34m\u001b[0m\u001b[0m\n",
      "\u001b[0;32m~/anaconda3/envs/python3/lib/python3.6/pty.py\u001b[0m in \u001b[0;36mfork\u001b[0;34m()\u001b[0m\n\u001b[1;32m     95\u001b[0m \u001b[0;34m\u001b[0m\u001b[0m\n\u001b[1;32m     96\u001b[0m     \u001b[0mmaster_fd\u001b[0m\u001b[0;34m,\u001b[0m \u001b[0mslave_fd\u001b[0m \u001b[0;34m=\u001b[0m \u001b[0mopenpty\u001b[0m\u001b[0;34m(\u001b[0m\u001b[0;34m)\u001b[0m\u001b[0;34m\u001b[0m\u001b[0;34m\u001b[0m\u001b[0m\n\u001b[0;32m---> 97\u001b[0;31m     \u001b[0mpid\u001b[0m \u001b[0;34m=\u001b[0m \u001b[0mos\u001b[0m\u001b[0;34m.\u001b[0m\u001b[0mfork\u001b[0m\u001b[0;34m(\u001b[0m\u001b[0;34m)\u001b[0m\u001b[0;34m\u001b[0m\u001b[0;34m\u001b[0m\u001b[0m\n\u001b[0m\u001b[1;32m     98\u001b[0m     \u001b[0;32mif\u001b[0m \u001b[0mpid\u001b[0m \u001b[0;34m==\u001b[0m \u001b[0mCHILD\u001b[0m\u001b[0;34m:\u001b[0m\u001b[0;34m\u001b[0m\u001b[0;34m\u001b[0m\u001b[0m\n\u001b[1;32m     99\u001b[0m         \u001b[0;31m# Establish a new session.\u001b[0m\u001b[0;34m\u001b[0m\u001b[0;34m\u001b[0m\u001b[0;34m\u001b[0m\u001b[0m\n",
      "\u001b[0;31mOSError\u001b[0m: [Errno 12] Cannot allocate memory"
     ]
    }
   ],
   "source": [
    "!aws s3 cp --recursive $xgb_transformer.output_path $data_dir"
   ]
  },
  {
   "cell_type": "markdown",
   "metadata": {},
   "source": [
    "The last step is now to read in the output from our model, convert the output to something a little more usable, in this case we want the sentiment to be either `1` (positive) or `0` (negative), and then compare to the ground truth labels."
   ]
  },
  {
   "cell_type": "code",
   "execution_count": null,
   "metadata": {},
   "outputs": [],
   "source": [
    "predictions = pd.read_csv(os.path.join(data_dir, 'test.csv.out'), header=None)\n",
    "predictions = [round(num) for num in predictions.squeeze().values]"
   ]
  },
  {
   "cell_type": "code",
   "execution_count": null,
   "metadata": {},
   "outputs": [],
   "source": [
    "from sklearn.metrics import accuracy_score\n",
    "accuracy_score(test_y, predictions)"
   ]
  },
  {
   "cell_type": "markdown",
   "metadata": {},
   "source": [
    "## Step 6: Deploying the model\n",
    "\n",
    "Once we construct and fit our model, SageMaker stores the resulting model artifacts and we can use those to deploy an endpoint (inference code). To see this, look in the SageMaker console and you should see that a model has been created along with a link to the S3 location where the model artifacts have been stored.\n",
    "\n",
    "Deploying an endpoint is a lot like training the model with a few important differences. The first is that a deployed model doesn't change the model artifacts, so as you send it various testing instances the model won't change. Another difference is that since we aren't performing a fixed computation, as we were in the training step or while performing a batch transform, the compute instance that gets started stays running until we tell it to stop. This is important to note as if we forget and leave it running we will be charged the entire time.\n",
    "\n",
    "In other words **If you are no longer using a deployed endpoint, shut it down!**"
   ]
  },
  {
   "cell_type": "code",
   "execution_count": null,
   "metadata": {},
   "outputs": [],
   "source": [
    "xgb_predictor = xgb.deploy(initial_instance_count = 1, instance_type = 'ml.m4.xlarge')"
   ]
  },
  {
   "cell_type": "markdown",
   "metadata": {},
   "source": [
    "### Testing the model (again)\n",
    "\n",
    "Now that we have deployed our endpoint, we can send the testing data to it and get back the inference results. We already did this earlier using the batch transform functionality of SageMaker, however, we will test our model again using the newly deployed endpoint so that we can make sure that it works properly and to get a bit of a feel for how the endpoint works.\n",
    "\n",
    "When using the created endpoint it is important to know that we are limited in the amount of information we can send in each call so we need to break the testing data up into chunks and then send each chunk. Also, we need to serialize our data before we send it to the endpoint to ensure that our data is transmitted properly. Fortunately, SageMaker can do the serialization part for us provided we tell it the format of our data."
   ]
  },
  {
   "cell_type": "code",
   "execution_count": null,
   "metadata": {},
   "outputs": [],
   "source": [
    "from sagemaker.predictor import csv_serializer\n",
    "\n",
    "# We need to tell the endpoint what format the data we are sending is in so that SageMaker can perform the serialization.\n",
    "xgb_predictor.content_type = 'text/csv'\n",
    "xgb_predictor.serializer = csv_serializer"
   ]
  },
  {
   "cell_type": "code",
   "execution_count": null,
   "metadata": {},
   "outputs": [],
   "source": [
    "# We split the data into chunks and send each chunk seperately, accumulating the results.\n",
    "\n",
    "def predict(data, rows=512):\n",
    "    split_array = np.array_split(data, int(data.shape[0] / float(rows) + 1))\n",
    "    predictions = ''\n",
    "    for array in split_array:\n",
    "        predictions = ','.join([predictions, xgb_predictor.predict(array).decode('utf-8')])\n",
    "    \n",
    "    return np.fromstring(predictions[1:], sep=',')"
   ]
  },
  {
   "cell_type": "code",
   "execution_count": null,
   "metadata": {},
   "outputs": [],
   "source": [
    "test_X = pd.read_csv(os.path.join(data_dir, 'test.csv'), header=None).values\n",
    "\n",
    "predictions = predict(test_X)\n",
    "predictions = [round(num) for num in predictions]"
   ]
  },
  {
   "cell_type": "markdown",
   "metadata": {},
   "source": [
    "Lastly, we check to see what the accuracy of our model is."
   ]
  },
  {
   "cell_type": "code",
   "execution_count": null,
   "metadata": {},
   "outputs": [],
   "source": [
    "from sklearn.metrics import accuracy_score\n",
    "accuracy_score(test_y, predictions)"
   ]
  },
  {
   "cell_type": "markdown",
   "metadata": {},
   "source": [
    "And the results here should agree with the model testing that we did earlier using the batch transform job.\n",
    "\n",
    "### Cleaning up\n",
    "\n",
    "Now that we've determined that deploying our model works as expected, we are going to shut it down. Remember that the longer the endpoint is left running, the greater the cost and since we have a bit more work to do before we are able to use our endpoint with our simple web app, we should shut everything down."
   ]
  },
  {
   "cell_type": "code",
   "execution_count": null,
   "metadata": {},
   "outputs": [],
   "source": [
    "xgb_predictor.delete_endpoint()"
   ]
  },
  {
   "cell_type": "markdown",
   "metadata": {},
   "source": [
    "## Step 7: Putting our model to work\n",
    "\n",
    "As we've mentioned a few times now, our goal is to have our model deployed and then access it using a very simple web app. The intent is for this web app to take some user submitted data (a review), send it off to our endpoint (the model) and then display the result.\n",
    "\n",
    "However, there is a small catch. Currently the only way we can access the endpoint to send it data is using the SageMaker API. We can, if we wish, expose the actual URL that our model's endpoint is receiving data from, however, if we just send it data ourselves we will not get anything in return. This is because the endpoint created by SageMaker requires the entity accessing it have the correct permissions. So, we would need to somehow authenticate our web app with AWS.\n",
    "\n",
    "Having a website that authenticates to AWS seems a bit beyond the scope of this lesson so we will opt for an alternative approach. Namely, we will create a new endpoint which does not require authentication and which acts as a proxy for the SageMaker endpoint.\n",
    "\n",
    "As an additional constraint, we will try to avoid doing any data processing in the web app itself. Remember that when we constructed and tested our model we started with a movie review, then we simplified it by removing any html formatting and punctuation, then we constructed a bag of words embedding and the resulting vector is what we sent to our model. All of this needs to be done to our user input as well.\n",
    "\n",
    "Fortunately we can do all of this data processing in the backend, using Amazon's Lambda service.\n",
    "\n",
    "<img src=\"Web App Diagram.svg\">\n",
    "\n",
    "The diagram above gives an overview of how the various services will work together. On the far right is the model which we trained above and which will be deployed using SageMaker. On the far left is our web app that collects a user's movie review, sends it off and expects a positive or negative sentiment in return.\n",
    "\n",
    "In the middle is where some of the magic happens. We will construct a Lambda function, which you can think of as a straightforward Python function that can be executed whenever a specified event occurs. This Python function will do the data processing we need to perform on a user submitted review. In addition, we will give this function permission to send and recieve data from a SageMaker endpoint.\n",
    "\n",
    "Lastly, the method we will use to execute the Lambda function is a new endpoint that we will create using API Gateway. This endpoint will be a url that listens for data to be sent to it. Once it gets some data it will pass that data on to the Lambda function and then return whatever the Lambda function returns. Essentially it will act as an interface that lets our web app communicate with the Lambda function.\n",
    "\n",
    "### Processing a single review\n",
    "\n",
    "For now, suppose we are given a movie review by our user in the form of a string, like so:"
   ]
  },
  {
   "cell_type": "code",
   "execution_count": 42,
   "metadata": {},
   "outputs": [],
   "source": [
    "test_review = \"Nothing but a disgusting materialistic pageant of glistening abed remote control greed zombies, totally devoid of any heart or heat. A romantic comedy that has zero romantic chemestry and zero laughs!\""
   ]
  },
  {
   "cell_type": "markdown",
   "metadata": {},
   "source": [
    "How do we go from this string to the bag of words feature vector that is expected by our model?\n",
    "\n",
    "If we recall at the beginning of this notebook, the first step is to remove any unnecessary characters using the `review_to_words` method. Remember that we intentionally did this in a very simplistic way. This is because we are going to have to copy this method to our (eventual) Lambda function (we will go into more detail later) and this means it needs to be rather simplistic."
   ]
  },
  {
   "cell_type": "code",
   "execution_count": 43,
   "metadata": {},
   "outputs": [
    {
     "name": "stdout",
     "output_type": "stream",
     "text": [
      "nothing but a disgusting materialistic pageant of glistening abed remote control greed zombies totally devoid of any heart or heat a romantic comedy that has zero romantic chemestry and zero laughs\n"
     ]
    }
   ],
   "source": [
    "test_words = review_to_words(test_review)\n",
    "print(test_words)"
   ]
  },
  {
   "cell_type": "markdown",
   "metadata": {},
   "source": [
    "Next, we need to construct a bag of words embedding of the `test_words` string. To do this, remember that a bag of words embedding uses a `vocabulary` consisting of the most frequently appearing words in a set of documents. Then, for each word in the vocabulary we record the number of times that word appears in `test_words`. We constructed the `vocabulary` earlier using the training set for our problem so encoding `test_words` is relatively straightforward."
   ]
  },
  {
   "cell_type": "code",
   "execution_count": 44,
   "metadata": {},
   "outputs": [],
   "source": [
    "def bow_encoding(words, vocabulary):\n",
    "    bow = [0] * len(vocabulary) # Start by setting the count for each word in the vocabulary to zero.\n",
    "    for word in words.split():  # For each word in the string\n",
    "        if word in vocabulary:  # If the word is one that occurs in the vocabulary, increase its count.\n",
    "            bow[vocabulary[word]] += 1\n",
    "    return bow"
   ]
  },
  {
   "cell_type": "code",
   "execution_count": 45,
   "metadata": {},
   "outputs": [
    {
     "name": "stdout",
     "output_type": "stream",
     "text": [
      "[0, 0, 0, 0, 0, 0, 0, 0, 0, 0, 0, 0, 0, 0, 0, 0, 0, 0, 0, 0, 0, 0, 0, 0, 0, 0, 0, 0, 0, 0, 0, 0, 0, 0, 0, 0, 0, 0, 0, 0, 0, 0, 0, 0, 0, 0, 0, 0, 0, 0, 0, 0, 0, 0, 0, 0, 0, 0, 0, 0, 0, 0, 0, 0, 0, 0, 0, 0, 0, 0, 0, 0, 0, 0, 0, 0, 0, 0, 0, 0, 0, 0, 0, 0, 0, 0, 0, 0, 0, 0, 0, 0, 0, 0, 0, 0, 0, 0, 0, 0, 0, 0, 0, 0, 0, 0, 0, 0, 0, 0, 0, 0, 0, 0, 0, 0, 0, 0, 0, 0, 0, 0, 0, 0, 0, 0, 0, 0, 0, 0, 0, 0, 0, 0, 0, 0, 0, 0, 0, 0, 0, 0, 0, 0, 0, 0, 0, 0, 0, 0, 0, 0, 0, 0, 0, 0, 0, 0, 0, 0, 0, 0, 0, 0, 0, 0, 0, 0, 0, 0, 0, 0, 0, 0, 0, 0, 0, 0, 0, 0, 0, 0, 0, 0, 0, 0, 0, 0, 0, 0, 0, 0, 0, 0, 0, 0, 0, 0, 0, 0, 0, 0, 0, 0, 0, 0, 0, 0, 0, 0, 0, 0, 0, 0, 0, 0, 0, 0, 0, 0, 0, 0, 0, 0, 0, 0, 1, 0, 0, 0, 0, 0, 0, 0, 0, 0, 0, 0, 0, 0, 0, 0, 0, 0, 0, 0, 0, 0, 0, 0, 0, 0, 0, 0, 0, 0, 1, 0, 0, 0, 0, 0, 0, 0, 0, 0, 0, 0, 0, 0, 0, 0, 0, 0, 0, 0, 0, 0, 0, 0, 0, 0, 0, 0, 0, 0, 0, 0, 0, 0, 0, 0, 0, 0, 0, 0, 0, 0, 0, 0, 0, 0, 0, 0, 0, 0, 0, 0, 0, 0, 0, 0, 0, 0, 0, 0, 0, 0, 0, 0, 0, 0, 0, 0, 0, 0, 0, 0, 0, 0, 0, 0, 0, 0, 0, 0, 0, 0, 0, 0, 0, 0, 0, 0, 0, 0, 0, 0, 0, 0, 0, 0, 0, 0, 0, 0, 0, 0, 0, 0, 0, 0, 0, 0, 0, 0, 0, 0, 0, 0, 0, 0, 0, 0, 0, 0, 0, 0, 0, 0, 0, 0, 0, 0, 0, 0, 0, 0, 0, 0, 0, 0, 0, 0, 0, 0, 0, 0, 0, 0, 0, 0, 0, 0, 0, 0, 0, 0, 0, 0, 0, 0, 0, 0, 0, 0, 0, 0, 0, 0, 0, 0, 0, 0, 0, 0, 0, 0, 0, 0, 0, 0, 0, 0, 0, 0, 0, 0, 0, 0, 0, 0, 0, 0, 0, 0, 0, 0, 0, 0, 0, 0, 0, 0, 0, 0, 0, 0, 0, 0, 0, 0, 0, 0, 0, 0, 0, 0, 0, 0, 0, 0, 0, 0, 0, 0, 0, 0, 0, 0, 0, 0, 0, 0, 0, 0, 0, 0, 0, 0, 0, 0, 0, 0, 0, 0, 0, 0, 0, 0, 0, 0, 0, 0, 0, 0, 0, 0, 0, 0, 0, 0, 0, 0, 0, 0, 0, 0, 0, 0, 0, 0, 0, 0, 0, 0, 0, 0, 0, 0, 0, 0, 0, 0, 0, 0, 0, 0, 0, 0, 0, 0, 0, 0, 0, 0, 0, 0, 0, 0, 0, 0, 0, 0, 0, 0, 0, 0, 0, 0, 0, 0, 0, 0, 0, 0, 0, 0, 0, 0, 0, 0, 0, 0, 0, 0, 0, 0, 0, 0, 0, 0, 0, 0, 0, 0, 0, 0, 0, 0, 0, 0, 0, 0, 0, 0, 0, 0, 0, 0, 0, 0, 0, 0, 0, 0, 0, 0, 0, 0, 0, 0, 0, 0, 0, 0, 0, 0, 0, 0, 0, 0, 0, 0, 0, 0, 0, 0, 0, 0, 0, 0, 0, 0, 0, 0, 1, 0, 0, 0, 0, 0, 0, 0, 0, 0, 0, 0, 0, 0, 0, 0, 0, 0, 0, 0, 0, 0, 0, 0, 0, 0, 0, 0, 0, 0, 0, 0, 0, 0, 0, 0, 0, 0, 0, 0, 0, 0, 0, 0, 0, 0, 0, 0, 0, 0, 0, 0, 0, 0, 0, 0, 0, 0, 0, 0, 0, 0, 0, 0, 0, 0, 0, 0, 0, 0, 0, 0, 0, 0, 0, 0, 0, 0, 0, 0, 0, 0, 0, 0, 0, 0, 0, 0, 0, 0, 0, 0, 0, 0, 0, 0, 0, 0, 0, 0, 0, 0, 0, 0, 0, 0, 0, 0, 0, 0, 0, 0, 0, 0, 0, 0, 0, 0, 0, 0, 0, 0, 0, 0, 0, 0, 0, 0, 0, 0, 0, 0, 0, 0, 0, 0, 0, 0, 0, 0, 0, 0, 0, 0, 0, 0, 0, 0, 0, 0, 0, 0, 0, 0, 0, 0, 0, 0, 0, 0, 0, 0, 0, 0, 0, 0, 0, 0, 0, 0, 0, 0, 0, 0, 0, 0, 0, 0, 0, 0, 0, 0, 0, 0, 0, 0, 0, 0, 0, 0, 0, 0, 0, 0, 0, 0, 0, 0, 0, 0, 0, 0, 0, 0, 0, 0, 0, 0, 0, 0, 0, 0, 0, 0, 0, 0, 0, 0, 0, 0, 0, 0, 0, 0, 0, 0, 0, 0, 0, 0, 0, 0, 0, 0, 0, 0, 0, 0, 0, 0, 0, 0, 0, 0, 0, 0, 0, 0, 0, 0, 0, 0, 0, 0, 1, 0, 0, 0, 0, 0, 0, 0, 0, 0, 0, 0, 0, 0, 0, 0, 0, 0, 0, 0, 0, 0, 0, 0, 0, 0, 0, 0, 0, 0, 0, 0, 0, 0, 0, 0, 0, 0, 0, 0, 0, 0, 0, 0, 0, 0, 0, 0, 0, 0, 0, 0, 0, 0, 0, 0, 0, 0, 0, 0, 0, 0, 0, 0, 0, 0, 0, 0, 0, 0, 0, 0, 0, 0, 0, 0, 0, 0, 0, 0, 0, 0, 0, 0, 0, 0, 0, 1, 0, 0, 0, 0, 0, 0, 0, 0, 0, 0, 0, 0, 0, 0, 0, 0, 0, 0, 0, 0, 0, 0, 0, 0, 0, 0, 0, 0, 0, 0, 0, 0, 0, 0, 0, 0, 0, 0, 0, 0, 0, 0, 0, 0, 0, 0, 0, 0, 0, 0, 0, 0, 0, 0, 0, 0, 0, 0, 0, 0, 0, 0, 0, 0, 0, 0, 0, 0, 0, 0, 0, 0, 0, 0, 0, 0, 0, 0, 0, 0, 0, 0, 0, 0, 0, 0, 0, 0, 0, 0, 0, 0, 0, 0, 0, 0, 0, 0, 0, 0, 0, 0, 0, 0, 0, 0, 0, 0, 0, 0, 0, 0, 0, 0, 0, 0, 0, 0, 0, 0, 0, 0, 0, 0, 0, 0, 0, 0, 0, 0, 0, 0, 0, 0, 0, 0, 0, 0, 0, 0, 0, 0, 0, 0, 0, 0, 0, 0, 0, 0, 0, 0, 0, 0, 0, 0, 0, 0, 0, 0, 0, 0, 0, 0, 0, 0, 0, 0, 0, 0, 0, 0, 0, 0, 0, 0, 0, 0, 0, 0, 0, 0, 0, 0, 0, 0, 0, 0, 0, 0, 0, 0, 0, 0, 0, 0, 0, 0, 0, 0, 0, 0, 0, 0, 0, 0, 0, 0, 0, 0, 0, 0, 0, 0, 0, 0, 0, 0, 0, 0, 0, 0, 0, 0, 0, 0, 0, 0, 0, 0, 0, 0, 0, 0, 0, 0, 0, 0, 0, 0, 0, 0, 0, 0, 0, 0, 0, 0, 0, 0, 0, 0, 1, 0, 0, 0, 0, 0, 0, 0, 0, 0, 0, 0, 0, 0, 0, 0, 0, 0, 0, 0, 0, 0, 0, 0, 0, 0, 0, 0, 0, 0, 0, 0, 0, 0, 0, 0, 0, 0, 0, 0, 0, 0, 0, 0, 0, 0, 0, 0, 0, 0, 0, 0, 0, 0, 0, 0, 1, 0, 0, 0, 0, 0, 0, 0, 0, 0, 0, 0, 0, 0, 0, 0, 0, 0, 0, 0, 0, 0, 0, 0, 0, 0, 0, 0, 0, 0, 0, 0, 0, 0, 0, 0, 0, 0, 0, 0, 0, 0, 0, 0, 0, 0, 0, 0, 0, 0, 0, 0, 0, 0, 0, 0, 0, 0, 0, 0, 0, 0, 0, 0, 0, 0, 0, 0, 0, 0, 0, 0, 0, 0, 0, 0, 0, 0, 0, 0, 0, 0, 0, 0, 0, 0, 0, 0, 0, 0, 0, 0, 0, 0, 0, 0, 0, 0, 0, 0, 0, 0, 0, 0, 0, 0, 0, 0, 0, 0, 0, 0, 0, 0, 0, 0, 0, 0, 0, 0, 0, 0, 0, 0, 0, 0, 0, 0, 0, 0, 0, 0, 0, 0, 0, 0, 0, 0, 0, 0, 0, 0, 0, 0, 0, 0, 0, 0, 0, 0, 0, 0, 0, 0, 0, 0, 0, 0, 0, 0, 0, 0, 0, 0, 0, 0, 0, 0, 0, 0, 0, 0, 0, 0, 0, 0, 0, 0, 0, 0, 0, 0, 0, 0, 0, 0, 0, 0, 0, 0, 0, 0, 0, 0, 0, 0, 0, 0, 0, 0, 0, 0, 0, 0, 0, 0, 0, 0, 0, 0, 0, 0, 0, 0, 0, 0, 0, 0, 0, 0, 0, 0, 0, 0, 0, 0, 0, 0, 0, 0, 0, 0, 0, 0, 0, 0, 0, 0, 0, 0, 0, 0, 0, 0, 0, 0, 0, 0, 0, 0, 0, 0, 0, 0, 0, 0, 0, 0, 0, 0, 0, 0, 0, 0, 0, 0, 0, 0, 0, 0, 0, 0, 0, 0, 0, 0, 0, 0, 0, 0, 0, 0, 0, 0, 0, 0, 0, 0, 0, 0, 0, 0, 0, 0, 0, 0, 0, 0, 0, 0, 0, 0, 0, 0, 0, 0, 0, 0, 0, 0, 0, 0, 0, 0, 0, 0, 0, 0, 0, 0, 0, 0, 0, 0, 0, 0, 0, 0, 0, 0, 0, 0, 0, 0, 0, 0, 0, 0, 0, 0, 0, 0, 0, 0, 0, 0, 0, 0, 0, 0, 0, 0, 0, 0, 0, 0, 0, 0, 0, 0, 0, 0, 0, 0, 0, 0, 0, 0, 0, 0, 0, 0, 0, 0, 0, 0, 0, 0, 0, 0, 0, 0, 0, 0, 0, 0, 0, 0, 0, 0, 0, 0, 0, 0, 0, 0, 0, 0, 0, 0, 0, 0, 0, 0, 0, 0, 0, 0, 0, 0, 0, 0, 0, 0, 0, 0, 0, 0, 0, 0, 0, 0, 0, 0, 0, 0, 0, 0, 0, 0, 0, 0, 0, 0, 0, 0, 0, 0, 0, 0, 0, 0, 0, 0, 0, 0, 0, 0, 0, 0, 0, 0, 0, 0, 0, 0, 0, 0, 0, 0, 0, 0, 0, 0, 0, 0, 0, 0, 0, 0, 0, 0, 0, 0, 0, 0, 0, 0, 0, 0, 0, 0, 0, 0, 0, 0, 0, 0, 0, 0, 0, 0, 0, 0, 0, 0, 0, 0, 0, 0, 0, 0, 0, 0, 0, 0, 0, 0, 0, 0, 0, 0, 0, 0, 0, 0, 0, 0, 0, 0, 0, 0, 0, 0, 0, 0, 0, 0, 0, 0, 0, 0, 0, 0, 0, 0, 0, 0, 0, 0, 0, 0, 0, 0, 0, 0, 0, 0, 0, 0, 0, 0, 0, 0, 0, 0, 0, 0, 0, 0, 0, 0, 0, 0, 0, 0, 0, 0, 0, 0, 0, 0, 0, 0, 0, 0, 0, 0, 0, 0, 0, 0, 0, 0, 0, 0, 0, 0, 0, 0, 0, 0, 0, 0, 0, 0, 0, 0, 0, 0, 0, 0, 0, 0, 0, 0, 0, 0, 0, 0, 0, 0, 0, 0, 0, 0, 0, 0, 0, 0, 0, 0, 0, 0, 0, 0, 0, 0, 0, 0, 0, 0, 0, 0, 0, 0, 0, 0, 0, 0, 0, 0, 0, 0, 0, 0, 0, 0, 0, 0, 0, 0, 0, 0, 0, 0, 0, 0, 0, 0, 0, 0, 0, 0, 0, 0, 0, 0, 0, 0, 0, 0, 0, 0, 0, 0, 0, 0, 0, 0, 0, 0, 1, 0, 0, 0, 0, 0, 0, 0, 0, 0, 0, 0, 0, 0, 0, 0, 0, 0, 0, 0, 0, 0, 0, 0, 0, 0, 0, 0, 0, 0, 0, 0, 0, 0, 0, 0, 0, 0, 0, 0, 0, 0, 0, 0, 0, 0, 0, 0, 0, 0, 0, 0, 0, 0, 0, 0, 0, 0, 0, 0, 0, 0, 0, 0, 0, 0, 0, 0, 0, 0, 0, 0, 0, 0, 0, 1, 0, 0, 0, 0, 0, 0, 0, 0, 0, 0, 0, 0, 0, 0, 0, 0, 0, 0, 0, 0, 1, 0, 0, 1, 0, 0, 0, 0, 0, 0, 0, 0, 0, 0, 0, 0, 0, 0, 0, 0, 0, 0, 0, 0, 0, 0, 0, 0, 0, 0, 0, 0, 0, 0, 0, 0, 0, 0, 0, 0, 0, 0, 0, 0, 0, 0, 0, 0, 0, 0, 0, 0, 0, 0, 0, 0, 0, 0, 0, 0, 0, 0, 0, 0, 0, 0, 0, 0, 0, 0, 0, 0, 0, 0, 0, 0, 0, 0, 0, 0, 0, 0, 0, 0, 0, 0, 0, 0, 0, 0, 0, 0, 0, 0, 0, 0, 0, 0, 0, 0, 0, 0, 0, 0, 0, 0, 0, 0, 0, 0, 0, 0, 0, 0, 0, 0, 0, 0, 0, 0, 0, 0, 0, 0, 0, 0, 0, 0, 0, 0, 0, 0, 0, 0, 0, 0, 0, 0, 0, 0, 0, 0, 0, 0, 0, 0, 0, 0, 0, 0, 0, 0, 0, 0, 0, 0, 0, 0, 0, 0, 0, 0, 0, 0, 0, 0, 0, 0, 0, 0, 0, 0, 0, 0, 0, 0, 0, 0, 0, 0, 0, 0, 0, 0, 0, 0, 0, 0, 0, 0, 0, 0, 0, 0, 0, 0, 0, 0, 0, 0, 0, 0, 0, 0, 0, 0, 0, 0, 0, 0, 0, 0, 0, 0, 0, 0, 0, 0, 0, 0, 0, 0, 0, 0, 0, 0, 0, 0, 0, 0, 0, 0, 0, 0, 0, 0, 0, 0, 0, 0, 0, 0, 0, 0, 0, 0, 0, 0, 0, 0, 0, 0, 0, 0, 0, 0, 0, 0, 0, 0, 0, 0, 0, 0, 0, 0, 0, 0, 0, 0, 0, 0, 0, 0, 0, 0, 0, 0, 0, 0, 0, 0, 0, 0, 0, 0, 0, 0, 0, 0, 0, 0, 0, 0, 0, 0, 0, 0, 0, 0, 0, 0, 0, 0, 0, 0, 0, 0, 0, 0, 0, 0, 0, 0, 0, 0, 0, 0, 0, 0, 0, 0, 0, 0, 0, 0, 0, 0, 0, 0, 0, 0, 0, 0, 0, 0, 0, 0, 0, 0, 0, 0, 0, 0, 0, 0, 0, 0, 0, 0, 0, 0, 0, 0, 0, 0, 0, 0, 0, 0, 0, 0, 0, 0, 0, 0, 0, 0, 0, 0, 0, 0, 0, 0, 0, 0, 0, 0, 0, 0, 0, 0, 0, 0, 0, 0, 0, 0, 0, 0, 0, 0, 0, 0, 0, 0, 0, 0, 0, 0, 0, 0, 0, 0, 0, 0, 0, 0, 0, 0, 0, 0, 0, 0, 0, 0, 0, 0, 0, 0, 0, 0, 0, 0, 0, 0, 0, 0, 0, 0, 0, 0, 0, 0, 0, 0, 0, 0, 0, 0, 0, 0, 0, 0, 0, 0, 0, 0, 0, 0, 0, 0, 0, 0, 0, 0, 0, 0, 0, 0, 0, 0, 0, 0, 0, 0, 0, 0, 0, 0, 1, 0, 0, 0, 0, 0, 0, 0, 0, 0, 0, 0, 0, 0, 0, 0, 0, 0, 0, 0, 0, 0, 0, 0, 0, 0, 0, 0, 0, 0, 0, 0, 0, 0, 0, 0, 0, 0, 0, 0, 0, 0, 0, 0, 0, 0, 0, 0, 0, 0, 0, 0, 0, 0, 0, 0, 0, 0, 0, 0, 0, 0, 0, 0, 0, 0, 0, 0, 0, 0, 0, 0, 0, 0, 0, 0, 0, 0, 0, 0, 0, 0, 0, 0, 0, 0, 0, 0, 0, 0, 0, 0, 0, 0, 0, 0, 0, 0, 0, 0, 0, 0, 0, 0, 0, 0, 0, 0, 0, 0, 0, 0, 0, 0, 0, 0, 0, 0, 0, 0, 0, 0, 0, 0, 0, 0, 0, 0, 0, 0, 0, 0, 0, 0, 0, 0, 0, 0, 0, 0, 0, 0, 0, 0, 0, 0, 0, 0, 0, 0, 0, 0, 0, 0, 0, 0, 0, 0, 0, 0, 0, 0, 0, 0, 0, 0, 0, 0, 0, 0, 0, 0, 0, 0, 0, 0, 0, 0, 0, 0, 0, 0, 0, 0, 0, 0, 0, 0, 0, 0, 0, 0, 0, 0, 0, 0, 0, 0, 0, 0, 0, 0, 0, 0, 0, 0, 0, 0, 0, 0, 0, 0, 0, 0, 0, 0, 0, 0, 0, 0, 0, 0, 0, 0, 0, 0, 0, 0, 0, 0, 0, 0, 0, 0, 0, 0, 0, 0, 0, 0, 0, 0, 0, 0, 0, 0, 0, 0, 0, 0, 0, 0, 0, 0, 0, 0, 0, 0, 0, 0, 0, 0, 0, 0, 0, 0, 0, 0, 0, 0, 0, 0, 0, 0, 0, 0, 0, 0, 0, 0, 0, 0, 0, 0, 0, 0, 0, 0, 0, 0, 0, 0, 0, 0, 0, 0, 0, 0, 0, 0, 0, 0, 0, 0, 0, 0, 0, 0, 0, 0, 0, 0, 0, 0, 0, 0, 0, 0, 0, 0, 0, 0, 0, 0, 0, 0, 0, 0, 0, 0, 0, 0, 0, 0, 0, 0, 0, 0, 0, 0, 0, 0, 0, 0, 0, 0, 0, 0, 0, 0, 0, 0, 0, 0, 0, 0, 0, 0, 0, 0, 0, 0, 0, 0, 0, 0, 0, 0, 0, 0, 0, 0, 0, 0, 0, 0, 0, 0, 0, 0, 0, 0, 0, 0, 0, 0, 0, 0, 0, 0, 0, 0, 0, 0, 0, 0, 0, 0, 0, 0, 0, 0, 0, 0, 0, 0, 0, 0, 0, 0, 0, 0, 0, 0, 0, 0, 0, 0, 0, 0, 0, 0, 0, 0, 0, 0, 0, 0, 0, 0, 0, 0, 0, 0, 0, 0, 0, 0, 0, 0, 0, 0, 0, 0, 0, 0, 0, 0, 0, 0, 0, 0, 0, 0, 0, 0, 0, 0, 0, 0, 0, 0, 0, 0, 0, 0, 0, 0, 0, 0, 0, 0, 0, 0, 0, 0, 0, 0, 0, 0, 0, 0, 0, 0, 0, 0, 0, 0, 0, 0, 0, 0, 0, 0, 0, 0, 0, 0, 0, 0, 0, 0, 0, 0, 0, 0, 0, 0, 0, 0, 0, 0, 0, 1, 0, 0, 0, 0, 0, 0, 0, 0, 0, 0, 0, 0, 0, 0, 0, 0, 0, 0, 0, 0, 0, 0, 0, 0, 0, 0, 0, 0, 0, 0, 0, 0, 0, 0, 0, 2, 0, 0, 0, 0, 0, 0, 0, 0, 0, 0, 0, 0, 0, 0, 0, 0, 0, 0, 0, 0, 0, 0, 0, 0, 0, 0, 0, 0, 0, 0, 0, 0, 0, 0, 0, 0, 0, 0, 0, 0, 1, 0, 0, 0, 0, 0, 0, 0, 0, 0, 0, 0, 0, 0, 0, 0, 0, 0, 0, 0, 0, 0, 0, 0, 0, 0, 0, 0, 0, 0, 0, 0, 0, 0, 0, 0, 0, 0, 0, 0, 0, 0, 0, 0, 0, 0, 0, 0, 0, 0, 0, 0, 0, 0, 0, 0, 0, 0, 0, 0, 0, 0, 0, 0, 0, 0, 0, 0, 0, 0, 0, 0, 0, 0, 0, 0, 0, 0, 0, 0, 0, 0, 0, 0, 0, 0, 0, 0, 0, 0, 0, 0, 0, 0, 0, 0, 0, 0, 0, 0, 0, 0, 0, 0, 0, 0, 0, 0, 0, 0, 0, 0, 0, 0, 0, 0, 0, 0, 0, 0, 0, 0, 0, 0, 0, 0, 0, 0, 0, 0, 0, 0, 0, 0, 0, 0, 0, 0, 0, 0, 0, 0, 0, 0, 0, 0, 0, 0, 0, 0, 0, 0, 0, 0, 0, 0, 0, 0, 0, 0, 0, 0, 0, 0, 0, 0, 0, 0, 0, 0, 0, 0, 0, 0, 0, 0, 0, 0, 0, 0, 0, 0, 0, 0, 0, 0, 0, 0, 0, 0, 0, 0, 0, 0, 0, 0, 0, 0, 0, 0, 0, 0, 0, 0, 0, 0, 0, 0, 0, 0, 0, 0, 0, 0, 0, 0, 0, 0, 0, 0, 0, 0, 0, 0, 0, 0, 0, 0, 0, 0, 0, 0, 0, 0, 0, 0, 0, 0, 0, 0, 0, 0, 0, 0, 0, 0, 0, 0, 0, 0, 0, 0, 0, 0, 0, 0, 0, 0, 0, 0, 0, 0, 0, 0, 0, 0, 0, 0, 0, 0, 0, 0, 0, 0, 0, 0, 0, 0, 0, 0, 0, 0, 0, 0, 0, 0, 0, 0, 0, 0, 0, 0, 0, 0, 0, 0, 0, 0, 0, 0, 0, 0, 0, 0, 0, 0, 0, 0, 0, 0, 0, 0, 0, 0, 0, 0, 0, 0, 0, 0, 0, 0, 0, 0, 0, 0, 0, 0, 0, 0, 0, 0, 0, 0, 0, 0, 0, 0, 0, 0, 0, 0, 0, 0, 0, 0, 0, 0, 0, 0, 0, 0, 0, 0, 0, 0, 0, 0, 0, 0, 0, 0, 0, 0, 0, 0, 0, 0, 0, 0, 0, 0, 0, 0, 0, 0, 0, 0, 0, 0, 0, 0, 0, 0, 0, 0, 0, 0, 0, 0, 0, 0, 0, 0, 0, 0, 0, 0, 0, 0, 0, 0, 0, 0, 0, 0, 0, 0, 0, 0, 0, 0, 0, 0, 0, 0, 0, 0, 0, 0, 0, 0, 0, 0, 0, 0, 0, 0, 0, 0, 0, 0, 0, 0, 0, 0, 0, 0, 0, 0, 0, 0, 0, 0, 0, 0, 0, 0, 0, 0, 0, 0, 0, 0, 0, 0, 0, 0, 0, 0, 0, 0, 0, 0, 0, 0, 0, 0, 0, 0, 0, 0, 0, 0, 0, 0, 0, 0, 0, 0, 0, 0, 0, 0, 0, 0, 0, 0, 0, 0, 0, 0, 0, 0, 0, 0, 0, 0, 1, 0, 0, 0, 0, 0, 0, 0, 0, 0, 0, 0, 0, 0, 0, 0, 0, 0, 0, 0, 0, 0, 0, 0, 0, 0, 0, 0, 0, 0, 0, 0, 0, 0, 0, 0, 0, 0, 0, 0, 0, 0, 0, 0, 0, 0, 0, 0, 0, 0, 0, 0, 0, 0, 0, 0, 0, 0, 0, 0, 0, 0, 0, 0, 0, 0, 0, 0, 0, 0, 0, 0, 0, 0, 0, 0, 0, 0, 0, 0, 0, 0, 0, 0, 0, 0, 0, 0, 0, 0, 0, 0, 0, 0, 0, 0, 0, 0, 0, 0, 0, 0, 0, 0, 0, 0, 0, 0, 0, 0, 0, 2, 0, 0, 0, 0, 0, 0, 0, 0, 0, 0, 0, 0, 0, 0, 0, 0, 0, 0, 0, 0, 0, 0, 0, 0, 0, 0, 0, 0, 0, 0, 0, 0, 0, 0, 0, 0, 0, 0, 0, 0, 0, 0, 0, 0, 0, 0, 0, 0, 0, 0, 0, 0, 0, 0, 0, 0, 0, 0, 0, 0, 0, 0, 0, 0, 0, 0, 0, 0, 0, 0, 0, 0, 0, 0, 0, 0, 0, 0, 0, 0, 0, 0, 0, 0, 0, 0, 0, 0, 0, 0, 0, 0, 0, 0, 0, 0, 0, 0, 0, 0, 0, 0, 0, 0, 0, 0, 0, 0, 0, 0, 0, 0, 0, 0, 0, 0, 0, 0, 0, 0, 0, 0, 0, 0, 0, 0, 0, 0, 0, 0, 0, 0, 0, 0, 0, 0, 0, 0, 0, 0, 0, 0, 0, 0, 0, 0, 0, 0, 0, 0, 0, 0, 0, 0, 0, 0, 0, 0, 0, 0, 0, 0, 0, 0, 0, 0, 0, 0, 0, 0, 0, 0, 0, 0, 0, 0, 0, 0, 0, 0, 0, 0, 0, 0, 0, 0, 0, 0, 0, 0, 0, 0, 0, 0, 0, 0, 0, 0, 0, 0, 0, 0, 0, 0, 0, 0, 0, 0, 0, 0, 0, 0, 0, 0, 0, 0, 0, 0, 0, 0, 0, 0, 0, 0, 0, 0, 0, 0, 0, 0, 0, 0, 0, 0, 0, 0, 0, 0, 0, 0, 0, 0, 0, 0, 0, 0, 0, 0, 0, 0, 0, 0, 0, 0, 0, 0, 0, 0, 0, 0, 0, 0, 0, 0, 0, 0, 0, 0, 0, 0, 0, 0, 0, 0, 0, 0, 0, 0, 0, 0, 0, 0, 0, 0, 0, 0, 0, 0, 0, 0, 0, 0, 0, 0, 0, 0, 0, 0, 0, 0, 0, 0, 0, 0, 0, 0, 0, 0, 0, 0, 0, 0, 0, 0, 0, 0, 0, 0, 0, 0, 0, 0, 0, 0, 0, 0, 0, 0, 0, 0, 0, 0, 0, 0, 0, 0, 0, 0, 0, 0, 0, 0, 0, 0, 0, 0, 0, 0, 0, 0, 0, 0, 0, 0, 0, 0, 0, 0, 0, 0, 0, 0, 0, 0, 0, 0, 0, 0, 0, 0, 0, 0, 0, 0, 0, 0, 0, 0, 0, 0, 0, 0, 0, 0, 0, 0, 0, 0, 0, 0, 0, 0, 0, 0, 0, 0, 0, 0, 0, 0, 0, 0, 0, 0, 0, 0, 0, 0, 0, 0, 0, 0, 0, 0, 0, 0, 0, 0, 0, 0, 0, 0, 0, 0, 0, 0, 0, 0, 0, 0, 0, 0, 0, 0, 0, 0, 0, 0, 0, 0, 0, 0, 0, 0, 0, 0, 0, 0, 0, 0, 0, 0, 0, 0, 0, 0, 0, 0, 0, 0, 0, 0, 0, 0, 0, 0, 0, 0, 0, 0, 0, 0, 0, 0, 0, 0, 0, 0, 0, 0, 0, 0, 0, 0, 0, 0, 0, 0, 0, 0, 0, 0, 0, 0, 0, 0, 0, 0, 0, 0, 0, 0, 0, 0, 0, 0, 0, 0, 0, 0, 0, 0, 0, 0, 0, 0, 0, 0, 0, 0, 0, 0, 0, 0, 0, 0, 0, 0, 0, 0, 0, 0, 0, 0, 0, 0, 0, 0, 0, 0, 0, 0, 0, 0, 0, 0, 0, 0, 0, 0, 0, 0, 0, 0, 0, 0, 0, 0, 0, 0, 0, 0, 0, 0, 0, 0, 0, 0, 0, 0, 0, 0, 0, 0, 0, 0, 0, 0, 0, 0, 0, 0, 0, 0, 0, 0, 0, 0, 0, 0, 0, 0, 0, 0, 0, 0, 0, 0, 0, 0, 0, 0, 0, 0, 0, 0, 0, 0, 0, 0, 0, 0, 0, 0, 0, 0, 0, 0, 0, 0, 0, 0, 0, 0, 0, 0, 0, 0, 0, 0, 0, 0, 0, 0, 0, 0, 0, 0, 0, 0, 0, 0, 0, 0, 0, 0, 0, 0, 0, 0, 0, 0, 0, 0, 0, 0, 0, 0, 0, 0, 0, 0, 0, 0, 0, 0, 0, 0, 0, 0, 0, 0, 0, 0, 0, 0, 0, 0, 0, 0, 0, 0, 0, 0, 0, 0, 0, 0, 0, 0, 1, 0, 0, 0, 0, 0, 0, 0, 0, 0, 0, 0, 0, 0, 0, 0, 0, 0, 0, 0, 0, 0, 0, 0, 0, 0, 0, 0, 0, 0, 0, 0, 0, 0, 0, 0, 0, 0, 0, 0, 0, 0, 0, 0, 0, 0, 0, 0, 0, 0, 0, 0, 0, 0, 0, 0, 0, 0, 0, 0, 0, 0, 0, 0, 0, 0, 0, 0, 0, 0, 0, 0, 0, 0, 0, 0, 0, 0, 0, 0, 0, 0, 0, 0, 0, 0, 0, 0, 0, 0, 0, 0, 0, 0, 0, 0, 0, 0, 0, 0, 0, 0, 0, 0, 0, 0, 0, 0, 1, 0, 0, 0, 0, 0, 0, 0, 0, 0, 0, 0, 0, 0, 0, 0, 0, 0, 0, 0, 0, 0, 0, 0, 0, 0, 0, 0, 0, 0, 0, 0, 0, 0, 0, 0, 0, 0, 0, 0, 0, 0, 0, 0, 0, 0, 0, 0, 0, 0, 0, 0, 0, 0, 0, 0, 0, 0, 0, 0, 0, 0, 0, 0, 0, 0, 0, 0, 0, 0, 0, 0, 0, 0, 0, 0, 0, 0, 0, 0, 0, 0, 0, 0, 0, 0, 0, 0, 0, 0, 0, 0, 0, 0, 0, 0, 0, 0, 0, 0, 0, 0, 0, 0, 0, 0, 0, 0, 0, 0, 0, 0, 0, 0, 0, 0, 0, 0, 0, 0, 0, 0, 0, 0, 0, 0, 0, 0, 0, 0, 0, 0, 0, 0, 0, 0, 0, 0, 0, 0, 0, 0, 0, 0, 0, 0, 0, 0, 0, 0, 0, 0, 0, 0, 0, 0, 0, 0, 0, 0, 0, 0, 0, 0, 0, 0, 0, 0, 0, 0, 0, 0, 0, 0, 0, 0, 0, 0, 0, 0, 0, 0, 0, 0, 0, 0, 0, 0, 0, 0, 0, 0, 0, 0, 0, 0, 0, 0, 0, 0, 0, 0, 0, 0, 0, 0, 0, 0, 0, 0, 0, 0, 0, 0, 0, 0, 0, 0, 0, 0, 0, 0, 0, 0, 0, 0, 0, 0, 0, 0, 0, 0, 0, 0, 0, 0, 0, 0, 0, 0, 0, 0, 0, 0, 0, 0, 0, 0, 0, 0, 0, 0, 0, 0, 0, 0, 0, 0, 0, 0, 0, 0, 0, 0, 0, 0, 0, 0, 0, 0, 0, 0, 0, 0, 0, 0, 0, 0, 0, 0, 0, 0, 0, 0, 0, 0, 0, 0, 0, 0, 0, 0, 0, 0, 0, 0, 0, 0, 0, 0, 0, 0, 0, 0, 0, 0, 0, 0, 0, 0, 0, 0, 0, 0, 0, 0, 0, 0, 0, 0, 0, 0, 0, 0, 0, 0, 0, 0, 0, 0, 0, 0, 0, 0, 0, 0, 0, 0, 0, 0, 0, 0, 0, 0, 0, 0, 0, 0, 0, 0, 0, 0, 0, 0, 0, 0, 0, 0, 0, 0, 0, 0, 0, 0, 0, 0, 0, 0, 0, 0, 0, 0, 0, 0, 0, 0, 0, 0, 0, 0, 0, 0, 0, 0, 0, 0, 0, 0, 0, 0, 0, 0, 0, 0, 0, 0, 0, 0, 0, 0, 0, 0, 0, 0, 0, 0, 0, 0, 0, 0, 0, 0, 0, 0, 0, 0, 0, 0, 0, 0, 0, 0, 0, 0, 0, 0, 0, 0, 0, 0, 0, 0, 0, 0, 0, 0, 0, 0, 0, 0, 0, 0, 0, 0, 0, 0, 0, 0, 0, 0, 0, 0, 0, 0, 0, 0, 0, 0, 0, 0, 0, 0, 0, 0, 2, 0, 1, 0]\n"
     ]
    }
   ],
   "source": [
    "test_bow = bow_encoding(test_words, vocabulary)\n",
    "print(test_bow)"
   ]
  },
  {
   "cell_type": "code",
   "execution_count": 46,
   "metadata": {},
   "outputs": [
    {
     "data": {
      "text/plain": [
       "5000"
      ]
     },
     "execution_count": 46,
     "metadata": {},
     "output_type": "execute_result"
    }
   ],
   "source": [
    "len(test_bow)"
   ]
  },
  {
   "cell_type": "markdown",
   "metadata": {},
   "source": [
    "So now we know how to construct a bag of words encoding of a user provided review, how to we send it to our endpoint? First, we need to start the endpoint back up."
   ]
  },
  {
   "cell_type": "code",
   "execution_count": 47,
   "metadata": {},
   "outputs": [
    {
     "name": "stderr",
     "output_type": "stream",
     "text": [
      "Parameter image will be renamed to image_uri in SageMaker Python SDK v2.\n",
      "Using already existing model: xgboost-2020-07-28-21-13-21-379\n"
     ]
    },
    {
     "name": "stdout",
     "output_type": "stream",
     "text": [
      "-------------!"
     ]
    }
   ],
   "source": [
    "xgb_predictor = xgb.deploy(initial_instance_count = 1, instance_type = 'ml.m4.xlarge')"
   ]
  },
  {
   "cell_type": "markdown",
   "metadata": {},
   "source": [
    "At this point we could just do the same thing that we did earlier when we tested our deployed model and send `test_bow` to our endpoint using the `xgb_predictor` object. However, when we eventually construct our Lambda function we won't have access to this object, so how do we call a SageMaker endpoint?\n",
    "\n",
    "It turns out that Python functions that are used in Lambda have access to another Amazon library called `boto3`. This library provides an API for working with Amazon services, including SageMaker. To start with, we need to get a handle to the SageMaker runtime."
   ]
  },
  {
   "cell_type": "code",
   "execution_count": 48,
   "metadata": {},
   "outputs": [],
   "source": [
    "import boto3\n",
    "\n",
    "runtime = boto3.Session().client('sagemaker-runtime')"
   ]
  },
  {
   "cell_type": "markdown",
   "metadata": {},
   "source": [
    "And now that we have access to the SageMaker runtime, we can ask it to make use of (invoke) an endpoint that has already been created. However, we need to provide SageMaker with the name of the deployed endpoint. To find this out we can print it out using the `xgb_predictor` object."
   ]
  },
  {
   "cell_type": "code",
   "execution_count": 49,
   "metadata": {},
   "outputs": [
    {
     "data": {
      "text/plain": [
       "'xgboost-2020-07-28-21-13-21-379'"
      ]
     },
     "execution_count": 49,
     "metadata": {},
     "output_type": "execute_result"
    }
   ],
   "source": [
    "xgb_predictor.endpoint"
   ]
  },
  {
   "cell_type": "markdown",
   "metadata": {},
   "source": [
    "Using the SageMaker runtime and the name of our endpoint, we can invoke the endpoint and send it the `test_bow` data."
   ]
  },
  {
   "cell_type": "code",
   "execution_count": 50,
   "metadata": {},
   "outputs": [
    {
     "ename": "ParamValidationError",
     "evalue": "Parameter validation failed:\nInvalid type for parameter Body, value: [0, 0, 0, 0, 0, 0, 0, 0, 0, 0, 0, 0, 0, 0, 0, 0, 0, 0, 0, 0, 0, 0, 0, 0, 0, 0, 0, 0, 0, 0, 0, 0, 0, 0, 0, 0, 0, 0, 0, 0, 0, 0, 0, 0, 0, 0, 0, 0, 0, 0, 0, 0, 0, 0, 0, 0, 0, 0, 0, 0, 0, 0, 0, 0, 0, 0, 0, 0, 0, 0, 0, 0, 0, 0, 0, 0, 0, 0, 0, 0, 0, 0, 0, 0, 0, 0, 0, 0, 0, 0, 0, 0, 0, 0, 0, 0, 0, 0, 0, 0, 0, 0, 0, 0, 0, 0, 0, 0, 0, 0, 0, 0, 0, 0, 0, 0, 0, 0, 0, 0, 0, 0, 0, 0, 0, 0, 0, 0, 0, 0, 0, 0, 0, 0, 0, 0, 0, 0, 0, 0, 0, 0, 0, 0, 0, 0, 0, 0, 0, 0, 0, 0, 0, 0, 0, 0, 0, 0, 0, 0, 0, 0, 0, 0, 0, 0, 0, 0, 0, 0, 0, 0, 0, 0, 0, 0, 0, 0, 0, 0, 0, 0, 0, 0, 0, 0, 0, 0, 0, 0, 0, 0, 0, 0, 0, 0, 0, 0, 0, 0, 0, 0, 0, 0, 0, 0, 0, 0, 0, 0, 0, 0, 0, 0, 0, 0, 0, 0, 0, 0, 0, 0, 0, 0, 0, 0, 1, 0, 0, 0, 0, 0, 0, 0, 0, 0, 0, 0, 0, 0, 0, 0, 0, 0, 0, 0, 0, 0, 0, 0, 0, 0, 0, 0, 0, 0, 1, 0, 0, 0, 0, 0, 0, 0, 0, 0, 0, 0, 0, 0, 0, 0, 0, 0, 0, 0, 0, 0, 0, 0, 0, 0, 0, 0, 0, 0, 0, 0, 0, 0, 0, 0, 0, 0, 0, 0, 0, 0, 0, 0, 0, 0, 0, 0, 0, 0, 0, 0, 0, 0, 0, 0, 0, 0, 0, 0, 0, 0, 0, 0, 0, 0, 0, 0, 0, 0, 0, 0, 0, 0, 0, 0, 0, 0, 0, 0, 0, 0, 0, 0, 0, 0, 0, 0, 0, 0, 0, 0, 0, 0, 0, 0, 0, 0, 0, 0, 0, 0, 0, 0, 0, 0, 0, 0, 0, 0, 0, 0, 0, 0, 0, 0, 0, 0, 0, 0, 0, 0, 0, 0, 0, 0, 0, 0, 0, 0, 0, 0, 0, 0, 0, 0, 0, 0, 0, 0, 0, 0, 0, 0, 0, 0, 0, 0, 0, 0, 0, 0, 0, 0, 0, 0, 0, 0, 0, 0, 0, 0, 0, 0, 0, 0, 0, 0, 0, 0, 0, 0, 0, 0, 0, 0, 0, 0, 0, 0, 0, 0, 0, 0, 0, 0, 0, 0, 0, 0, 0, 0, 0, 0, 0, 0, 0, 0, 0, 0, 0, 0, 0, 0, 0, 0, 0, 0, 0, 0, 0, 0, 0, 0, 0, 0, 0, 0, 0, 0, 0, 0, 0, 0, 0, 0, 0, 0, 0, 0, 0, 0, 0, 0, 0, 0, 0, 0, 0, 0, 0, 0, 0, 0, 0, 0, 0, 0, 0, 0, 0, 0, 0, 0, 0, 0, 0, 0, 0, 0, 0, 0, 0, 0, 0, 0, 0, 0, 0, 0, 0, 0, 0, 0, 0, 0, 0, 0, 0, 0, 0, 0, 0, 0, 0, 0, 0, 0, 0, 0, 0, 0, 0, 0, 0, 0, 0, 0, 0, 0, 0, 0, 0, 0, 0, 0, 0, 0, 0, 0, 0, 0, 0, 0, 0, 0, 0, 0, 0, 0, 0, 0, 0, 0, 0, 0, 0, 0, 0, 0, 0, 0, 0, 0, 0, 0, 0, 0, 0, 0, 0, 0, 0, 0, 0, 0, 0, 0, 0, 0, 0, 0, 0, 0, 0, 0, 0, 0, 0, 0, 0, 0, 0, 0, 0, 0, 0, 0, 0, 0, 0, 0, 0, 0, 0, 0, 0, 0, 0, 0, 1, 0, 0, 0, 0, 0, 0, 0, 0, 0, 0, 0, 0, 0, 0, 0, 0, 0, 0, 0, 0, 0, 0, 0, 0, 0, 0, 0, 0, 0, 0, 0, 0, 0, 0, 0, 0, 0, 0, 0, 0, 0, 0, 0, 0, 0, 0, 0, 0, 0, 0, 0, 0, 0, 0, 0, 0, 0, 0, 0, 0, 0, 0, 0, 0, 0, 0, 0, 0, 0, 0, 0, 0, 0, 0, 0, 0, 0, 0, 0, 0, 0, 0, 0, 0, 0, 0, 0, 0, 0, 0, 0, 0, 0, 0, 0, 0, 0, 0, 0, 0, 0, 0, 0, 0, 0, 0, 0, 0, 0, 0, 0, 0, 0, 0, 0, 0, 0, 0, 0, 0, 0, 0, 0, 0, 0, 0, 0, 0, 0, 0, 0, 0, 0, 0, 0, 0, 0, 0, 0, 0, 0, 0, 0, 0, 0, 0, 0, 0, 0, 0, 0, 0, 0, 0, 0, 0, 0, 0, 0, 0, 0, 0, 0, 0, 0, 0, 0, 0, 0, 0, 0, 0, 0, 0, 0, 0, 0, 0, 0, 0, 0, 0, 0, 0, 0, 0, 0, 0, 0, 0, 0, 0, 0, 0, 0, 0, 0, 0, 0, 0, 0, 0, 0, 0, 0, 0, 0, 0, 0, 0, 0, 0, 0, 0, 0, 0, 0, 0, 0, 0, 0, 0, 0, 0, 0, 0, 0, 0, 0, 0, 0, 0, 0, 0, 0, 0, 0, 0, 0, 0, 0, 0, 0, 0, 0, 0, 0, 0, 0, 0, 0, 0, 0, 1, 0, 0, 0, 0, 0, 0, 0, 0, 0, 0, 0, 0, 0, 0, 0, 0, 0, 0, 0, 0, 0, 0, 0, 0, 0, 0, 0, 0, 0, 0, 0, 0, 0, 0, 0, 0, 0, 0, 0, 0, 0, 0, 0, 0, 0, 0, 0, 0, 0, 0, 0, 0, 0, 0, 0, 0, 0, 0, 0, 0, 0, 0, 0, 0, 0, 0, 0, 0, 0, 0, 0, 0, 0, 0, 0, 0, 0, 0, 0, 0, 0, 0, 0, 0, 0, 0, 1, 0, 0, 0, 0, 0, 0, 0, 0, 0, 0, 0, 0, 0, 0, 0, 0, 0, 0, 0, 0, 0, 0, 0, 0, 0, 0, 0, 0, 0, 0, 0, 0, 0, 0, 0, 0, 0, 0, 0, 0, 0, 0, 0, 0, 0, 0, 0, 0, 0, 0, 0, 0, 0, 0, 0, 0, 0, 0, 0, 0, 0, 0, 0, 0, 0, 0, 0, 0, 0, 0, 0, 0, 0, 0, 0, 0, 0, 0, 0, 0, 0, 0, 0, 0, 0, 0, 0, 0, 0, 0, 0, 0, 0, 0, 0, 0, 0, 0, 0, 0, 0, 0, 0, 0, 0, 0, 0, 0, 0, 0, 0, 0, 0, 0, 0, 0, 0, 0, 0, 0, 0, 0, 0, 0, 0, 0, 0, 0, 0, 0, 0, 0, 0, 0, 0, 0, 0, 0, 0, 0, 0, 0, 0, 0, 0, 0, 0, 0, 0, 0, 0, 0, 0, 0, 0, 0, 0, 0, 0, 0, 0, 0, 0, 0, 0, 0, 0, 0, 0, 0, 0, 0, 0, 0, 0, 0, 0, 0, 0, 0, 0, 0, 0, 0, 0, 0, 0, 0, 0, 0, 0, 0, 0, 0, 0, 0, 0, 0, 0, 0, 0, 0, 0, 0, 0, 0, 0, 0, 0, 0, 0, 0, 0, 0, 0, 0, 0, 0, 0, 0, 0, 0, 0, 0, 0, 0, 0, 0, 0, 0, 0, 0, 0, 0, 0, 0, 0, 0, 0, 0, 0, 0, 0, 0, 0, 0, 0, 0, 0, 0, 0, 0, 1, 0, 0, 0, 0, 0, 0, 0, 0, 0, 0, 0, 0, 0, 0, 0, 0, 0, 0, 0, 0, 0, 0, 0, 0, 0, 0, 0, 0, 0, 0, 0, 0, 0, 0, 0, 0, 0, 0, 0, 0, 0, 0, 0, 0, 0, 0, 0, 0, 0, 0, 0, 0, 0, 0, 0, 1, 0, 0, 0, 0, 0, 0, 0, 0, 0, 0, 0, 0, 0, 0, 0, 0, 0, 0, 0, 0, 0, 0, 0, 0, 0, 0, 0, 0, 0, 0, 0, 0, 0, 0, 0, 0, 0, 0, 0, 0, 0, 0, 0, 0, 0, 0, 0, 0, 0, 0, 0, 0, 0, 0, 0, 0, 0, 0, 0, 0, 0, 0, 0, 0, 0, 0, 0, 0, 0, 0, 0, 0, 0, 0, 0, 0, 0, 0, 0, 0, 0, 0, 0, 0, 0, 0, 0, 0, 0, 0, 0, 0, 0, 0, 0, 0, 0, 0, 0, 0, 0, 0, 0, 0, 0, 0, 0, 0, 0, 0, 0, 0, 0, 0, 0, 0, 0, 0, 0, 0, 0, 0, 0, 0, 0, 0, 0, 0, 0, 0, 0, 0, 0, 0, 0, 0, 0, 0, 0, 0, 0, 0, 0, 0, 0, 0, 0, 0, 0, 0, 0, 0, 0, 0, 0, 0, 0, 0, 0, 0, 0, 0, 0, 0, 0, 0, 0, 0, 0, 0, 0, 0, 0, 0, 0, 0, 0, 0, 0, 0, 0, 0, 0, 0, 0, 0, 0, 0, 0, 0, 0, 0, 0, 0, 0, 0, 0, 0, 0, 0, 0, 0, 0, 0, 0, 0, 0, 0, 0, 0, 0, 0, 0, 0, 0, 0, 0, 0, 0, 0, 0, 0, 0, 0, 0, 0, 0, 0, 0, 0, 0, 0, 0, 0, 0, 0, 0, 0, 0, 0, 0, 0, 0, 0, 0, 0, 0, 0, 0, 0, 0, 0, 0, 0, 0, 0, 0, 0, 0, 0, 0, 0, 0, 0, 0, 0, 0, 0, 0, 0, 0, 0, 0, 0, 0, 0, 0, 0, 0, 0, 0, 0, 0, 0, 0, 0, 0, 0, 0, 0, 0, 0, 0, 0, 0, 0, 0, 0, 0, 0, 0, 0, 0, 0, 0, 0, 0, 0, 0, 0, 0, 0, 0, 0, 0, 0, 0, 0, 0, 0, 0, 0, 0, 0, 0, 0, 0, 0, 0, 0, 0, 0, 0, 0, 0, 0, 0, 0, 0, 0, 0, 0, 0, 0, 0, 0, 0, 0, 0, 0, 0, 0, 0, 0, 0, 0, 0, 0, 0, 0, 0, 0, 0, 0, 0, 0, 0, 0, 0, 0, 0, 0, 0, 0, 0, 0, 0, 0, 0, 0, 0, 0, 0, 0, 0, 0, 0, 0, 0, 0, 0, 0, 0, 0, 0, 0, 0, 0, 0, 0, 0, 0, 0, 0, 0, 0, 0, 0, 0, 0, 0, 0, 0, 0, 0, 0, 0, 0, 0, 0, 0, 0, 0, 0, 0, 0, 0, 0, 0, 0, 0, 0, 0, 0, 0, 0, 0, 0, 0, 0, 0, 0, 0, 0, 0, 0, 0, 0, 0, 0, 0, 0, 0, 0, 0, 0, 0, 0, 0, 0, 0, 0, 0, 0, 0, 0, 0, 0, 0, 0, 0, 0, 0, 0, 0, 0, 0, 0, 0, 0, 0, 0, 0, 0, 0, 0, 0, 0, 0, 0, 0, 0, 0, 0, 0, 0, 0, 0, 0, 0, 0, 0, 0, 0, 0, 0, 0, 0, 0, 0, 0, 0, 0, 0, 0, 0, 0, 0, 0, 0, 0, 0, 0, 0, 0, 0, 0, 0, 0, 0, 0, 0, 0, 0, 0, 0, 0, 0, 0, 0, 0, 0, 0, 0, 0, 0, 0, 0, 0, 0, 0, 0, 0, 0, 0, 0, 0, 0, 0, 0, 0, 0, 0, 0, 0, 0, 0, 0, 0, 0, 0, 0, 0, 0, 0, 0, 0, 0, 0, 0, 0, 0, 0, 0, 0, 0, 0, 0, 0, 0, 0, 0, 0, 0, 0, 0, 0, 0, 0, 0, 0, 0, 0, 0, 0, 0, 0, 0, 0, 0, 0, 0, 0, 0, 0, 0, 0, 0, 0, 0, 0, 0, 0, 0, 0, 0, 0, 0, 0, 0, 0, 0, 0, 0, 0, 0, 0, 0, 0, 0, 0, 0, 0, 0, 0, 0, 0, 0, 0, 0, 0, 0, 0, 0, 0, 0, 0, 0, 0, 0, 0, 0, 0, 0, 0, 0, 0, 0, 0, 0, 0, 0, 0, 0, 0, 0, 0, 0, 0, 0, 0, 1, 0, 0, 0, 0, 0, 0, 0, 0, 0, 0, 0, 0, 0, 0, 0, 0, 0, 0, 0, 0, 0, 0, 0, 0, 0, 0, 0, 0, 0, 0, 0, 0, 0, 0, 0, 0, 0, 0, 0, 0, 0, 0, 0, 0, 0, 0, 0, 0, 0, 0, 0, 0, 0, 0, 0, 0, 0, 0, 0, 0, 0, 0, 0, 0, 0, 0, 0, 0, 0, 0, 0, 0, 0, 0, 1, 0, 0, 0, 0, 0, 0, 0, 0, 0, 0, 0, 0, 0, 0, 0, 0, 0, 0, 0, 0, 1, 0, 0, 1, 0, 0, 0, 0, 0, 0, 0, 0, 0, 0, 0, 0, 0, 0, 0, 0, 0, 0, 0, 0, 0, 0, 0, 0, 0, 0, 0, 0, 0, 0, 0, 0, 0, 0, 0, 0, 0, 0, 0, 0, 0, 0, 0, 0, 0, 0, 0, 0, 0, 0, 0, 0, 0, 0, 0, 0, 0, 0, 0, 0, 0, 0, 0, 0, 0, 0, 0, 0, 0, 0, 0, 0, 0, 0, 0, 0, 0, 0, 0, 0, 0, 0, 0, 0, 0, 0, 0, 0, 0, 0, 0, 0, 0, 0, 0, 0, 0, 0, 0, 0, 0, 0, 0, 0, 0, 0, 0, 0, 0, 0, 0, 0, 0, 0, 0, 0, 0, 0, 0, 0, 0, 0, 0, 0, 0, 0, 0, 0, 0, 0, 0, 0, 0, 0, 0, 0, 0, 0, 0, 0, 0, 0, 0, 0, 0, 0, 0, 0, 0, 0, 0, 0, 0, 0, 0, 0, 0, 0, 0, 0, 0, 0, 0, 0, 0, 0, 0, 0, 0, 0, 0, 0, 0, 0, 0, 0, 0, 0, 0, 0, 0, 0, 0, 0, 0, 0, 0, 0, 0, 0, 0, 0, 0, 0, 0, 0, 0, 0, 0, 0, 0, 0, 0, 0, 0, 0, 0, 0, 0, 0, 0, 0, 0, 0, 0, 0, 0, 0, 0, 0, 0, 0, 0, 0, 0, 0, 0, 0, 0, 0, 0, 0, 0, 0, 0, 0, 0, 0, 0, 0, 0, 0, 0, 0, 0, 0, 0, 0, 0, 0, 0, 0, 0, 0, 0, 0, 0, 0, 0, 0, 0, 0, 0, 0, 0, 0, 0, 0, 0, 0, 0, 0, 0, 0, 0, 0, 0, 0, 0, 0, 0, 0, 0, 0, 0, 0, 0, 0, 0, 0, 0, 0, 0, 0, 0, 0, 0, 0, 0, 0, 0, 0, 0, 0, 0, 0, 0, 0, 0, 0, 0, 0, 0, 0, 0, 0, 0, 0, 0, 0, 0, 0, 0, 0, 0, 0, 0, 0, 0, 0, 0, 0, 0, 0, 0, 0, 0, 0, 0, 0, 0, 0, 0, 0, 0, 0, 0, 0, 0, 0, 0, 0, 0, 0, 0, 0, 0, 0, 0, 0, 0, 0, 0, 0, 0, 0, 0, 0, 0, 0, 0, 0, 0, 0, 0, 0, 0, 0, 0, 0, 0, 0, 0, 0, 0, 0, 0, 0, 0, 0, 0, 0, 0, 0, 0, 0, 0, 0, 0, 0, 0, 0, 0, 0, 0, 0, 0, 0, 0, 0, 0, 0, 0, 0, 0, 0, 0, 0, 0, 0, 0, 0, 0, 0, 0, 0, 0, 0, 0, 0, 0, 0, 0, 0, 0, 0, 0, 0, 0, 0, 0, 0, 0, 0, 0, 0, 0, 0, 0, 0, 0, 0, 0, 0, 0, 0, 0, 0, 0, 0, 0, 0, 0, 0, 0, 0, 1, 0, 0, 0, 0, 0, 0, 0, 0, 0, 0, 0, 0, 0, 0, 0, 0, 0, 0, 0, 0, 0, 0, 0, 0, 0, 0, 0, 0, 0, 0, 0, 0, 0, 0, 0, 0, 0, 0, 0, 0, 0, 0, 0, 0, 0, 0, 0, 0, 0, 0, 0, 0, 0, 0, 0, 0, 0, 0, 0, 0, 0, 0, 0, 0, 0, 0, 0, 0, 0, 0, 0, 0, 0, 0, 0, 0, 0, 0, 0, 0, 0, 0, 0, 0, 0, 0, 0, 0, 0, 0, 0, 0, 0, 0, 0, 0, 0, 0, 0, 0, 0, 0, 0, 0, 0, 0, 0, 0, 0, 0, 0, 0, 0, 0, 0, 0, 0, 0, 0, 0, 0, 0, 0, 0, 0, 0, 0, 0, 0, 0, 0, 0, 0, 0, 0, 0, 0, 0, 0, 0, 0, 0, 0, 0, 0, 0, 0, 0, 0, 0, 0, 0, 0, 0, 0, 0, 0, 0, 0, 0, 0, 0, 0, 0, 0, 0, 0, 0, 0, 0, 0, 0, 0, 0, 0, 0, 0, 0, 0, 0, 0, 0, 0, 0, 0, 0, 0, 0, 0, 0, 0, 0, 0, 0, 0, 0, 0, 0, 0, 0, 0, 0, 0, 0, 0, 0, 0, 0, 0, 0, 0, 0, 0, 0, 0, 0, 0, 0, 0, 0, 0, 0, 0, 0, 0, 0, 0, 0, 0, 0, 0, 0, 0, 0, 0, 0, 0, 0, 0, 0, 0, 0, 0, 0, 0, 0, 0, 0, 0, 0, 0, 0, 0, 0, 0, 0, 0, 0, 0, 0, 0, 0, 0, 0, 0, 0, 0, 0, 0, 0, 0, 0, 0, 0, 0, 0, 0, 0, 0, 0, 0, 0, 0, 0, 0, 0, 0, 0, 0, 0, 0, 0, 0, 0, 0, 0, 0, 0, 0, 0, 0, 0, 0, 0, 0, 0, 0, 0, 0, 0, 0, 0, 0, 0, 0, 0, 0, 0, 0, 0, 0, 0, 0, 0, 0, 0, 0, 0, 0, 0, 0, 0, 0, 0, 0, 0, 0, 0, 0, 0, 0, 0, 0, 0, 0, 0, 0, 0, 0, 0, 0, 0, 0, 0, 0, 0, 0, 0, 0, 0, 0, 0, 0, 0, 0, 0, 0, 0, 0, 0, 0, 0, 0, 0, 0, 0, 0, 0, 0, 0, 0, 0, 0, 0, 0, 0, 0, 0, 0, 0, 0, 0, 0, 0, 0, 0, 0, 0, 0, 0, 0, 0, 0, 0, 0, 0, 0, 0, 0, 0, 0, 0, 0, 0, 0, 0, 0, 0, 0, 0, 0, 0, 0, 0, 0, 0, 0, 0, 0, 0, 0, 0, 0, 0, 0, 0, 0, 0, 0, 0, 0, 0, 0, 0, 0, 0, 0, 0, 0, 0, 0, 0, 0, 0, 0, 0, 0, 0, 0, 0, 0, 0, 0, 0, 0, 0, 0, 0, 0, 0, 0, 0, 0, 0, 0, 0, 0, 0, 0, 0, 0, 0, 0, 0, 0, 0, 0, 0, 0, 0, 0, 0, 0, 0, 0, 0, 0, 0, 0, 0, 0, 0, 0, 0, 0, 0, 0, 0, 0, 0, 0, 0, 1, 0, 0, 0, 0, 0, 0, 0, 0, 0, 0, 0, 0, 0, 0, 0, 0, 0, 0, 0, 0, 0, 0, 0, 0, 0, 0, 0, 0, 0, 0, 0, 0, 0, 0, 0, 2, 0, 0, 0, 0, 0, 0, 0, 0, 0, 0, 0, 0, 0, 0, 0, 0, 0, 0, 0, 0, 0, 0, 0, 0, 0, 0, 0, 0, 0, 0, 0, 0, 0, 0, 0, 0, 0, 0, 0, 0, 1, 0, 0, 0, 0, 0, 0, 0, 0, 0, 0, 0, 0, 0, 0, 0, 0, 0, 0, 0, 0, 0, 0, 0, 0, 0, 0, 0, 0, 0, 0, 0, 0, 0, 0, 0, 0, 0, 0, 0, 0, 0, 0, 0, 0, 0, 0, 0, 0, 0, 0, 0, 0, 0, 0, 0, 0, 0, 0, 0, 0, 0, 0, 0, 0, 0, 0, 0, 0, 0, 0, 0, 0, 0, 0, 0, 0, 0, 0, 0, 0, 0, 0, 0, 0, 0, 0, 0, 0, 0, 0, 0, 0, 0, 0, 0, 0, 0, 0, 0, 0, 0, 0, 0, 0, 0, 0, 0, 0, 0, 0, 0, 0, 0, 0, 0, 0, 0, 0, 0, 0, 0, 0, 0, 0, 0, 0, 0, 0, 0, 0, 0, 0, 0, 0, 0, 0, 0, 0, 0, 0, 0, 0, 0, 0, 0, 0, 0, 0, 0, 0, 0, 0, 0, 0, 0, 0, 0, 0, 0, 0, 0, 0, 0, 0, 0, 0, 0, 0, 0, 0, 0, 0, 0, 0, 0, 0, 0, 0, 0, 0, 0, 0, 0, 0, 0, 0, 0, 0, 0, 0, 0, 0, 0, 0, 0, 0, 0, 0, 0, 0, 0, 0, 0, 0, 0, 0, 0, 0, 0, 0, 0, 0, 0, 0, 0, 0, 0, 0, 0, 0, 0, 0, 0, 0, 0, 0, 0, 0, 0, 0, 0, 0, 0, 0, 0, 0, 0, 0, 0, 0, 0, 0, 0, 0, 0, 0, 0, 0, 0, 0, 0, 0, 0, 0, 0, 0, 0, 0, 0, 0, 0, 0, 0, 0, 0, 0, 0, 0, 0, 0, 0, 0, 0, 0, 0, 0, 0, 0, 0, 0, 0, 0, 0, 0, 0, 0, 0, 0, 0, 0, 0, 0, 0, 0, 0, 0, 0, 0, 0, 0, 0, 0, 0, 0, 0, 0, 0, 0, 0, 0, 0, 0, 0, 0, 0, 0, 0, 0, 0, 0, 0, 0, 0, 0, 0, 0, 0, 0, 0, 0, 0, 0, 0, 0, 0, 0, 0, 0, 0, 0, 0, 0, 0, 0, 0, 0, 0, 0, 0, 0, 0, 0, 0, 0, 0, 0, 0, 0, 0, 0, 0, 0, 0, 0, 0, 0, 0, 0, 0, 0, 0, 0, 0, 0, 0, 0, 0, 0, 0, 0, 0, 0, 0, 0, 0, 0, 0, 0, 0, 0, 0, 0, 0, 0, 0, 0, 0, 0, 0, 0, 0, 0, 0, 0, 0, 0, 0, 0, 0, 0, 0, 0, 0, 0, 0, 0, 0, 0, 0, 0, 0, 0, 0, 0, 0, 0, 0, 0, 0, 0, 0, 0, 0, 0, 0, 0, 0, 0, 0, 0, 0, 0, 0, 0, 0, 0, 0, 0, 0, 0, 0, 0, 0, 0, 0, 0, 0, 0, 0, 0, 0, 0, 0, 0, 0, 0, 0, 0, 0, 0, 0, 0, 0, 0, 0, 0, 0, 0, 0, 0, 0, 0, 0, 0, 0, 0, 0, 0, 0, 0, 0, 0, 0, 0, 0, 0, 0, 1, 0, 0, 0, 0, 0, 0, 0, 0, 0, 0, 0, 0, 0, 0, 0, 0, 0, 0, 0, 0, 0, 0, 0, 0, 0, 0, 0, 0, 0, 0, 0, 0, 0, 0, 0, 0, 0, 0, 0, 0, 0, 0, 0, 0, 0, 0, 0, 0, 0, 0, 0, 0, 0, 0, 0, 0, 0, 0, 0, 0, 0, 0, 0, 0, 0, 0, 0, 0, 0, 0, 0, 0, 0, 0, 0, 0, 0, 0, 0, 0, 0, 0, 0, 0, 0, 0, 0, 0, 0, 0, 0, 0, 0, 0, 0, 0, 0, 0, 0, 0, 0, 0, 0, 0, 0, 0, 0, 0, 0, 0, 2, 0, 0, 0, 0, 0, 0, 0, 0, 0, 0, 0, 0, 0, 0, 0, 0, 0, 0, 0, 0, 0, 0, 0, 0, 0, 0, 0, 0, 0, 0, 0, 0, 0, 0, 0, 0, 0, 0, 0, 0, 0, 0, 0, 0, 0, 0, 0, 0, 0, 0, 0, 0, 0, 0, 0, 0, 0, 0, 0, 0, 0, 0, 0, 0, 0, 0, 0, 0, 0, 0, 0, 0, 0, 0, 0, 0, 0, 0, 0, 0, 0, 0, 0, 0, 0, 0, 0, 0, 0, 0, 0, 0, 0, 0, 0, 0, 0, 0, 0, 0, 0, 0, 0, 0, 0, 0, 0, 0, 0, 0, 0, 0, 0, 0, 0, 0, 0, 0, 0, 0, 0, 0, 0, 0, 0, 0, 0, 0, 0, 0, 0, 0, 0, 0, 0, 0, 0, 0, 0, 0, 0, 0, 0, 0, 0, 0, 0, 0, 0, 0, 0, 0, 0, 0, 0, 0, 0, 0, 0, 0, 0, 0, 0, 0, 0, 0, 0, 0, 0, 0, 0, 0, 0, 0, 0, 0, 0, 0, 0, 0, 0, 0, 0, 0, 0, 0, 0, 0, 0, 0, 0, 0, 0, 0, 0, 0, 0, 0, 0, 0, 0, 0, 0, 0, 0, 0, 0, 0, 0, 0, 0, 0, 0, 0, 0, 0, 0, 0, 0, 0, 0, 0, 0, 0, 0, 0, 0, 0, 0, 0, 0, 0, 0, 0, 0, 0, 0, 0, 0, 0, 0, 0, 0, 0, 0, 0, 0, 0, 0, 0, 0, 0, 0, 0, 0, 0, 0, 0, 0, 0, 0, 0, 0, 0, 0, 0, 0, 0, 0, 0, 0, 0, 0, 0, 0, 0, 0, 0, 0, 0, 0, 0, 0, 0, 0, 0, 0, 0, 0, 0, 0, 0, 0, 0, 0, 0, 0, 0, 0, 0, 0, 0, 0, 0, 0, 0, 0, 0, 0, 0, 0, 0, 0, 0, 0, 0, 0, 0, 0, 0, 0, 0, 0, 0, 0, 0, 0, 0, 0, 0, 0, 0, 0, 0, 0, 0, 0, 0, 0, 0, 0, 0, 0, 0, 0, 0, 0, 0, 0, 0, 0, 0, 0, 0, 0, 0, 0, 0, 0, 0, 0, 0, 0, 0, 0, 0, 0, 0, 0, 0, 0, 0, 0, 0, 0, 0, 0, 0, 0, 0, 0, 0, 0, 0, 0, 0, 0, 0, 0, 0, 0, 0, 0, 0, 0, 0, 0, 0, 0, 0, 0, 0, 0, 0, 0, 0, 0, 0, 0, 0, 0, 0, 0, 0, 0, 0, 0, 0, 0, 0, 0, 0, 0, 0, 0, 0, 0, 0, 0, 0, 0, 0, 0, 0, 0, 0, 0, 0, 0, 0, 0, 0, 0, 0, 0, 0, 0, 0, 0, 0, 0, 0, 0, 0, 0, 0, 0, 0, 0, 0, 0, 0, 0, 0, 0, 0, 0, 0, 0, 0, 0, 0, 0, 0, 0, 0, 0, 0, 0, 0, 0, 0, 0, 0, 0, 0, 0, 0, 0, 0, 0, 0, 0, 0, 0, 0, 0, 0, 0, 0, 0, 0, 0, 0, 0, 0, 0, 0, 0, 0, 0, 0, 0, 0, 0, 0, 0, 0, 0, 0, 0, 0, 0, 0, 0, 0, 0, 0, 0, 0, 0, 0, 0, 0, 0, 0, 0, 0, 0, 0, 0, 0, 0, 0, 0, 0, 0, 0, 0, 0, 0, 0, 0, 0, 0, 0, 0, 0, 0, 0, 0, 0, 0, 0, 0, 0, 0, 0, 0, 0, 0, 0, 0, 0, 0, 0, 0, 0, 0, 0, 0, 0, 0, 0, 0, 0, 0, 0, 0, 0, 0, 0, 0, 0, 0, 0, 0, 0, 0, 0, 0, 0, 0, 0, 0, 0, 0, 0, 0, 0, 0, 0, 0, 0, 0, 0, 0, 0, 0, 0, 0, 0, 0, 0, 0, 0, 0, 0, 0, 0, 0, 0, 0, 0, 0, 0, 0, 0, 0, 0, 0, 0, 0, 0, 0, 0, 0, 0, 0, 0, 0, 0, 0, 0, 0, 0, 0, 0, 0, 0, 0, 0, 0, 0, 0, 0, 0, 0, 0, 0, 0, 0, 0, 0, 0, 0, 0, 0, 0, 0, 0, 0, 0, 0, 0, 0, 0, 0, 0, 0, 1, 0, 0, 0, 0, 0, 0, 0, 0, 0, 0, 0, 0, 0, 0, 0, 0, 0, 0, 0, 0, 0, 0, 0, 0, 0, 0, 0, 0, 0, 0, 0, 0, 0, 0, 0, 0, 0, 0, 0, 0, 0, 0, 0, 0, 0, 0, 0, 0, 0, 0, 0, 0, 0, 0, 0, 0, 0, 0, 0, 0, 0, 0, 0, 0, 0, 0, 0, 0, 0, 0, 0, 0, 0, 0, 0, 0, 0, 0, 0, 0, 0, 0, 0, 0, 0, 0, 0, 0, 0, 0, 0, 0, 0, 0, 0, 0, 0, 0, 0, 0, 0, 0, 0, 0, 0, 0, 0, 1, 0, 0, 0, 0, 0, 0, 0, 0, 0, 0, 0, 0, 0, 0, 0, 0, 0, 0, 0, 0, 0, 0, 0, 0, 0, 0, 0, 0, 0, 0, 0, 0, 0, 0, 0, 0, 0, 0, 0, 0, 0, 0, 0, 0, 0, 0, 0, 0, 0, 0, 0, 0, 0, 0, 0, 0, 0, 0, 0, 0, 0, 0, 0, 0, 0, 0, 0, 0, 0, 0, 0, 0, 0, 0, 0, 0, 0, 0, 0, 0, 0, 0, 0, 0, 0, 0, 0, 0, 0, 0, 0, 0, 0, 0, 0, 0, 0, 0, 0, 0, 0, 0, 0, 0, 0, 0, 0, 0, 0, 0, 0, 0, 0, 0, 0, 0, 0, 0, 0, 0, 0, 0, 0, 0, 0, 0, 0, 0, 0, 0, 0, 0, 0, 0, 0, 0, 0, 0, 0, 0, 0, 0, 0, 0, 0, 0, 0, 0, 0, 0, 0, 0, 0, 0, 0, 0, 0, 0, 0, 0, 0, 0, 0, 0, 0, 0, 0, 0, 0, 0, 0, 0, 0, 0, 0, 0, 0, 0, 0, 0, 0, 0, 0, 0, 0, 0, 0, 0, 0, 0, 0, 0, 0, 0, 0, 0, 0, 0, 0, 0, 0, 0, 0, 0, 0, 0, 0, 0, 0, 0, 0, 0, 0, 0, 0, 0, 0, 0, 0, 0, 0, 0, 0, 0, 0, 0, 0, 0, 0, 0, 0, 0, 0, 0, 0, 0, 0, 0, 0, 0, 0, 0, 0, 0, 0, 0, 0, 0, 0, 0, 0, 0, 0, 0, 0, 0, 0, 0, 0, 0, 0, 0, 0, 0, 0, 0, 0, 0, 0, 0, 0, 0, 0, 0, 0, 0, 0, 0, 0, 0, 0, 0, 0, 0, 0, 0, 0, 0, 0, 0, 0, 0, 0, 0, 0, 0, 0, 0, 0, 0, 0, 0, 0, 0, 0, 0, 0, 0, 0, 0, 0, 0, 0, 0, 0, 0, 0, 0, 0, 0, 0, 0, 0, 0, 0, 0, 0, 0, 0, 0, 0, 0, 0, 0, 0, 0, 0, 0, 0, 0, 0, 0, 0, 0, 0, 0, 0, 0, 0, 0, 0, 0, 0, 0, 0, 0, 0, 0, 0, 0, 0, 0, 0, 0, 0, 0, 0, 0, 0, 0, 0, 0, 0, 0, 0, 0, 0, 0, 0, 0, 0, 0, 0, 0, 0, 0, 0, 0, 0, 0, 0, 0, 0, 0, 0, 0, 0, 0, 0, 0, 0, 0, 0, 0, 0, 0, 0, 0, 0, 0, 0, 0, 0, 0, 0, 0, 0, 0, 0, 0, 0, 0, 0, 0, 0, 0, 0, 0, 0, 0, 0, 0, 0, 0, 0, 0, 0, 0, 0, 0, 0, 0, 0, 0, 0, 0, 0, 0, 0, 0, 0, 0, 0, 0, 0, 0, 0, 0, 0, 0, 0, 0, 0, 2, 0, 1, 0], type: <class 'list'>, valid types: <class 'bytes'>, <class 'bytearray'>, file-like object",
     "output_type": "error",
     "traceback": [
      "\u001b[0;31m---------------------------------------------------------------------------\u001b[0m",
      "\u001b[0;31mParamValidationError\u001b[0m                      Traceback (most recent call last)",
      "\u001b[0;32m<ipython-input-50-c9ab54ae3a48>\u001b[0m in \u001b[0;36m<module>\u001b[0;34m\u001b[0m\n\u001b[1;32m      1\u001b[0m response = runtime.invoke_endpoint(EndpointName = xgb_predictor.endpoint, # The name of the endpoint we created\n\u001b[1;32m      2\u001b[0m                                        \u001b[0mContentType\u001b[0m \u001b[0;34m=\u001b[0m \u001b[0;34m'text/csv'\u001b[0m\u001b[0;34m,\u001b[0m                     \u001b[0;31m# The data format that is expected\u001b[0m\u001b[0;34m\u001b[0m\u001b[0;34m\u001b[0m\u001b[0m\n\u001b[0;32m----> 3\u001b[0;31m                                        Body = test_bow)\n\u001b[0m",
      "\u001b[0;32m~/anaconda3/envs/python3/lib/python3.6/site-packages/botocore/client.py\u001b[0m in \u001b[0;36m_api_call\u001b[0;34m(self, *args, **kwargs)\u001b[0m\n\u001b[1;32m    314\u001b[0m                     \"%s() only accepts keyword arguments.\" % py_operation_name)\n\u001b[1;32m    315\u001b[0m             \u001b[0;31m# The \"self\" in this scope is referring to the BaseClient.\u001b[0m\u001b[0;34m\u001b[0m\u001b[0;34m\u001b[0m\u001b[0;34m\u001b[0m\u001b[0m\n\u001b[0;32m--> 316\u001b[0;31m             \u001b[0;32mreturn\u001b[0m \u001b[0mself\u001b[0m\u001b[0;34m.\u001b[0m\u001b[0m_make_api_call\u001b[0m\u001b[0;34m(\u001b[0m\u001b[0moperation_name\u001b[0m\u001b[0;34m,\u001b[0m \u001b[0mkwargs\u001b[0m\u001b[0;34m)\u001b[0m\u001b[0;34m\u001b[0m\u001b[0;34m\u001b[0m\u001b[0m\n\u001b[0m\u001b[1;32m    317\u001b[0m \u001b[0;34m\u001b[0m\u001b[0m\n\u001b[1;32m    318\u001b[0m         \u001b[0m_api_call\u001b[0m\u001b[0;34m.\u001b[0m\u001b[0m__name__\u001b[0m \u001b[0;34m=\u001b[0m \u001b[0mstr\u001b[0m\u001b[0;34m(\u001b[0m\u001b[0mpy_operation_name\u001b[0m\u001b[0;34m)\u001b[0m\u001b[0;34m\u001b[0m\u001b[0;34m\u001b[0m\u001b[0m\n",
      "\u001b[0;32m~/anaconda3/envs/python3/lib/python3.6/site-packages/botocore/client.py\u001b[0m in \u001b[0;36m_make_api_call\u001b[0;34m(self, operation_name, api_params)\u001b[0m\n\u001b[1;32m    606\u001b[0m         }\n\u001b[1;32m    607\u001b[0m         request_dict = self._convert_to_request_dict(\n\u001b[0;32m--> 608\u001b[0;31m             api_params, operation_model, context=request_context)\n\u001b[0m\u001b[1;32m    609\u001b[0m \u001b[0;34m\u001b[0m\u001b[0m\n\u001b[1;32m    610\u001b[0m         \u001b[0mservice_id\u001b[0m \u001b[0;34m=\u001b[0m \u001b[0mself\u001b[0m\u001b[0;34m.\u001b[0m\u001b[0m_service_model\u001b[0m\u001b[0;34m.\u001b[0m\u001b[0mservice_id\u001b[0m\u001b[0;34m.\u001b[0m\u001b[0mhyphenize\u001b[0m\u001b[0;34m(\u001b[0m\u001b[0;34m)\u001b[0m\u001b[0;34m\u001b[0m\u001b[0;34m\u001b[0m\u001b[0m\n",
      "\u001b[0;32m~/anaconda3/envs/python3/lib/python3.6/site-packages/botocore/client.py\u001b[0m in \u001b[0;36m_convert_to_request_dict\u001b[0;34m(self, api_params, operation_model, context)\u001b[0m\n\u001b[1;32m    654\u001b[0m             api_params, operation_model, context)\n\u001b[1;32m    655\u001b[0m         request_dict = self._serializer.serialize_to_request(\n\u001b[0;32m--> 656\u001b[0;31m             api_params, operation_model)\n\u001b[0m\u001b[1;32m    657\u001b[0m         \u001b[0;32mif\u001b[0m \u001b[0;32mnot\u001b[0m \u001b[0mself\u001b[0m\u001b[0;34m.\u001b[0m\u001b[0m_client_config\u001b[0m\u001b[0;34m.\u001b[0m\u001b[0minject_host_prefix\u001b[0m\u001b[0;34m:\u001b[0m\u001b[0;34m\u001b[0m\u001b[0;34m\u001b[0m\u001b[0m\n\u001b[1;32m    658\u001b[0m             \u001b[0mrequest_dict\u001b[0m\u001b[0;34m.\u001b[0m\u001b[0mpop\u001b[0m\u001b[0;34m(\u001b[0m\u001b[0;34m'host_prefix'\u001b[0m\u001b[0;34m,\u001b[0m \u001b[0;32mNone\u001b[0m\u001b[0;34m)\u001b[0m\u001b[0;34m\u001b[0m\u001b[0;34m\u001b[0m\u001b[0m\n",
      "\u001b[0;32m~/anaconda3/envs/python3/lib/python3.6/site-packages/botocore/validate.py\u001b[0m in \u001b[0;36mserialize_to_request\u001b[0;34m(self, parameters, operation_model)\u001b[0m\n\u001b[1;32m    295\u001b[0m                                                     operation_model.input_shape)\n\u001b[1;32m    296\u001b[0m             \u001b[0;32mif\u001b[0m \u001b[0mreport\u001b[0m\u001b[0;34m.\u001b[0m\u001b[0mhas_errors\u001b[0m\u001b[0;34m(\u001b[0m\u001b[0;34m)\u001b[0m\u001b[0;34m:\u001b[0m\u001b[0;34m\u001b[0m\u001b[0;34m\u001b[0m\u001b[0m\n\u001b[0;32m--> 297\u001b[0;31m                 \u001b[0;32mraise\u001b[0m \u001b[0mParamValidationError\u001b[0m\u001b[0;34m(\u001b[0m\u001b[0mreport\u001b[0m\u001b[0;34m=\u001b[0m\u001b[0mreport\u001b[0m\u001b[0;34m.\u001b[0m\u001b[0mgenerate_report\u001b[0m\u001b[0;34m(\u001b[0m\u001b[0;34m)\u001b[0m\u001b[0;34m)\u001b[0m\u001b[0;34m\u001b[0m\u001b[0;34m\u001b[0m\u001b[0m\n\u001b[0m\u001b[1;32m    298\u001b[0m         return self._serializer.serialize_to_request(parameters,\n\u001b[1;32m    299\u001b[0m                                                      operation_model)\n",
      "\u001b[0;31mParamValidationError\u001b[0m: Parameter validation failed:\nInvalid type for parameter Body, value: [0, 0, 0, 0, 0, 0, 0, 0, 0, 0, 0, 0, 0, 0, 0, 0, 0, 0, 0, 0, 0, 0, 0, 0, 0, 0, 0, 0, 0, 0, 0, 0, 0, 0, 0, 0, 0, 0, 0, 0, 0, 0, 0, 0, 0, 0, 0, 0, 0, 0, 0, 0, 0, 0, 0, 0, 0, 0, 0, 0, 0, 0, 0, 0, 0, 0, 0, 0, 0, 0, 0, 0, 0, 0, 0, 0, 0, 0, 0, 0, 0, 0, 0, 0, 0, 0, 0, 0, 0, 0, 0, 0, 0, 0, 0, 0, 0, 0, 0, 0, 0, 0, 0, 0, 0, 0, 0, 0, 0, 0, 0, 0, 0, 0, 0, 0, 0, 0, 0, 0, 0, 0, 0, 0, 0, 0, 0, 0, 0, 0, 0, 0, 0, 0, 0, 0, 0, 0, 0, 0, 0, 0, 0, 0, 0, 0, 0, 0, 0, 0, 0, 0, 0, 0, 0, 0, 0, 0, 0, 0, 0, 0, 0, 0, 0, 0, 0, 0, 0, 0, 0, 0, 0, 0, 0, 0, 0, 0, 0, 0, 0, 0, 0, 0, 0, 0, 0, 0, 0, 0, 0, 0, 0, 0, 0, 0, 0, 0, 0, 0, 0, 0, 0, 0, 0, 0, 0, 0, 0, 0, 0, 0, 0, 0, 0, 0, 0, 0, 0, 0, 0, 0, 0, 0, 0, 0, 1, 0, 0, 0, 0, 0, 0, 0, 0, 0, 0, 0, 0, 0, 0, 0, 0, 0, 0, 0, 0, 0, 0, 0, 0, 0, 0, 0, 0, 0, 1, 0, 0, 0, 0, 0, 0, 0, 0, 0, 0, 0, 0, 0, 0, 0, 0, 0, 0, 0, 0, 0, 0, 0, 0, 0, 0, 0, 0, 0, 0, 0, 0, 0, 0, 0, 0, 0, 0, 0, 0, 0, 0, 0, 0, 0, 0, 0, 0, 0, 0, 0, 0, 0, 0, 0, 0, 0, 0, 0, 0, 0, 0, 0, 0, 0, 0, 0, 0, 0, 0, 0, 0, 0, 0, 0, 0, 0, 0, 0, 0, 0, 0, 0, 0, 0, 0, 0, 0, 0, 0, 0, 0, 0, 0, 0, 0, 0, 0, 0, 0, 0, 0, 0, 0, 0, 0, 0, 0, 0, 0, 0, 0, 0, 0, 0, 0, 0, 0, 0, 0, 0, 0, 0, 0, 0, 0, 0, 0, 0, 0, 0, 0, 0, 0, 0, 0, 0, 0, 0, 0, 0, 0, 0, 0, 0, 0, 0, 0, 0, 0, 0, 0, 0, 0, 0, 0, 0, 0, 0, 0, 0, 0, 0, 0, 0, 0, 0, 0, 0, 0, 0, 0, 0, 0, 0, 0, 0, 0, 0, 0, 0, 0, 0, 0, 0, 0, 0, 0, 0, 0, 0, 0, 0, 0, 0, 0, 0, 0, 0, 0, 0, 0, 0, 0, 0, 0, 0, 0, 0, 0, 0, 0, 0, 0, 0, 0, 0, 0, 0, 0, 0, 0, 0, 0, 0, 0, 0, 0, 0, 0, 0, 0, 0, 0, 0, 0, 0, 0, 0, 0, 0, 0, 0, 0, 0, 0, 0, 0, 0, 0, 0, 0, 0, 0, 0, 0, 0, 0, 0, 0, 0, 0, 0, 0, 0, 0, 0, 0, 0, 0, 0, 0, 0, 0, 0, 0, 0, 0, 0, 0, 0, 0, 0, 0, 0, 0, 0, 0, 0, 0, 0, 0, 0, 0, 0, 0, 0, 0, 0, 0, 0, 0, 0, 0, 0, 0, 0, 0, 0, 0, 0, 0, 0, 0, 0, 0, 0, 0, 0, 0, 0, 0, 0, 0, 0, 0, 0, 0, 0, 0, 0, 0, 0, 0, 0, 0, 0, 0, 0, 0, 0, 0, 0, 0, 0, 0, 0, 0, 0, 0, 0, 0, 0, 0, 0, 0, 0, 0, 0, 0, 0, 0, 0, 0, 0, 0, 0, 0, 0, 0, 0, 0, 0, 0, 0, 0, 0, 0, 0, 1, 0, 0, 0, 0, 0, 0, 0, 0, 0, 0, 0, 0, 0, 0, 0, 0, 0, 0, 0, 0, 0, 0, 0, 0, 0, 0, 0, 0, 0, 0, 0, 0, 0, 0, 0, 0, 0, 0, 0, 0, 0, 0, 0, 0, 0, 0, 0, 0, 0, 0, 0, 0, 0, 0, 0, 0, 0, 0, 0, 0, 0, 0, 0, 0, 0, 0, 0, 0, 0, 0, 0, 0, 0, 0, 0, 0, 0, 0, 0, 0, 0, 0, 0, 0, 0, 0, 0, 0, 0, 0, 0, 0, 0, 0, 0, 0, 0, 0, 0, 0, 0, 0, 0, 0, 0, 0, 0, 0, 0, 0, 0, 0, 0, 0, 0, 0, 0, 0, 0, 0, 0, 0, 0, 0, 0, 0, 0, 0, 0, 0, 0, 0, 0, 0, 0, 0, 0, 0, 0, 0, 0, 0, 0, 0, 0, 0, 0, 0, 0, 0, 0, 0, 0, 0, 0, 0, 0, 0, 0, 0, 0, 0, 0, 0, 0, 0, 0, 0, 0, 0, 0, 0, 0, 0, 0, 0, 0, 0, 0, 0, 0, 0, 0, 0, 0, 0, 0, 0, 0, 0, 0, 0, 0, 0, 0, 0, 0, 0, 0, 0, 0, 0, 0, 0, 0, 0, 0, 0, 0, 0, 0, 0, 0, 0, 0, 0, 0, 0, 0, 0, 0, 0, 0, 0, 0, 0, 0, 0, 0, 0, 0, 0, 0, 0, 0, 0, 0, 0, 0, 0, 0, 0, 0, 0, 0, 0, 0, 0, 0, 0, 0, 0, 0, 1, 0, 0, 0, 0, 0, 0, 0, 0, 0, 0, 0, 0, 0, 0, 0, 0, 0, 0, 0, 0, 0, 0, 0, 0, 0, 0, 0, 0, 0, 0, 0, 0, 0, 0, 0, 0, 0, 0, 0, 0, 0, 0, 0, 0, 0, 0, 0, 0, 0, 0, 0, 0, 0, 0, 0, 0, 0, 0, 0, 0, 0, 0, 0, 0, 0, 0, 0, 0, 0, 0, 0, 0, 0, 0, 0, 0, 0, 0, 0, 0, 0, 0, 0, 0, 0, 0, 1, 0, 0, 0, 0, 0, 0, 0, 0, 0, 0, 0, 0, 0, 0, 0, 0, 0, 0, 0, 0, 0, 0, 0, 0, 0, 0, 0, 0, 0, 0, 0, 0, 0, 0, 0, 0, 0, 0, 0, 0, 0, 0, 0, 0, 0, 0, 0, 0, 0, 0, 0, 0, 0, 0, 0, 0, 0, 0, 0, 0, 0, 0, 0, 0, 0, 0, 0, 0, 0, 0, 0, 0, 0, 0, 0, 0, 0, 0, 0, 0, 0, 0, 0, 0, 0, 0, 0, 0, 0, 0, 0, 0, 0, 0, 0, 0, 0, 0, 0, 0, 0, 0, 0, 0, 0, 0, 0, 0, 0, 0, 0, 0, 0, 0, 0, 0, 0, 0, 0, 0, 0, 0, 0, 0, 0, 0, 0, 0, 0, 0, 0, 0, 0, 0, 0, 0, 0, 0, 0, 0, 0, 0, 0, 0, 0, 0, 0, 0, 0, 0, 0, 0, 0, 0, 0, 0, 0, 0, 0, 0, 0, 0, 0, 0, 0, 0, 0, 0, 0, 0, 0, 0, 0, 0, 0, 0, 0, 0, 0, 0, 0, 0, 0, 0, 0, 0, 0, 0, 0, 0, 0, 0, 0, 0, 0, 0, 0, 0, 0, 0, 0, 0, 0, 0, 0, 0, 0, 0, 0, 0, 0, 0, 0, 0, 0, 0, 0, 0, 0, 0, 0, 0, 0, 0, 0, 0, 0, 0, 0, 0, 0, 0, 0, 0, 0, 0, 0, 0, 0, 0, 0, 0, 0, 0, 0, 0, 0, 0, 0, 0, 0, 0, 1, 0, 0, 0, 0, 0, 0, 0, 0, 0, 0, 0, 0, 0, 0, 0, 0, 0, 0, 0, 0, 0, 0, 0, 0, 0, 0, 0, 0, 0, 0, 0, 0, 0, 0, 0, 0, 0, 0, 0, 0, 0, 0, 0, 0, 0, 0, 0, 0, 0, 0, 0, 0, 0, 0, 0, 1, 0, 0, 0, 0, 0, 0, 0, 0, 0, 0, 0, 0, 0, 0, 0, 0, 0, 0, 0, 0, 0, 0, 0, 0, 0, 0, 0, 0, 0, 0, 0, 0, 0, 0, 0, 0, 0, 0, 0, 0, 0, 0, 0, 0, 0, 0, 0, 0, 0, 0, 0, 0, 0, 0, 0, 0, 0, 0, 0, 0, 0, 0, 0, 0, 0, 0, 0, 0, 0, 0, 0, 0, 0, 0, 0, 0, 0, 0, 0, 0, 0, 0, 0, 0, 0, 0, 0, 0, 0, 0, 0, 0, 0, 0, 0, 0, 0, 0, 0, 0, 0, 0, 0, 0, 0, 0, 0, 0, 0, 0, 0, 0, 0, 0, 0, 0, 0, 0, 0, 0, 0, 0, 0, 0, 0, 0, 0, 0, 0, 0, 0, 0, 0, 0, 0, 0, 0, 0, 0, 0, 0, 0, 0, 0, 0, 0, 0, 0, 0, 0, 0, 0, 0, 0, 0, 0, 0, 0, 0, 0, 0, 0, 0, 0, 0, 0, 0, 0, 0, 0, 0, 0, 0, 0, 0, 0, 0, 0, 0, 0, 0, 0, 0, 0, 0, 0, 0, 0, 0, 0, 0, 0, 0, 0, 0, 0, 0, 0, 0, 0, 0, 0, 0, 0, 0, 0, 0, 0, 0, 0, 0, 0, 0, 0, 0, 0, 0, 0, 0, 0, 0, 0, 0, 0, 0, 0, 0, 0, 0, 0, 0, 0, 0, 0, 0, 0, 0, 0, 0, 0, 0, 0, 0, 0, 0, 0, 0, 0, 0, 0, 0, 0, 0, 0, 0, 0, 0, 0, 0, 0, 0, 0, 0, 0, 0, 0, 0, 0, 0, 0, 0, 0, 0, 0, 0, 0, 0, 0, 0, 0, 0, 0, 0, 0, 0, 0, 0, 0, 0, 0, 0, 0, 0, 0, 0, 0, 0, 0, 0, 0, 0, 0, 0, 0, 0, 0, 0, 0, 0, 0, 0, 0, 0, 0, 0, 0, 0, 0, 0, 0, 0, 0, 0, 0, 0, 0, 0, 0, 0, 0, 0, 0, 0, 0, 0, 0, 0, 0, 0, 0, 0, 0, 0, 0, 0, 0, 0, 0, 0, 0, 0, 0, 0, 0, 0, 0, 0, 0, 0, 0, 0, 0, 0, 0, 0, 0, 0, 0, 0, 0, 0, 0, 0, 0, 0, 0, 0, 0, 0, 0, 0, 0, 0, 0, 0, 0, 0, 0, 0, 0, 0, 0, 0, 0, 0, 0, 0, 0, 0, 0, 0, 0, 0, 0, 0, 0, 0, 0, 0, 0, 0, 0, 0, 0, 0, 0, 0, 0, 0, 0, 0, 0, 0, 0, 0, 0, 0, 0, 0, 0, 0, 0, 0, 0, 0, 0, 0, 0, 0, 0, 0, 0, 0, 0, 0, 0, 0, 0, 0, 0, 0, 0, 0, 0, 0, 0, 0, 0, 0, 0, 0, 0, 0, 0, 0, 0, 0, 0, 0, 0, 0, 0, 0, 0, 0, 0, 0, 0, 0, 0, 0, 0, 0, 0, 0, 0, 0, 0, 0, 0, 0, 0, 0, 0, 0, 0, 0, 0, 0, 0, 0, 0, 0, 0, 0, 0, 0, 0, 0, 0, 0, 0, 0, 0, 0, 0, 0, 0, 0, 0, 0, 0, 0, 0, 0, 0, 0, 0, 0, 0, 0, 0, 0, 0, 0, 0, 0, 0, 0, 0, 0, 0, 0, 0, 0, 0, 0, 0, 0, 0, 0, 0, 0, 0, 0, 0, 0, 0, 0, 0, 0, 0, 0, 0, 0, 0, 0, 0, 0, 0, 0, 0, 0, 0, 0, 0, 0, 0, 0, 0, 0, 0, 0, 0, 0, 0, 0, 0, 0, 0, 0, 0, 0, 0, 0, 0, 0, 0, 0, 0, 0, 0, 0, 0, 0, 0, 0, 0, 0, 0, 0, 0, 0, 0, 0, 0, 0, 0, 0, 0, 0, 0, 0, 0, 0, 0, 0, 0, 0, 0, 0, 0, 0, 0, 0, 0, 0, 0, 0, 0, 0, 0, 0, 0, 0, 0, 0, 0, 0, 0, 0, 0, 0, 0, 0, 0, 0, 0, 0, 0, 0, 0, 0, 0, 0, 0, 0, 0, 0, 0, 0, 0, 0, 0, 0, 0, 0, 0, 0, 0, 0, 1, 0, 0, 0, 0, 0, 0, 0, 0, 0, 0, 0, 0, 0, 0, 0, 0, 0, 0, 0, 0, 0, 0, 0, 0, 0, 0, 0, 0, 0, 0, 0, 0, 0, 0, 0, 0, 0, 0, 0, 0, 0, 0, 0, 0, 0, 0, 0, 0, 0, 0, 0, 0, 0, 0, 0, 0, 0, 0, 0, 0, 0, 0, 0, 0, 0, 0, 0, 0, 0, 0, 0, 0, 0, 0, 1, 0, 0, 0, 0, 0, 0, 0, 0, 0, 0, 0, 0, 0, 0, 0, 0, 0, 0, 0, 0, 1, 0, 0, 1, 0, 0, 0, 0, 0, 0, 0, 0, 0, 0, 0, 0, 0, 0, 0, 0, 0, 0, 0, 0, 0, 0, 0, 0, 0, 0, 0, 0, 0, 0, 0, 0, 0, 0, 0, 0, 0, 0, 0, 0, 0, 0, 0, 0, 0, 0, 0, 0, 0, 0, 0, 0, 0, 0, 0, 0, 0, 0, 0, 0, 0, 0, 0, 0, 0, 0, 0, 0, 0, 0, 0, 0, 0, 0, 0, 0, 0, 0, 0, 0, 0, 0, 0, 0, 0, 0, 0, 0, 0, 0, 0, 0, 0, 0, 0, 0, 0, 0, 0, 0, 0, 0, 0, 0, 0, 0, 0, 0, 0, 0, 0, 0, 0, 0, 0, 0, 0, 0, 0, 0, 0, 0, 0, 0, 0, 0, 0, 0, 0, 0, 0, 0, 0, 0, 0, 0, 0, 0, 0, 0, 0, 0, 0, 0, 0, 0, 0, 0, 0, 0, 0, 0, 0, 0, 0, 0, 0, 0, 0, 0, 0, 0, 0, 0, 0, 0, 0, 0, 0, 0, 0, 0, 0, 0, 0, 0, 0, 0, 0, 0, 0, 0, 0, 0, 0, 0, 0, 0, 0, 0, 0, 0, 0, 0, 0, 0, 0, 0, 0, 0, 0, 0, 0, 0, 0, 0, 0, 0, 0, 0, 0, 0, 0, 0, 0, 0, 0, 0, 0, 0, 0, 0, 0, 0, 0, 0, 0, 0, 0, 0, 0, 0, 0, 0, 0, 0, 0, 0, 0, 0, 0, 0, 0, 0, 0, 0, 0, 0, 0, 0, 0, 0, 0, 0, 0, 0, 0, 0, 0, 0, 0, 0, 0, 0, 0, 0, 0, 0, 0, 0, 0, 0, 0, 0, 0, 0, 0, 0, 0, 0, 0, 0, 0, 0, 0, 0, 0, 0, 0, 0, 0, 0, 0, 0, 0, 0, 0, 0, 0, 0, 0, 0, 0, 0, 0, 0, 0, 0, 0, 0, 0, 0, 0, 0, 0, 0, 0, 0, 0, 0, 0, 0, 0, 0, 0, 0, 0, 0, 0, 0, 0, 0, 0, 0, 0, 0, 0, 0, 0, 0, 0, 0, 0, 0, 0, 0, 0, 0, 0, 0, 0, 0, 0, 0, 0, 0, 0, 0, 0, 0, 0, 0, 0, 0, 0, 0, 0, 0, 0, 0, 0, 0, 0, 0, 0, 0, 0, 0, 0, 0, 0, 0, 0, 0, 0, 0, 0, 0, 0, 0, 0, 0, 0, 0, 0, 0, 0, 0, 0, 0, 0, 0, 0, 0, 0, 0, 0, 0, 0, 0, 0, 0, 0, 0, 0, 0, 0, 0, 0, 0, 0, 0, 0, 0, 0, 0, 0, 0, 0, 0, 0, 0, 0, 0, 0, 0, 0, 0, 0, 0, 0, 0, 0, 0, 0, 0, 0, 0, 0, 0, 0, 0, 0, 0, 0, 0, 0, 0, 0, 0, 0, 0, 0, 0, 0, 0, 1, 0, 0, 0, 0, 0, 0, 0, 0, 0, 0, 0, 0, 0, 0, 0, 0, 0, 0, 0, 0, 0, 0, 0, 0, 0, 0, 0, 0, 0, 0, 0, 0, 0, 0, 0, 0, 0, 0, 0, 0, 0, 0, 0, 0, 0, 0, 0, 0, 0, 0, 0, 0, 0, 0, 0, 0, 0, 0, 0, 0, 0, 0, 0, 0, 0, 0, 0, 0, 0, 0, 0, 0, 0, 0, 0, 0, 0, 0, 0, 0, 0, 0, 0, 0, 0, 0, 0, 0, 0, 0, 0, 0, 0, 0, 0, 0, 0, 0, 0, 0, 0, 0, 0, 0, 0, 0, 0, 0, 0, 0, 0, 0, 0, 0, 0, 0, 0, 0, 0, 0, 0, 0, 0, 0, 0, 0, 0, 0, 0, 0, 0, 0, 0, 0, 0, 0, 0, 0, 0, 0, 0, 0, 0, 0, 0, 0, 0, 0, 0, 0, 0, 0, 0, 0, 0, 0, 0, 0, 0, 0, 0, 0, 0, 0, 0, 0, 0, 0, 0, 0, 0, 0, 0, 0, 0, 0, 0, 0, 0, 0, 0, 0, 0, 0, 0, 0, 0, 0, 0, 0, 0, 0, 0, 0, 0, 0, 0, 0, 0, 0, 0, 0, 0, 0, 0, 0, 0, 0, 0, 0, 0, 0, 0, 0, 0, 0, 0, 0, 0, 0, 0, 0, 0, 0, 0, 0, 0, 0, 0, 0, 0, 0, 0, 0, 0, 0, 0, 0, 0, 0, 0, 0, 0, 0, 0, 0, 0, 0, 0, 0, 0, 0, 0, 0, 0, 0, 0, 0, 0, 0, 0, 0, 0, 0, 0, 0, 0, 0, 0, 0, 0, 0, 0, 0, 0, 0, 0, 0, 0, 0, 0, 0, 0, 0, 0, 0, 0, 0, 0, 0, 0, 0, 0, 0, 0, 0, 0, 0, 0, 0, 0, 0, 0, 0, 0, 0, 0, 0, 0, 0, 0, 0, 0, 0, 0, 0, 0, 0, 0, 0, 0, 0, 0, 0, 0, 0, 0, 0, 0, 0, 0, 0, 0, 0, 0, 0, 0, 0, 0, 0, 0, 0, 0, 0, 0, 0, 0, 0, 0, 0, 0, 0, 0, 0, 0, 0, 0, 0, 0, 0, 0, 0, 0, 0, 0, 0, 0, 0, 0, 0, 0, 0, 0, 0, 0, 0, 0, 0, 0, 0, 0, 0, 0, 0, 0, 0, 0, 0, 0, 0, 0, 0, 0, 0, 0, 0, 0, 0, 0, 0, 0, 0, 0, 0, 0, 0, 0, 0, 0, 0, 0, 0, 0, 0, 0, 0, 0, 0, 0, 0, 0, 0, 0, 0, 0, 0, 0, 0, 0, 0, 0, 0, 0, 0, 0, 0, 0, 0, 0, 0, 0, 0, 0, 0, 0, 0, 0, 0, 0, 0, 0, 0, 0, 0, 0, 0, 0, 0, 0, 0, 0, 0, 0, 0, 0, 0, 0, 0, 0, 0, 0, 0, 0, 0, 0, 0, 0, 0, 0, 0, 0, 0, 0, 0, 0, 0, 0, 0, 0, 0, 0, 0, 0, 0, 0, 0, 0, 0, 0, 0, 0, 0, 0, 0, 0, 0, 0, 0, 0, 0, 0, 0, 1, 0, 0, 0, 0, 0, 0, 0, 0, 0, 0, 0, 0, 0, 0, 0, 0, 0, 0, 0, 0, 0, 0, 0, 0, 0, 0, 0, 0, 0, 0, 0, 0, 0, 0, 0, 2, 0, 0, 0, 0, 0, 0, 0, 0, 0, 0, 0, 0, 0, 0, 0, 0, 0, 0, 0, 0, 0, 0, 0, 0, 0, 0, 0, 0, 0, 0, 0, 0, 0, 0, 0, 0, 0, 0, 0, 0, 1, 0, 0, 0, 0, 0, 0, 0, 0, 0, 0, 0, 0, 0, 0, 0, 0, 0, 0, 0, 0, 0, 0, 0, 0, 0, 0, 0, 0, 0, 0, 0, 0, 0, 0, 0, 0, 0, 0, 0, 0, 0, 0, 0, 0, 0, 0, 0, 0, 0, 0, 0, 0, 0, 0, 0, 0, 0, 0, 0, 0, 0, 0, 0, 0, 0, 0, 0, 0, 0, 0, 0, 0, 0, 0, 0, 0, 0, 0, 0, 0, 0, 0, 0, 0, 0, 0, 0, 0, 0, 0, 0, 0, 0, 0, 0, 0, 0, 0, 0, 0, 0, 0, 0, 0, 0, 0, 0, 0, 0, 0, 0, 0, 0, 0, 0, 0, 0, 0, 0, 0, 0, 0, 0, 0, 0, 0, 0, 0, 0, 0, 0, 0, 0, 0, 0, 0, 0, 0, 0, 0, 0, 0, 0, 0, 0, 0, 0, 0, 0, 0, 0, 0, 0, 0, 0, 0, 0, 0, 0, 0, 0, 0, 0, 0, 0, 0, 0, 0, 0, 0, 0, 0, 0, 0, 0, 0, 0, 0, 0, 0, 0, 0, 0, 0, 0, 0, 0, 0, 0, 0, 0, 0, 0, 0, 0, 0, 0, 0, 0, 0, 0, 0, 0, 0, 0, 0, 0, 0, 0, 0, 0, 0, 0, 0, 0, 0, 0, 0, 0, 0, 0, 0, 0, 0, 0, 0, 0, 0, 0, 0, 0, 0, 0, 0, 0, 0, 0, 0, 0, 0, 0, 0, 0, 0, 0, 0, 0, 0, 0, 0, 0, 0, 0, 0, 0, 0, 0, 0, 0, 0, 0, 0, 0, 0, 0, 0, 0, 0, 0, 0, 0, 0, 0, 0, 0, 0, 0, 0, 0, 0, 0, 0, 0, 0, 0, 0, 0, 0, 0, 0, 0, 0, 0, 0, 0, 0, 0, 0, 0, 0, 0, 0, 0, 0, 0, 0, 0, 0, 0, 0, 0, 0, 0, 0, 0, 0, 0, 0, 0, 0, 0, 0, 0, 0, 0, 0, 0, 0, 0, 0, 0, 0, 0, 0, 0, 0, 0, 0, 0, 0, 0, 0, 0, 0, 0, 0, 0, 0, 0, 0, 0, 0, 0, 0, 0, 0, 0, 0, 0, 0, 0, 0, 0, 0, 0, 0, 0, 0, 0, 0, 0, 0, 0, 0, 0, 0, 0, 0, 0, 0, 0, 0, 0, 0, 0, 0, 0, 0, 0, 0, 0, 0, 0, 0, 0, 0, 0, 0, 0, 0, 0, 0, 0, 0, 0, 0, 0, 0, 0, 0, 0, 0, 0, 0, 0, 0, 0, 0, 0, 0, 0, 0, 0, 0, 0, 0, 0, 0, 0, 0, 0, 0, 0, 0, 0, 0, 0, 0, 0, 0, 0, 0, 0, 0, 0, 0, 0, 0, 0, 0, 0, 0, 0, 0, 0, 0, 0, 0, 0, 0, 0, 0, 0, 0, 0, 0, 0, 0, 0, 0, 0, 0, 0, 0, 0, 0, 0, 0, 0, 0, 0, 0, 0, 0, 0, 0, 0, 0, 0, 0, 0, 0, 0, 0, 0, 0, 0, 1, 0, 0, 0, 0, 0, 0, 0, 0, 0, 0, 0, 0, 0, 0, 0, 0, 0, 0, 0, 0, 0, 0, 0, 0, 0, 0, 0, 0, 0, 0, 0, 0, 0, 0, 0, 0, 0, 0, 0, 0, 0, 0, 0, 0, 0, 0, 0, 0, 0, 0, 0, 0, 0, 0, 0, 0, 0, 0, 0, 0, 0, 0, 0, 0, 0, 0, 0, 0, 0, 0, 0, 0, 0, 0, 0, 0, 0, 0, 0, 0, 0, 0, 0, 0, 0, 0, 0, 0, 0, 0, 0, 0, 0, 0, 0, 0, 0, 0, 0, 0, 0, 0, 0, 0, 0, 0, 0, 0, 0, 0, 2, 0, 0, 0, 0, 0, 0, 0, 0, 0, 0, 0, 0, 0, 0, 0, 0, 0, 0, 0, 0, 0, 0, 0, 0, 0, 0, 0, 0, 0, 0, 0, 0, 0, 0, 0, 0, 0, 0, 0, 0, 0, 0, 0, 0, 0, 0, 0, 0, 0, 0, 0, 0, 0, 0, 0, 0, 0, 0, 0, 0, 0, 0, 0, 0, 0, 0, 0, 0, 0, 0, 0, 0, 0, 0, 0, 0, 0, 0, 0, 0, 0, 0, 0, 0, 0, 0, 0, 0, 0, 0, 0, 0, 0, 0, 0, 0, 0, 0, 0, 0, 0, 0, 0, 0, 0, 0, 0, 0, 0, 0, 0, 0, 0, 0, 0, 0, 0, 0, 0, 0, 0, 0, 0, 0, 0, 0, 0, 0, 0, 0, 0, 0, 0, 0, 0, 0, 0, 0, 0, 0, 0, 0, 0, 0, 0, 0, 0, 0, 0, 0, 0, 0, 0, 0, 0, 0, 0, 0, 0, 0, 0, 0, 0, 0, 0, 0, 0, 0, 0, 0, 0, 0, 0, 0, 0, 0, 0, 0, 0, 0, 0, 0, 0, 0, 0, 0, 0, 0, 0, 0, 0, 0, 0, 0, 0, 0, 0, 0, 0, 0, 0, 0, 0, 0, 0, 0, 0, 0, 0, 0, 0, 0, 0, 0, 0, 0, 0, 0, 0, 0, 0, 0, 0, 0, 0, 0, 0, 0, 0, 0, 0, 0, 0, 0, 0, 0, 0, 0, 0, 0, 0, 0, 0, 0, 0, 0, 0, 0, 0, 0, 0, 0, 0, 0, 0, 0, 0, 0, 0, 0, 0, 0, 0, 0, 0, 0, 0, 0, 0, 0, 0, 0, 0, 0, 0, 0, 0, 0, 0, 0, 0, 0, 0, 0, 0, 0, 0, 0, 0, 0, 0, 0, 0, 0, 0, 0, 0, 0, 0, 0, 0, 0, 0, 0, 0, 0, 0, 0, 0, 0, 0, 0, 0, 0, 0, 0, 0, 0, 0, 0, 0, 0, 0, 0, 0, 0, 0, 0, 0, 0, 0, 0, 0, 0, 0, 0, 0, 0, 0, 0, 0, 0, 0, 0, 0, 0, 0, 0, 0, 0, 0, 0, 0, 0, 0, 0, 0, 0, 0, 0, 0, 0, 0, 0, 0, 0, 0, 0, 0, 0, 0, 0, 0, 0, 0, 0, 0, 0, 0, 0, 0, 0, 0, 0, 0, 0, 0, 0, 0, 0, 0, 0, 0, 0, 0, 0, 0, 0, 0, 0, 0, 0, 0, 0, 0, 0, 0, 0, 0, 0, 0, 0, 0, 0, 0, 0, 0, 0, 0, 0, 0, 0, 0, 0, 0, 0, 0, 0, 0, 0, 0, 0, 0, 0, 0, 0, 0, 0, 0, 0, 0, 0, 0, 0, 0, 0, 0, 0, 0, 0, 0, 0, 0, 0, 0, 0, 0, 0, 0, 0, 0, 0, 0, 0, 0, 0, 0, 0, 0, 0, 0, 0, 0, 0, 0, 0, 0, 0, 0, 0, 0, 0, 0, 0, 0, 0, 0, 0, 0, 0, 0, 0, 0, 0, 0, 0, 0, 0, 0, 0, 0, 0, 0, 0, 0, 0, 0, 0, 0, 0, 0, 0, 0, 0, 0, 0, 0, 0, 0, 0, 0, 0, 0, 0, 0, 0, 0, 0, 0, 0, 0, 0, 0, 0, 0, 0, 0, 0, 0, 0, 0, 0, 0, 0, 0, 0, 0, 0, 0, 0, 0, 0, 0, 0, 0, 0, 0, 0, 0, 0, 0, 0, 0, 0, 0, 0, 0, 0, 0, 0, 0, 0, 0, 0, 0, 0, 0, 0, 0, 0, 0, 0, 0, 0, 0, 0, 0, 0, 0, 0, 0, 0, 0, 0, 0, 0, 0, 0, 0, 0, 0, 0, 0, 0, 0, 0, 0, 0, 0, 0, 0, 0, 0, 0, 0, 0, 0, 0, 0, 0, 0, 0, 0, 0, 0, 0, 0, 0, 0, 0, 0, 0, 0, 0, 0, 0, 0, 0, 0, 0, 0, 0, 0, 0, 0, 0, 0, 0, 0, 0, 0, 0, 0, 0, 0, 0, 0, 0, 0, 0, 0, 0, 0, 0, 0, 0, 0, 0, 0, 0, 0, 0, 0, 0, 0, 0, 0, 0, 0, 0, 0, 0, 0, 0, 0, 0, 0, 0, 0, 0, 1, 0, 0, 0, 0, 0, 0, 0, 0, 0, 0, 0, 0, 0, 0, 0, 0, 0, 0, 0, 0, 0, 0, 0, 0, 0, 0, 0, 0, 0, 0, 0, 0, 0, 0, 0, 0, 0, 0, 0, 0, 0, 0, 0, 0, 0, 0, 0, 0, 0, 0, 0, 0, 0, 0, 0, 0, 0, 0, 0, 0, 0, 0, 0, 0, 0, 0, 0, 0, 0, 0, 0, 0, 0, 0, 0, 0, 0, 0, 0, 0, 0, 0, 0, 0, 0, 0, 0, 0, 0, 0, 0, 0, 0, 0, 0, 0, 0, 0, 0, 0, 0, 0, 0, 0, 0, 0, 0, 1, 0, 0, 0, 0, 0, 0, 0, 0, 0, 0, 0, 0, 0, 0, 0, 0, 0, 0, 0, 0, 0, 0, 0, 0, 0, 0, 0, 0, 0, 0, 0, 0, 0, 0, 0, 0, 0, 0, 0, 0, 0, 0, 0, 0, 0, 0, 0, 0, 0, 0, 0, 0, 0, 0, 0, 0, 0, 0, 0, 0, 0, 0, 0, 0, 0, 0, 0, 0, 0, 0, 0, 0, 0, 0, 0, 0, 0, 0, 0, 0, 0, 0, 0, 0, 0, 0, 0, 0, 0, 0, 0, 0, 0, 0, 0, 0, 0, 0, 0, 0, 0, 0, 0, 0, 0, 0, 0, 0, 0, 0, 0, 0, 0, 0, 0, 0, 0, 0, 0, 0, 0, 0, 0, 0, 0, 0, 0, 0, 0, 0, 0, 0, 0, 0, 0, 0, 0, 0, 0, 0, 0, 0, 0, 0, 0, 0, 0, 0, 0, 0, 0, 0, 0, 0, 0, 0, 0, 0, 0, 0, 0, 0, 0, 0, 0, 0, 0, 0, 0, 0, 0, 0, 0, 0, 0, 0, 0, 0, 0, 0, 0, 0, 0, 0, 0, 0, 0, 0, 0, 0, 0, 0, 0, 0, 0, 0, 0, 0, 0, 0, 0, 0, 0, 0, 0, 0, 0, 0, 0, 0, 0, 0, 0, 0, 0, 0, 0, 0, 0, 0, 0, 0, 0, 0, 0, 0, 0, 0, 0, 0, 0, 0, 0, 0, 0, 0, 0, 0, 0, 0, 0, 0, 0, 0, 0, 0, 0, 0, 0, 0, 0, 0, 0, 0, 0, 0, 0, 0, 0, 0, 0, 0, 0, 0, 0, 0, 0, 0, 0, 0, 0, 0, 0, 0, 0, 0, 0, 0, 0, 0, 0, 0, 0, 0, 0, 0, 0, 0, 0, 0, 0, 0, 0, 0, 0, 0, 0, 0, 0, 0, 0, 0, 0, 0, 0, 0, 0, 0, 0, 0, 0, 0, 0, 0, 0, 0, 0, 0, 0, 0, 0, 0, 0, 0, 0, 0, 0, 0, 0, 0, 0, 0, 0, 0, 0, 0, 0, 0, 0, 0, 0, 0, 0, 0, 0, 0, 0, 0, 0, 0, 0, 0, 0, 0, 0, 0, 0, 0, 0, 0, 0, 0, 0, 0, 0, 0, 0, 0, 0, 0, 0, 0, 0, 0, 0, 0, 0, 0, 0, 0, 0, 0, 0, 0, 0, 0, 0, 0, 0, 0, 0, 0, 0, 0, 0, 0, 0, 0, 0, 0, 0, 0, 0, 0, 0, 0, 0, 0, 0, 0, 0, 0, 0, 0, 0, 0, 0, 0, 0, 0, 0, 0, 0, 0, 0, 0, 0, 0, 0, 0, 0, 0, 0, 0, 0, 0, 0, 0, 0, 0, 0, 0, 0, 0, 0, 0, 0, 0, 0, 0, 0, 0, 0, 0, 0, 0, 0, 0, 0, 0, 0, 0, 0, 2, 0, 1, 0], type: <class 'list'>, valid types: <class 'bytes'>, <class 'bytearray'>, file-like object"
     ]
    }
   ],
   "source": [
    "response = runtime.invoke_endpoint(EndpointName = xgb_predictor.endpoint, # The name of the endpoint we created\n",
    "                                       ContentType = 'text/csv',                     # The data format that is expected\n",
    "                                       Body = test_bow)"
   ]
  },
  {
   "cell_type": "markdown",
   "metadata": {},
   "source": [
    "So why did we get an error?\n",
    "\n",
    "Because we tried to send the endpoint a list of integers but it expected us to send data of type `text/csv`. So, we need to convert it."
   ]
  },
  {
   "cell_type": "code",
   "execution_count": 52,
   "metadata": {},
   "outputs": [],
   "source": [
    "response = runtime.invoke_endpoint(EndpointName = xgb_predictor.endpoint, # The name of the endpoint we created\n",
    "                                       ContentType = 'text/csv',                     # The data format that is expected\n",
    "                                       Body = ','.join([str(val) for val in test_bow]).encode('utf-8'))"
   ]
  },
  {
   "cell_type": "code",
   "execution_count": 53,
   "metadata": {},
   "outputs": [
    {
     "name": "stdout",
     "output_type": "stream",
     "text": [
      "{'ResponseMetadata': {'RequestId': 'a9bbe4a1-e88a-44e6-b712-b8801a769996', 'HTTPStatusCode': 200, 'HTTPHeaders': {'x-amzn-requestid': 'a9bbe4a1-e88a-44e6-b712-b8801a769996', 'x-amzn-invoked-production-variant': 'AllTraffic', 'date': 'Tue, 28 Jul 2020 21:51:24 GMT', 'content-type': 'text/csv; charset=utf-8', 'content-length': '14'}, 'RetryAttempts': 0}, 'ContentType': 'text/csv; charset=utf-8', 'InvokedProductionVariant': 'AllTraffic', 'Body': <botocore.response.StreamingBody object at 0x7fdf29c19d68>}\n"
     ]
    }
   ],
   "source": [
    "print(response)"
   ]
  },
  {
   "cell_type": "markdown",
   "metadata": {},
   "source": [
    "As we can see, the response from our model is a somewhat complicated looking dict that contains a bunch of information. The bit that we are most interested in is `'Body'` object which is a streaming object that we need to `read` in order to make use of."
   ]
  },
  {
   "cell_type": "code",
   "execution_count": 54,
   "metadata": {},
   "outputs": [
    {
     "name": "stdout",
     "output_type": "stream",
     "text": [
      "0.362282067537\n"
     ]
    }
   ],
   "source": [
    "response = response['Body'].read().decode('utf-8')\n",
    "print(response)"
   ]
  },
  {
   "cell_type": "markdown",
   "metadata": {},
   "source": [
    "Now that we know how to process the incoming user data we can start setting up the infrastructure to make our simple web app work. To do this we will make use of two different services. Amazon's Lambda and API Gateway services.\n",
    "\n",
    "Lambda is a service which allows someone to write some relatively simple code and have it executed whenever a chosen trigger occurs. For example, you may want to update a database whenever new data is uploaded to a folder stored on S3.\n",
    "\n",
    "API Gateway is a service that allows you to create HTTP endpoints (url addresses) which are connected to other AWS services. One of the benefits to this is that you get to decide what credentials, if any, are required to access these endpoints.\n",
    "\n",
    "In our case we are going to set up an HTTP endpoint through API Gateway which is open to the public. Then, whenever anyone sends data to our public endpoint we will trigger a Lambda function which will send the input (in our case a review) to our model's endpoint and then return the result."
   ]
  },
  {
   "cell_type": "markdown",
   "metadata": {},
   "source": [
    "### Setting up a Lambda function\n",
    "\n",
    "The first thing we are going to do is set up a Lambda function. This Lambda function will be executed whenever our public API has data sent to it. When it is executed it will receive the data, perform any sort of processing that is required, send the data (the review) to the SageMaker endpoint we've created and then return the result.\n",
    "\n",
    "#### Part A: Create an IAM Role for the Lambda function\n",
    "\n",
    "Since we want the Lambda function to call a SageMaker endpoint, we need to make sure that it has permission to do so. To do this, we will construct a role that we can later give the Lambda function.\n",
    "\n",
    "Using the AWS Console, navigate to the **IAM** page and click on **Roles**. Then, click on **Create role**. Make sure that the **AWS service** is the type of trusted entity selected and choose **Lambda** as the service that will use this role, then click **Next: Permissions**.\n",
    "\n",
    "In the search box type `sagemaker` and select the check box next to the **AmazonSageMakerFullAccess** policy. Then, click on **Next: Review**.\n",
    "\n",
    "Lastly, give this role a name. Make sure you use a name that you will remember later on, for example `LambdaSageMakerRole`. Then, click on **Create role**."
   ]
  },
  {
   "cell_type": "markdown",
   "metadata": {},
   "source": [
    "#### Part B: Create a Lambda function\n",
    "\n",
    "Now it is time to actually create the Lambda function. Remember from earlier that in order to process the user provided input and send it to our endpoint we need to gather two pieces of information:\n",
    "\n",
    " - The name of the endpoint, and\n",
    " - the vocabulary object.\n",
    "\n",
    "We will copy these pieces of information to our Lambda function after we create it.\n",
    "\n",
    "To start, using the AWS Console, navigate to the AWS Lambda page and click on **Create a function**. When you get to the next page, make sure that **Author from scratch** is selected. Now, name your Lambda function, using a name that you will remember later on, for example `sentiment_analysis_xgboost_func`. Make sure that the **Python 3.6** runtime is selected and then choose the role that you created in the previous part. Then, click on **Create Function**.\n",
    "\n",
    "On the next page you will see some information about the Lambda function you've just created. If you scroll down you should see an editor in which you can write the code that will be executed when your Lambda function is triggered. Collecting the code we wrote above to process a single review and adding it to the provided example `lambda_handler` we arrive at the following.\n",
    "\n",
    "```python\n",
    "# We need to use the low-level library to interact with SageMaker since the SageMaker API\n",
    "# is not available natively through Lambda.\n",
    "import boto3\n",
    "\n",
    "# And we need the regular expression library to do some of the data processing\n",
    "import re\n",
    "\n",
    "REPLACE_NO_SPACE = re.compile(\"(\\.)|(\\;)|(\\:)|(\\!)|(\\')|(\\?)|(\\,)|(\\\")|(\\()|(\\))|(\\[)|(\\])\")\n",
    "REPLACE_WITH_SPACE = re.compile(\"(<br\\s*/><br\\s*/>)|(\\-)|(\\/)\")\n",
    "\n",
    "def review_to_words(review):\n",
    "    words = REPLACE_NO_SPACE.sub(\"\", review.lower())\n",
    "    words = REPLACE_WITH_SPACE.sub(\" \", words)\n",
    "    return words\n",
    "    \n",
    "def bow_encoding(words, vocabulary):\n",
    "    bow = [0] * len(vocabulary) # Start by setting the count for each word in the vocabulary to zero.\n",
    "    for word in words.split():  # For each word in the string\n",
    "        if word in vocabulary:  # If the word is one that occurs in the vocabulary, increase its count.\n",
    "            bow[vocabulary[word]] += 1\n",
    "    return bow\n",
    "\n",
    "\n",
    "def lambda_handler(event, context):\n",
    "    \n",
    "    vocab = \"*** ACTUAL VOCABULARY GOES HERE ***\"\n",
    "    \n",
    "    words = review_to_words(event['body'])\n",
    "    bow = bow_encoding(words, vocab)\n",
    "\n",
    "    # The SageMaker runtime is what allows us to invoke the endpoint that we've created.\n",
    "    runtime = boto3.Session().client('sagemaker-runtime')\n",
    "\n",
    "    # Now we use the SageMaker runtime to invoke our endpoint, sending the review we were given\n",
    "    response = runtime.invoke_endpoint(EndpointName = '***ENDPOINT NAME HERE***',# The name of the endpoint we created\n",
    "                                       ContentType = 'text/csv',                 # The data format that is expected\n",
    "                                       Body = ','.join([str(val) for val in bow]).encode('utf-8')) # The actual review\n",
    "\n",
    "    # The response is an HTTP response whose body contains the result of our inference\n",
    "    result = response['Body'].read().decode('utf-8')\n",
    "    \n",
    "    # Round the result so that our web app only gets '1' or '0' as a response.\n",
    "    result = round(float(result))\n",
    "\n",
    "    return {\n",
    "        'statusCode' : 200,\n",
    "        'headers' : { 'Content-Type' : 'text/plain', 'Access-Control-Allow-Origin' : '*' },\n",
    "        'body' : str(result)\n",
    "    }\n",
    "```"
   ]
  },
  {
   "cell_type": "markdown",
   "metadata": {},
   "source": [
    "Once you have copy and pasted the code above into the Lambda code editor, replace the `**ENDPOINT NAME HERE**` portion with the name of the endpoint that we deployed earlier. You can determine the name of the endpoint using the code cell below."
   ]
  },
  {
   "cell_type": "code",
   "execution_count": 40,
   "metadata": {},
   "outputs": [
    {
     "data": {
      "text/plain": [
       "'xgboost-2020-07-28-21-13-21-379'"
      ]
     },
     "execution_count": 40,
     "metadata": {},
     "output_type": "execute_result"
    }
   ],
   "source": [
    "xgb_predictor.endpoint"
   ]
  },
  {
   "cell_type": "markdown",
   "metadata": {},
   "source": [
    "In addition, you will need to copy the vocabulary dict to the appropriate place in the code at the beginning of the `lambda_handler` method. The cell below prints out the vocabulary dict in a way that is easy to copy and paste."
   ]
  },
  {
   "cell_type": "code",
   "execution_count": 56,
   "metadata": {},
   "outputs": [
    {
     "name": "stdout",
     "output_type": "stream",
     "text": [
      "{'this': 4457, 'film': 1716, 'has': 2043, 'core': 995, 'of': 3083, 'morality': 2903, 'and': 226, 'yet': 4984, 'quirky': 3493, 'sense': 3877, 'justice': 2438, 'so': 4046, 'many': 2732, 'the': 4426, 'regular': 3592, 'among': 217, 'us': 4690, 'would': 4957, 'love': 2669, 'to': 4507, 'stick': 4185, 'it': 2366, 'man': 2721, 'in': 2257, 'case': 707, 'is': 2360, 'represented': 3638, 'by': 642, 'several': 3905, 'different': 1248, 'characters': 760, 'mr': 2929, 'who': 4871, 'at': 331, 'her': 2085, 'office': 3091, 'later': 2525, 'paul': 3214, '70': 55, 'large': 2517, 'club': 863, 'owner': 3159, 'then': 4436, 'there': 4438, 'officer': 3092, 'seems': 3864, 'be': 418, 'much': 2934, 'question': 3487, 'about': 67, 'last': 2521, 'side': 3965, 'story': 4207, 'reviewers': 3678, 'point': 3316, 'out': 3141, 'as': 311, 'an': 223, 'otherwise': 3137, 'well': 4843, 'crafted': 1029, 'game': 1864, 'between': 475, 'our': 3139, 'two': 4620, 'protagonists': 3442, 'for': 1784, 'until': 4680, 'their': 4431, 'lives': 2628, 'change': 749, 'they': 4442, 'are': 285, 'each': 1395, 'agent': 150, 'one': 3107, 'or': 3124, 'both': 547, 'could': 1007, 'fired': 1735, 'killed': 2469, 'if': 2222, 'dont': 1324, 'do': 1302, 'told': 4513, 'relief': 3605, 'end': 1468, 'finally': 1724, 'gets': 1900, 'laid': 2508, 'boss': 546, 'forced': 1787, 'being': 448, 'jerk': 2395, 'mess': 2818, 'his': 2118, 'own': 3158, 'bathroom': 412, 'get': 1899, 'money': 2888, 'need': 2987, 'not': 3040, 'worry': 4950, 'because': 432, 'moral': 2902, 'leads': 2548, 'him': 2110, 'wandering': 4785, 'wife': 4884, 'basement': 405, 'whatever': 4859, 'police': 3322, 'found': 1811, 'critical': 1062, 'that': 4424, 'wound': 4960, 'up': 4683, 'tight': 4492, 'never': 3001, 'mind': 2849, 'someone': 4064, 'else': 1448, 'may': 2775, 'release': 3602, 'moment': 2886, 'free': 1827, 'might': 2835, 'even': 1533, 'away': 369, 'with': 4911, 'stuck': 4237, 'was': 4805, 'looking': 2648, 'forward': 1808, 'seeing': 3857, 'movie': 2926, 'after': 143, 'reading': 3544, 'positive': 3346, 'review': 3676, 'new': 3003, 'york': 4985, 'times': 4497, 'addition': 118, 'im': 2232, 'also': 199, 'more': 2904, 'than': 4420, 'just': 2437, 'passing': 3204, 'interest': 2323, 'subject': 4253, 'matter': 2769, 'however': 2183, 'watching': 4815, 'extremely': 1610, 'disappointed': 1273, 'movies': 2927, 'pace': 3161, 'slow': 4031, 'director': 1264, 'on': 3105, 'certain': 737, 'scenes': 3811, 'too': 4522, 'long': 2644, 'no': 3020, 'passion': 3205, 'chemistry': 782, 'lovers': 2673, 'barely': 399, 'any': 256, 'dialogue': 1234, 'needed': 2988, 'lack': 2502, 'acting': 99, 'you': 4986, 'didnt': 1242, 'feel': 1684, 'lacking': 2504, 'everything': 1544, 'script': 3834, 'weak': 4824, 'poor': 3328, 'editing': 1421, 'non': 3027, 'existent': 1572, 'tried': 4584, 'noir': 3023, 'styles': 4250, 'but': 636, 'failed': 1626, 'miserably': 2864, 'good': 1937, 'which': 4867, 'captures': 678, 'your': 4991, 'attention': 345, 'successful': 4266, 'without': 4913, 'feeling': 1685, 'time': 4495, 'passed': 3202, 'felt': 1692, 'though': 4461, 'waste': 4808, '70s': 56, 'show': 3953, 'definitely': 1162, 'funniest': 1851, 'currently': 1085, 'tv': 4610, 'started': 4157, 'half': 2007, 'years': 4979, 'ago': 154, 'soon': 4074, 'saw': 3798, 'tell': 4395, 'great': 1964, 'like': 2599, 'all': 187, 'my': 2951, 'personal': 3240, 'favorites': 1672, 'leo': 2571, 'awesome': 371, 'character': 758, 'while': 4868, 'he': 2056, 'really': 3556, 'hope': 2155, 'comes': 891, 'back': 378, 'hes': 2093, 'hilarious': 2106, 'its': 2370, 'classic': 835, 'when': 4862, 'goes': 1930, 'son': 4070, 'burn': 625, 'always': 203, 'makes': 2716, 'me': 2778, 'laugh': 2529, 'have': 2052, 'something': 4066, 'funny': 1852, 'say': 3799, 'jackie': 2374, 'hot': 2174, 'another': 250, 'reason': 3557, 'watch': 4811, 'she': 3923, 'damn': 1100, 'somewhere': 4069, 'around': 297, 'season': 3843, 'got': 1944, 'ive': 2372, 'seen': 3865, 'most': 2909, 'episodes': 1508, 'once': 3106, 'some': 4061, '10': 0, 'still': 4188, 'few': 1700, 'shows': 3960, 'can': 665, 'over': 3148, 'did': 1241, 'first': 1736, 'cast': 710, 'almost': 193, 'everyone': 1542, 'where': 4864, 'only': 3110, 'will': 4886, 'sad': 3767, 'see': 3855, 'next': 3007, 'year': 4978, 'going': 1931, 'off': 3084, 'air': 164, 'best': 469, 'ever': 1538, 'enjoyed': 1486, 'catching': 716, 'very': 4723, 'late': 2523, 'kept': 2456, 'through': 4477, 'entire': 1502, 'picture': 3269, 'wonderful': 4928, 'creepy': 1052, 'mysterious': 2955, 'english': 1483, 'home': 2142, 'evil': 1548, 'rooms': 3736, 'make': 2713, 'wonder': 4926, 'why': 4878, 'anyone': 259, 'want': 4788, 'rent': 3626, 'concerning': 933, 'house': 2178, 'resident': 3647, 'meets': 2795, 'kinds': 2478, 'problems': 3409, 'notice': 3048, 'beautiful': 428, 'lake': 2509, 'sweet': 4336, 'singing': 3995, 'birds': 485, 'let': 2579, 'fool': 1779, 'horror': 2168, 'place': 3282, 'peter': 3247, 'gives': 1914, 'performance': 3228, 'persons': 3244, 'living': 2629, 'christopher': 811, 'little': 2624, 'daughter': 1121, 'exciting': 1563, 'together': 4511, 'loves': 2674, 'read': 3543, 'books': 536, 'horrible': 2163, 'films': 1721, 'lots': 2662, 'surprises': 4314, 'despite': 1211, 'having': 2054, 'directors': 1266, 'fantasy': 1652, 'remarkably': 3614, 'filmed': 1717, 'england': 1482, 'nowhere': 3056, 'near': 2979, 'studios': 4241, 'war': 4792, 'moved': 2922, 'america': 212, 'were': 4848, 'grand': 1953, 'notable': 3041, 'lyrics': 2692, 'song': 4071, 'cant': 671, 'understand': 4643, 'remains': 3611, 'favourite': 1673, 'people': 3221, 'deals': 1137, 'aging': 153, 'today': 4508, 'number': 3060, 'families': 1644, 'facing': 1620, 'potential': 3355, 'suggest': 4280, 'every': 1539, 'health': 2060, 'care': 684, 'recommend': 3571, 'family': 1645, 'disease': 1285, 'designed': 1203, 'primarily': 3393, 'speak': 4094, 'patient': 3211, 'reaches': 3538, 'into': 2332, 'heart': 2064, 'struggle': 4234, 'casting': 711, 'excellent': 1555, 'dramatic': 1348, 'portrayal': 3341, 'outstanding': 3147, 'plot': 3309, 'line': 2610, 'big': 478, 'fan': 1648, 'fulci': 1845, 'giallo': 1904, 'splatter': 4118, 'flicks': 1755, 'amongst': 218, 'made': 2697, 'sub': 4252, 'par': 3184, 'what': 4858, 'come': 886, 'expect': 1575, 'from': 1840, 'italian': 2367, 'neither': 2996, 'interesting': 2325, 'tame': 4363, 'gory': 1943, 'majority': 2712, 'cult': 1077, 'classics': 837, 'thus': 4486, 'leaving': 2557, 'major': 2711, 'areas': 287, 'ultimately': 4628, 'isnt': 2362, 'works': 4945, 'been': 438, 'used': 4693, 'previously': 3388, 'idea': 2213, 'chance': 747, 'focuses': 1768, 'theme': 4433, 'ultimate': 4627, 'unknown': 4668, 'exactly': 1551, 'liked': 2600, 'dies': 1245, 'apparent': 269, 'stomach': 4196, 'arent': 288, 'go': 1924, 'means': 2783, 'ghost': 1902, 'trapped': 4564, 'life': 2592, 'decides': 1150, 'try': 4600, 'bottom': 551, 'death': 1141, 'video': 4733, 'style': 4249, 'thats': 4425, 'blatant': 502, 'attempts': 343, 'sell': 3871, 'nothing': 3047, 'slightly': 4029, 'reminiscent': 3621, 'writer': 4968, 'tale': 4353, 'appear': 273, 'title': 4504, 'gordon': 1940, 'beyond': 476, 'lot': 2661, 'better': 472, 'does': 1308, 'benefit': 465, 'score': 3822, 'rather': 3528, 'unfortunately': 4654, 'fit': 1740, 'scene': 3809, 'quickly': 3491, 'becomes': 434, 'annoying': 249, 'plays': 3301, 'boring': 543, 'way': 4820, 'simply': 3986, 'involve': 2345, 'desperately': 1209, 'trying': 4601, 'find': 1726, 'things': 4451, 'members': 2801, 'surprising': 4315, 'theres': 4440, 'bit': 488, 'gore': 1941, 'nightmare': 3014, 'sequence': 3887, 'zombies': 4998, 'we': 4823, 'know': 2489, 'overall': 3150, 'mediocre': 2791, 'talents': 4356, 'worth': 4953, 'unless': 4669, 'youre': 4992, 'interested': 2324, 'copy': 994, 'please': 3304, 'description': 1197, '30': 42, '2003': 33, 'finding': 1727, 'john': 2409, 'christmas': 810, 'sequel': 3885, 'previous': 3387, 'town': 4541, 'falk': 1636, 'role': 3726, 'angel': 231, 'max': 2774, 'small': 4033, 'nurse': 3063, 'whose': 4877, 'depression': 1189, 'fact': 1621, 'hospital': 2172, 'shut': 3961, 'down': 1335, 'briefly': 580, 'spots': 4132, 'newspaper': 3006, 'taken': 4350, 'david': 1124, 'act': 97, 'performed': 3230, 'brother': 598, 'hank': 2024, 'william': 4887, 'left': 2561, '25': 40, 'hasnt': 2044, 'since': 3990, 'explanation': 1590, 'proves': 3447, 'impossible': 2249, 'identify': 2216, 'known': 2492, 'public': 3460, 'curious': 1083, 'photo': 3257, 'santa': 3783, 'suit': 4284, 'seemingly': 3863, 'floating': 1758, 'course': 1019, 'pops': 3332, 'now': 3054, 'again': 146, 'throughout': 4478, 'variety': 4714, 'solve': 4060, 'advice': 133, 'tie': 4488, 'loose': 2650, 'share': 3920, 'musical': 2947, 'talented': 4355, 'jennifer': 2392, 'write': 4967, 'here': 2086, 'wondering': 4930, 'purpose': 3474, 'making': 2718, 'whom': 4875, 'intelligence': 2313, 'must': 2950, 'use': 4692, 'brain': 562, 'crap': 1031, 'watchable': 4812, 'under': 4639, 'old': 3100, 'children': 792, 'adults': 126, 'think': 4452, 'hollywood': 2137, 'cartoons': 705, 'actors': 104, 'forget': 1793, 'art': 304, 'cinema': 816, 'sure': 4308, 'tons': 4520, 'pop': 3330, 'pass': 3201, 'till': 4493, 'ends': 1474, 'easily': 1406, 'restaurant': 3658, 'theater': 4427, 'dog': 1310, 'thing': 4450, 'demands': 1175, 'am': 204, 'giving': 1915, 'stars': 4155, 'supporting': 4304, 'efforts': 1433, 'less': 2575, 'private': 3404, 'had': 2003, 'imdb': 2240, 'comments': 901, 'pleasant': 3302, 'usual': 4699, 'uninteresting': 4660, 'yes': 4982, 'cinematography': 820, 'directed': 1259, 'starts': 4159, 'although': 201, 'bored': 541, 'ordinary': 3128, 'occur': 3076, 'normal': 3033, 'laughs': 2534, 'kind': 2476, 'bizarre': 492, 'surreal': 4317, 'atmospheric': 334, 'brutal': 603, 'murders': 2943, 'wont': 4932, 'appreciate': 279, 'give': 1912, 'directing': 1260, 'final': 1722, 'twists': 4619, 'entertaining': 1499, 'iran': 2350, 'women': 4923, 'soccer': 4048, 'games': 1865, 'language': 2516, 'behavior': 446, 'male': 2719, 'audience': 352, 'lower': 2677, 'forms': 1801, 'human': 2188, 'beings': 449, 'brave': 567, 'girls': 1911, 'using': 4698, 'tricks': 4583, 'caught': 722, 'soldiers': 4054, 'hold': 2129, 'cage': 645, 'pick': 3265, 'them': 4432, 'insane': 2296, 'situation': 4008, 'humor': 2192, 'how': 2181, 'ways': 4822, 'fighting': 1709, 'youll': 4988, 'touched': 4534, 'same': 3778, 'job': 2405, 'heroic': 2090, 'comedy': 890, 'worst': 4952, 'leave': 2555, 'tape': 4365, 'consider': 949, 'myself': 2953, 'guys': 2001, 'whos': 4876, 'idiot': 2218, 'forgot': 1796, 'hide': 2097, 'thought': 4462, 'lead': 2545, 'particularly': 3195, 'inept': 2281, 'apart': 264, 'bad': 382, 'camera': 659, 'shake': 3914, 'events': 1536, '11': 2, 'screen': 3829, 'victims': 4730, 'phone': 3255, 'call': 651, 'sarah': 3785, 'supposedly': 4307, 'terrorist': 4413, 'held': 2074, 'day': 1129, 'appalling': 268, 'sick': 3963, 'cold': 872, 'hearted': 2065, 'stunt': 4245, 'night': 3013, 'friends': 1837, 'trailer': 4554, 'south': 4087, 'park': 3190, 'episode': 1507, 'country': 1014, 'decided': 1149, 'kill': 2468, 'father': 1666, 'pride': 3391, 'ill': 2228, 'start': 4156, 'saying': 3800, 'watched': 4813, 'unfunny': 4655, 'crude': 1069, 'holy': 2140, 'football': 1783, 'early': 1400, 'stop': 4201, 'stupid': 4247, 'yesterday': 4983, 'second': 3846, 'complete': 921, 'rip': 3700, 'yellow': 4981, 'instead': 2307, '14': 6, 'rating': 3529, 'real': 3547, 'homosexual': 2145, 'jokes': 2415, 'violent': 4748, 'halloween': 2010, 'heard': 2062, 'creator': 1043, 'series': 3890, 'news': 3005, 'stayed': 4167, 'admit': 122, 'smile': 4036, 'laughing': 2533, 'three': 4469, 'four': 1812, 'hate': 2046, 'either': 1438, '35': 45, 'begin': 442, 'realise': 3548, 'moore': 2901, 'should': 3951, 'dozen': 1338, 'already': 197, 'top': 4525, 'notch': 3043, 'talent': 4354, 'before': 440, 'went': 4847, 'comedian': 887, 'mostly': 2910, 'remembered': 3617, 'cook': 988, 'television': 4394, 'british': 589, 'perhaps': 3235, 'these': 4441, 'true': 4596, 'arthur': 305, 'result': 3660, 'truly': 4597, 'splendid': 4119, 'perfectly': 3226, 'suited': 4286, 'manner': 2729, 'actually': 109, 'surprised': 4313, 'such': 4268, 'appeal': 271, 'american': 213, 'tommy': 4516, 'cooper': 990, 'fashion': 1659, 'draw': 1349, 'blank': 501, 'childish': 791, 'endearing': 1469, 'tend': 4400, 'play': 3296, 'straight': 4210, 'roles': 3727, 'against': 147, 'liners': 2611, 'particular': 3194, 'delivers': 1172, 'authority': 360, 'treasure': 4571, 'steals': 4172, 'features': 1680, 'thoroughly': 4459, 'deserved': 1200, 'oscar': 3133, 'correct': 1000, 'wrong': 4973, 'played': 3297, 'other': 3135, 'comic': 893, 'follow': 1772, 'called': 652, 'rocks': 3722, 'levels': 2585, 'fun': 1848, 'cameo': 657, 'appearance': 274, 'beginning': 443, 'darker': 1116, 'soul': 4079, 'searching': 3842, 'disappoint': 1272, 'seemed': 3862, 'eventually': 1537, 'returned': 3666, 'britain': 588, 'apparently': 270, 'dying': 1393, 'imagine': 2238, 'sadly': 3769, 'missed': 2867, 'fourth': 1813, 'feature': 1678, 'legend': 2564, 'begins': 444, 'city': 825, 'perfection': 3225, 'present': 3374, 'past': 3207, 'obvious': 3071, 'returning': 3667, 'michael': 2829, 'gross': 1978, 'unlike': 4670, 'billy': 482, 'black': 493, 'hand': 2015, 'kelly': 2452, 'shoot': 3942, 'em': 1452, 'takes': 4351, 'getting': 1901, 'distant': 1295, 'western': 4853, 'versions': 4721, 'original': 3129, 'monster': 2892, '1990': 24, 'spend': 4105, 'awful': 372, 'ground': 1979, 'happened': 2027, 'weird': 4841, 'fight': 1707, 'immediately': 2242, 'disappointing': 1274, '2004': 34, 'wilson': 4891, 'growing': 1983, 'gritty': 1977, 'streets': 4217, 'balls': 390, 'fell': 1690, 'lifestyle': 2593, 'member': 2800, 'joined': 2413, 'adapted': 114, 'rules': 3754, 'houses': 2180, 'professional': 3421, 'commit': 904, 'credit': 1049, 'card': 681, 'fabulous': 1615, 'clothes': 860, 'desired': 1206, 'learned': 2551, 'cash': 709, 'states': 4163, 'jealous': 2388, 'queen': 3485, 'secret': 3849, 'service': 3896, 'prison': 3401, 'highly': 2105, 'yourself': 4993, 'grew': 1972, 'criminal': 1057, 'book': 535, 'identity': 2217, 'available': 361, 'trust': 4598, 'paris': 3189, 'burning': 627, '2005': 35, 'ok': 3098, 'girlfriend': 1910, 'rented': 3628, 'dvd': 1391, 'minutes': 2859, 'wed': 4835, 'importantly': 2248, 'drugs': 1374, 'keep': 2449, 'pain': 3170, 'right': 3696, 'latter': 2528, 'kiss': 2483, 'silly': 3976, 'taste': 4369, 'sorry': 4076, 'prefer': 3368, 'memory': 2804, 'fire': 1734, 'occasionally': 3075, 'served': 3894, 'foreign': 1790, 'attraction': 350, 'take': 4349, 'serve': 3893, 'raw': 3532, 'rarely': 3524, 'dare': 1113, 'touch': 4533, 'forbidden': 1785, 'subjects': 4254, 'society': 4050, 'hang': 2022, 'ups': 4686, 'fear': 1676, 'financial': 1725, 'failure': 1629, 'dollar': 1314, 'european': 1530, 'audiences': 353, 'world': 4946, 'wide': 4880, 'remain': 3609, 'especially': 1520, 'those': 4460, 'offer': 3087, 'bite': 489, 'suffering': 4277, 'body': 527, 'humanity': 2189, 'producers': 3416, 'beauty': 430, 'poetry': 3314, 'offers': 3090, 'locked': 2637, 'belief': 451, 'tradition': 4549, 'flesh': 1753, 'blood': 512, 'humans': 2190, 'filled': 1715, 'dreams': 1355, 'dark': 1115, 'set': 3898, 'itself': 2371, 'seeks': 3860, 'control': 977, 'inner': 2292, 'philosophy': 3254, 'young': 4989, 'woman': 4921, 'waters': 4817, 'amount': 219, 'explosion': 1596, 'channels': 754, 'scott': 3824, 'production': 3419, 'hundred': 2195, 'playing': 3300, 'least': 2554, 'budget': 610, 'station': 4164, 'behind': 447, 'gun': 1996, 'typical': 4623, '1950s': 14, 'period': 3236, 'melodrama': 2797, 'pre': 3365, 'wwii': 4975, 'values': 4710, 'relies': 3606, 'historically': 2120, 'murder': 2939, 'mystery': 2956, 'action': 100, 'scripts': 3836, 'absence': 70, 'development': 1225, 'suspense': 4330, 'etc': 1527, 'guy': 2000, 'struggling': 4236, 'emotionally': 1460, 'horse': 2170, 'count': 1010, 'whether': 4866, 'hell': 2077, 'sort': 4077, 'initial': 2290, 'female': 1693, 'music': 2946, 'stronger': 4230, 'emotional': 1459, 'state': 4160, 'fine': 1729, 'boat': 523, 'wouldnt': 4958, 'enjoying': 1487, 'put': 3480, 'artistic': 308, 'name': 2960, 'main': 2707, 'german': 1896, 'word': 4937, 'festival': 1697, 'shown': 3959, 'sake': 3775, 'meaning': 2780, 'shame': 3918, 'premise': 3370, 'wasted': 4809, 'unbearable': 4633, 'moments': 2887, 'viewer': 4738, 'wasnt': 4807, 'necessary': 2984, 'task': 4368, 'discussion': 1284, 'low': 2676, 'whole': 4873, 'torture': 4529, 'movement': 2923, 'grown': 1984, 'based': 404, 'edgar': 1417, 'allen': 188, 'pieces': 3273, 'fall': 1637, 'dance': 1103, 'poem': 3312, 'quite': 3495, 'similar': 3978, 'white': 4870, 'meet': 2793, 'example': 1553, 'cat': 713, 'terror': 4412, 'karloff': 2445, 'demented': 1176, 'size': 4012, 'dolls': 1316, 'terrifying': 4410, 'experiences': 1582, 'detail': 1217, 'fans': 1650, 'mysteries': 2954, 'plenty': 3307, 'popcorn': 3331, 'room': 3735, 'dan': 1102, 'endless': 1473, 'fails': 1628, 'largely': 2518, 'population': 3335, 'compelling': 916, 'constantly': 958, 'international': 2326, 'suck': 4269, 'probably': 3407, 'documentary': 1307, 'done': 1322, 'complaint': 920, 'gave': 1875, 'travesty': 4570, 'uk': 4626, 'viewers': 4739, 'help': 2079, 'americas': 215, 'nearly': 2981, 'part': 3193, 'direction': 1261, 'cause': 723, 'unbelievable': 4634, '1968': 16, 'won': 4925, 'academy': 77, 'award': 366, 'third': 4455, 'win': 4892, 'five': 1743, 'fair': 1630, 'lady': 2507, 'sound': 4081, 'difference': 1246, 'oliver': 3102, 'comparison': 914, 'wet': 4855, 'compared': 912, 'songs': 4072, 'dancing': 1107, 'dynamic': 1394, 'relevant': 3604, 'experience': 1580, 'poverty': 3357, 'century': 736, 'london': 2641, 'sympathy': 4343, 'reed': 3580, 'actor': 103, 'actresses': 106, 'ron': 3734, 'moody': 2899, 'equally': 1510, 'powerful': 3360, 'warmth': 4796, 'remarkable': 3613, 'suffice': 4279, 'maybe': 2776, 'contemporary': 965, 'per': 3223, 'connection': 946, 'sight': 3969, 'deep': 1154, 'wants': 4791, 'possibility': 3349, 'intense': 2316, 'bond': 532, 'form': 1798, 'ideas': 2215, 'expressed': 1601, 'somehow': 4063, 'tender': 4401, 'french': 1830, 'girl': 1909, 'boy': 557, 'train': 4556, 'talking': 4360, 'grandfather': 1954, 'along': 195, 'plane': 3288, 'morning': 2906, 'gorgeous': 1942, 'scenery': 3810, 'importance': 2246, 'conversations': 981, 'leading': 2547, 'often': 3095, 'relationships': 3598, 'stories': 4205, 'sometimes': 4067, 'somewhat': 4068, 'essential': 1522, 'qualities': 3483, 'hear': 2061, 'werent': 4849, 'believe': 454, 'religious': 3608, 'faith': 1633, 'loved': 2670, 'church': 813, 'responsible': 3656, 'whats': 4860, 'fascinating': 1658, 'cynical': 1093, 'upon': 4684, 'concerns': 934, 'men': 2805, 'age': 148, 'meanwhile': 2785, 'ethan': 1528, 'julie': 2428, 'theyre': 4445, '90s': 61, 'generation': 1883, 'central': 735, 'walking': 4779, 'romantic': 3733, 'brief': 579, 'encounter': 1466, 'acceptable': 81, 'says': 3801, 'ho': 2127, 'cinematic': 818, 'suddenly': 4273, 'random': 3514, 'player': 3298, 'words': 4938, 'reactions': 3542, 'adult': 125, 'future': 1856, 'featuring': 1681, 'ear': 1397, 'natural': 2973, 'wit': 4908, 'happiness': 2031, 'self': 3869, 'contained': 963, 'attached': 336, '24': 39, 'hours': 2177, 'married': 2744, 'couple': 1016, 'calling': 653, 'repeatedly': 3632, 'cheesy': 781, 'brilliant': 583, 'front': 1841, 'others': 3136, 'friend': 1835, 'corny': 997, '40': 48, 'adam': 111, 'burt': 629, 're': 3535, 'live': 2625, 'memories': 2803, 'plus': 3311, '1960s': 15, 'exception': 1557, 'familiar': 1643, 'written': 4972, 'fantastic': 1651, 'clips': 852, 'villains': 4745, 'frank': 1821, 'came': 656, 'villain': 4744, 'batman': 413, 'robin': 3715, 'lose': 2654, 'thanks': 4423, 'conclusion': 936, 'wish': 4904, 'thank': 4421, 'coming': 896, 'remember': 3616, 'afraid': 140, 'saving': 3797, 'six': 4010, 'themselves': 4435, 'account': 89, 'repetitive': 3633, 'copies': 992, 'success': 4265, 'basically': 407, 'supernatural': 4302, 'slasher': 4020, 'promising': 3433, 'chilling': 794, 'dead': 1132, 'eyes': 1613, 'opens': 3115, 'downhill': 1336, 'flick': 1754, 'visuals': 4759, 'looks': 2649, 'type': 4621, 'nicely': 3009, 'executed': 1565, 'intended': 2315, 'sequences': 3888, 'jumps': 2432, 'intensity': 2317, 'usually': 4700, 'problem': 3408, 'students': 4239, 'look': 2646, 'confused': 941, 'occasion': 3073, 'performances': 3229, 'okay': 3099, 'guess': 1989, 'hard': 2033, 'seem': 3861, 'stiff': 4187, 'scary': 3807, 'enough': 1491, 'expecting': 1578, 'painfully': 3172, 'seat': 3845, 'embarrassment': 1455, 'eva': 1531, 'carry': 700, 'terrible': 4407, 'further': 1853, 'doesnt': 1309, 'comedic': 888, 'timing': 4498, 'shes': 3930, 'returns': 3668, 'earth': 1403, 'psychic': 3456, 'dating': 1120, 'bell': 458, 'bringing': 586, 'energy': 1478, 'appears': 278, 'abilities': 64, 'working': 4944, 'effort': 1432, 'material': 2766, 'work': 4940, 'jason': 2383, 'dragged': 1343, 'rest': 3657, 'titanic': 4503, 'ed': 1415, 'utter': 4701, 'projects': 3428, 'vast': 4716, 'amounts': 220, 'bland': 500, 'seriously': 3892, 'grade': 1951, 'wanted': 4789, 'guide': 1993, 'looked': 2647, 'cover': 1022, 'pretty': 3384, 'cool': 989, 'elephant': 1444, 'supposed': 4306, 'dislike': 1288, 'busy': 635, 'realized': 3553, 'doing': 1312, 'toward': 4539, 'setting': 3900, 'relationship': 3597, 'mean': 2779, 'common': 906, 'besides': 468, 'shooting': 3943, 'extent': 1605, 'revealed': 3671, 'progresses': 3426, 'glad': 1916, 'couldnt': 1008, 'tragedy': 4551, 'realistic': 3550, 'chain': 741, 'progress': 3425, 'mature': 2773, 'full': 1846, 'dull': 1384, 'attitude': 346, 'dry': 1377, 'voice': 4761, 'holds': 2131, 'record': 3573, 'challenging': 744, 'duty': 1390, 'regret': 3591, 'head': 2057, 'hurt': 2202, 'terribly': 4408, 'pointless': 3318, 'bunch': 623, 'kids': 2467, 'zero': 4996, 'knowledge': 2491, 'anything': 260, 'tries': 4585, 'date': 1118, 'hatred': 2049, 'red': 3576, 'id': 2212, 'thrown': 4481, 'following': 1774, 'avoid': 363, 'plague': 3285, 'mild': 2839, 'teeth': 4393, 'opening': 3114, 'titles': 4506, 'learning': 2552, 'god': 1926, 'fairy': 1632, 'frankly': 1823, 'uses': 4697, 'irish': 2353, 'stereotypical': 4180, 'hopes': 2159, 'aimed': 162, 'switch': 4339, 'attempt': 340, 'accent': 78, 'flash': 1745, 'introduce': 2336, 'princess': 3397, 'absolute': 71, 'questions': 3489, 'strong': 4229, 'impression': 2252, 'causes': 725, 'resist': 3648, 'describes': 1196, 'power': 3359, 'sword': 4340, 'flying': 1764, 'mechanical': 2788, 'magic': 2703, 'wishes': 4906, 'encounters': 1467, 'loud': 2664, 'mountain': 2917, 'temple': 4398, 'dawn': 1127, 'armed': 293, 'giant': 1905, 'spider': 4109, 'magical': 2704, 'eye': 1611, 'save': 3794, 'firstly': 1737, '1973': 19, 'version': 4720, 'cusack': 1088, '1983': 22, 'adaptation': 113, 'disappointment': 1275, 'staring': 4152, 'theatrical': 4430, 'putting': 3482, 'tim': 4494, 'rochester': 3719, 'strange': 4211, 'mix': 2876, 'matched': 2763, 'capture': 676, 'novel': 3052, 'certainly': 738, 'ask': 316, 'oh': 3096, 'writing': 4971, 'special': 4097, 'effects': 1431, 'mood': 2898, 'decent': 1147, 'goal': 1925, 'comment': 898, 'brand': 565, 'nudity': 3059, 'crazy': 1035, 'killer': 2470, 'moves': 2925, 'completely': 922, 'classes': 834, 'ruin': 3750, 'reputation': 3640, 'secondly': 3847, 'trash': 4565, 'given': 1913, 'dvds': 1392, 'judge': 2424, 'opinion': 3118, 'sat': 3786, 'ignore': 2224, 'choice': 797, 'unable': 4631, 'pity': 3281, 'dreadful': 1353, 'box': 555, 'worn': 4948, 'clichés': 846, 'high': 2100, 'school': 3813, 'trip': 4588, 'abandoned': 62, 'mission': 2870, 'mildly': 2840, 'happens': 2029, 'group': 1980, 'survive': 4321, 'havent': 2053, 'saves': 3796, 'total': 4531, 'nobody': 3022, 'taking': 4352, 'cop': 991, 'finger': 1731, 'far': 1653, 'amusing': 221, 'properly': 3437, 'frightening': 1839, 'zombie': 4997, 'paint': 3173, 'jobs': 2406, 'become': 433, 'kills': 2474, 'instantly': 2306, 'jump': 2429, 'murdered': 2940, 'doubt': 1332, 'wearing': 4831, 'youd': 4987, 'vampire': 4711, 'hardly': 2036, 'split': 4120, 'sides': 3967, 'honest': 2146, 'dentist': 1180, 'honestly': 2147, 'anybody': 257, 'except': 1556, 'crew': 1053, 'theyd': 4443, 'enjoy': 1484, 'genre': 1888, 'personally': 3243, 'makers': 2715, 'bothered': 549, 'turkey': 4604, 'shouldnt': 3952, 'gone': 1935, 'cube': 1076, 'price': 3389, 'reduced': 3579, 'sold': 4052, 'cheap': 774, 'pile': 3275, 'horrendous': 2162, 'screenplay': 3831, 'poorly': 3329, 'acted': 98, 'ending': 1471, 'worse': 4951, 'history': 2121, 'obsession': 3070, 'teacher': 4375, 'develop': 1222, 'storyline': 4208, 'occurred': 3077, '90': 60, 'asked': 317, 'rare': 3523, 'ages': 152, 'narrative': 2966, 'colorful': 878, 'bound': 553, 'thief': 4448, 'adventures': 131, 'hood': 2151, 'summer': 4291, 'proved': 3446, 'producer': 3415, 'alexander': 180, 'unique': 4662, 'politics': 3326, 'cd': 728, 'library': 2589, 'conspiracy': 956, 'un': 4630, 'loosely': 2651, 'company': 910, 'ten': 4399, 'pictures': 3270, 'political': 3324, 'program': 3424, 'light': 2595, 'breaking': 570, 'mainstream': 2709, 'stuff': 4243, 'literally': 2622, 'presented': 3376, 'important': 2247, 'views': 4742, 'significant': 3972, 'fellow': 1691, 'view': 4736, 'social': 4049, 'cultural': 1078, 'media': 2789, 'warned': 4798, 'propaganda': 3435, 'kim': 2475, 'witch': 4909, 'secretly': 3851, 'attracted': 349, 'neighbor': 2992, 'james': 2378, 'stewart': 4184, 'spell': 4104, 'forces': 1788, 'discovers': 1281, 'cares': 690, 'react': 3540, 'finds': 1728, 'falling': 1639, 'comedies': 889, 'spectacular': 4101, 'enjoyable': 1485, 'sits': 4006, 'greatest': 1966, 'cute': 1090, 'touching': 4536, 'pointed': 3317, 'incredible': 2269, 'understated': 4646, 'jack': 2373, 'lemmon': 2567, 'biggest': 480, 'decide': 1148, 'richard': 3686, 'approach': 282, 'memorable': 2802, 'extras': 1608, 'bomb': 531, 'safety': 3772, 'race': 3499, 'goodness': 1938, 'sit': 4003, 'party': 3200, 'hey': 2095, 'pay': 3216, 'cars': 702, 'track': 4544, 'speed': 4103, 'close': 853, 'changed': 750, 'suppose': 4305, 'cost': 1003, 'cared': 685, 'woody': 4936, 'walked': 4776, 'hour': 2176, 'aware': 368, 'became': 431, 'bullet': 620, 'points': 3319, 'sisters': 4002, 'badly': 383, 'delivering': 1171, 'drama': 1346, 'none': 3028, 'entirely': 1503, 'hooked': 2153, 'fly': 1763, 'wooden': 4934, 'forest': 1791, 'numbers': 3061, 'disaster': 1276, 'single': 3996, 'redeeming': 3577, 'quality': 3484, 'treat': 4572, 'glimpse': 1919, 'messed': 2821, 'losers': 2656, 'afternoon': 144, 'mistake': 2871, 'list': 2617, 'cannot': 670, 'surely': 4309, 'incomprehensible': 2267, 'delivered': 1170, 'robbins': 3712, 'paid': 3169, 'embarrassed': 1453, 'celluloid': 731, 'lately': 2524, 'pat': 3208, 'grace': 1950, 'uncomfortable': 4637, 'worthwhile': 4955, 'throw': 4479, 'bin': 483, 'local': 2634, 'store': 4204, 'urge': 4689, 'korean': 2495, 'thugs': 4484, 'beat': 423, 'sport': 4129, 'notion': 3050, 'martial': 2747, 'arts': 310, 'achieve': 92, 'meant': 2784, 'slapstick': 4019, 'carries': 699, 'message': 2819, 'situations': 4009, 'actions': 101, 'answers': 252, 'superb': 4296, 'amazing': 209, 'agents': 151, 'totally': 4532, 'lost': 2660, 'dollars': 1315, 'due': 1382, 'fooled': 1780, 'campy': 664, 'absolutely': 72, 'whatsoever': 4861, 'mad': 2696, 'cliché': 844, 'killings': 2473, 'painful': 3171, 'laughed': 2532, 'vaguely': 4706, 'relate': 3593, 'snow': 4045, 'sports': 4130, 'intriguing': 2335, 'angles': 237, 'car': 680, 'accident': 84, 'truck': 4595, 'mixture': 2878, 'ingredients': 2289, 'chosen': 805, 'perfect': 3224, 'revenge': 3675, 'sitcom': 4004, 'smart': 4035, 'colors': 879, 'purple': 3473, 'alice': 182, 'wise': 4903, 'reference': 3582, 'face': 1616, 'gotten': 1947, 'required': 3641, 'contrary': 974, 'average': 362, 'lame': 2510, 'wives': 4918, 'womens': 4924, 'longer': 2645, 'chick': 786, 'attorney': 348, 'boys': 559, 'dude': 1381, 'offering': 3089, 'realizing': 3555, 'expected': 1577, 'piece': 3272, 'happy': 2032, 'jimmy': 2403, 'alfred': 181, 'haunting': 2051, 'masterpiece': 2759, 'hitchcock': 2123, 'rate': 3526, 'companion': 909, 'likely': 2601, 'romance': 3732, 'transformation': 4560, 'essentially': 1523, 'altogether': 202, 'terrific': 4409, 'aunt': 355, 'alcoholic': 177, 'drinking': 1362, 'midnight': 2834, 'meat': 2787, 'short': 3946, 'himself': 2111, 'express': 1600, 'mixed': 2877, 'viewing': 4740, 'appropriate': 283, 'term': 4405, 'violence': 4747, 'sadistic': 3768, 'extreme': 1609, 'undoubtedly': 4648, 'gratuitous': 1961, 'normally': 3034, 'speaking': 4095, 'pro': 3406, 'depicted': 1183, 'shock': 3938, 'upset': 4687, 'fully': 1847, 'effective': 1429, 'digital': 1251, 'computer': 927, 'bigger': 479, 'focus': 1766, 'elements': 1443, 'basic': 406, 'concept': 930, 'multiple': 2936, 'chase': 769, 'nail': 2957, 'atmosphere': 333, 'pacing': 3163, 'uneven': 4649, 'potentially': 3356, 'convoluted': 987, 'presumably': 3380, 'scenario': 3808, 'jones': 2418, 'introduces': 2338, 'photographer': 3259, 'search': 3841, 'menacing': 2807, 'sinister': 3998, 'obsessed': 3069, 'turns': 4609, 'serial': 3889, 'hammer': 2014, 'killers': 2471, 'motivations': 2915, 'naturally': 2974, 'unsettling': 4679, 'locations': 2636, 'animal': 239, 'downright': 1337, 'disturbing': 1300, 'images': 2235, 'versus': 4722, 'godzilla': 1929, 'wars': 4804, 'advantage': 129, 'leaves': 2556, 'finale': 1723, 'offended': 3085, 'alone': 194, 'kid': 2464, 'nine': 3017, 'loving': 2675, 'round': 3742, 'bollywood': 530, 'imitation': 2241, 'obviously': 3072, 'arrival': 299, 'twins': 4616, 'throws': 4482, 'window': 4894, 'sing': 3992, 'revolutionary': 3681, 'genuinely': 1892, 'amitabh': 216, 'gem': 1877, 'shines': 3932, 'kick': 2460, 'indian': 2274, 'surprisingly': 4316, 'maggie': 2702, 'smith': 4038, 'days': 1130, 'step': 4175, 'sounds': 4084, 'sixties': 4011, 'spends': 4107, 'nostalgia': 3038, 'including': 2264, 'street': 4216, 'shot': 3949, 'waitress': 4773, 'places': 3284, 'laughable': 2530, 'nor': 3032, 'stereotypes': 4179, 'germans': 1897, 'writers': 4969, 'errors': 1516, 'aspect': 321, 'emily': 1456, 'brilliantly': 584, 'favor': 1670, 'proper': 3436, 'davies': 1125, 'property': 3438, 'screens': 3832, 'popular': 3333, 'business': 633, 'trite': 4589, 'handled': 2019, 'beautifully': 429, 'king': 2479, 'reasons': 3560, 'genius': 1887, 'process': 3412, 'cameras': 660, 'sets': 3899, 'charlie': 765, 'chaplin': 756, 'turn': 4605, 'seeking': 3859, 'catch': 714, 'claire': 831, 'names': 2963, 'possible': 3350, 'spoilers': 4124, 'thinking': 4453, '80': 58, 'million': 2847, 'tired': 4501, 'animated': 241, 'animation': 242, 'bring': 585, 'weekend': 4838, 'during': 1387, 'spread': 4133, 'feels': 1687, 'epic': 1506, 'irritating': 2359, 'narration': 2965, 'escapes': 1519, 'scared': 3805, 'narrator': 2967, 'matt': 2768, 'damon': 1101, 'clear': 839, 'happen': 2026, 'constant': 957, 'adams': 112, 'able': 66, 'handle': 2018, 'heres': 2087, 'spoiler': 4123, 'range': 3516, 'falls': 1640, 'river': 3707, 'spirit': 4113, '50': 51, 'foot': 1781, 'drop': 1369, 'alive': 186, 'realism': 3549, 'sum': 4289, 'checking': 778, 'watches': 4814, 'waiting': 4772, 'typically': 4624, 'settle': 3902, 'passes': 3203, 'channel': 753, 'surfing': 4311, 'camp': 662, 'ii': 2226, 'cross': 1066, 'check': 777, 'franchise': 1817, 'note': 3044, 'criticism': 1063, 'design': 1202, 'joke': 2414, 'sleep': 4024, 'wanting': 4790, 'pure': 3471, 'value': 4709, 'friday': 1834, '13th': 5, 'rendition': 3625, 'requires': 3642, 'pamela': 3179, 'reality': 3551, 'killing': 2472, 'deaths': 1142, 'staged': 4140, 'fake': 1635, 'across': 96, 'ranks': 3519, 'hung': 2197, 'proud': 3444, 'technique': 4383, 'fights': 1710, 'awe': 370, 'skill': 4013, 'displayed': 1292, 'kung': 2498, 'fu': 1844, 'fame': 1642, 'breathtaking': 574, 'follows': 1775, 'fitting': 1742, 'resolution': 3649, 'humour': 2194, 'cousin': 1021, 'lee': 2559, 'kennedy': 2454, 'answer': 251, 'thankfully': 4422, 'brothers': 599, 'existence': 1571, 'jr': 2423, 'edie': 1419, 'wreck': 4965, 'magnificent': 2705, 'mansion': 2731, 'east': 1407, 'slowly': 4032, 'jungle': 2434, 'oil': 3097, 'painting': 3175, 'wall': 4781, 'floor': 1759, 'space': 4090, 'walls': 4783, 'covers': 1024, 'broken': 594, 'clothing': 861, 'favorite': 1671, 'costume': 1005, 'pair': 3176, 'shorts': 3948, 'pulled': 3462, 'bits': 490, 'wrapped': 4964, 'indeed': 2271, 'sexual': 3908, 'tension': 4404, 'eating': 1413, 'ice': 2210, 'dinner': 1254, 'birthday': 487, 'china': 795, 'plastic': 3294, 'irrelevant': 2358, 'france': 1816, 'difficult': 1249, 'said': 3774, 'talk': 4358, 'animals': 240, 'food': 1778, 'cats': 721, 'everywhere': 1545, 'responsibility': 3655, 'germany': 1898, 'felix': 1689, 'noble': 3021, 'sandra': 3782, 'charming': 768, 'quick': 3490, 'spy': 4135, 'engaging': 1481, 'cases': 708, 'berlin': 467, 'co': 867, 'notably': 3042, 'secretary': 3850, 'childhood': 790, 'pal': 3177, 'mate': 2765, 'barbara': 397, 'joy': 2422, 'received': 3564, 'wait': 4770, 'types': 4622, 'drawn': 1351, 'horses': 2171, 'easy': 1410, 'added': 116, 'thick': 4447, 'lines': 2612, 'noticed': 3049, 'portrayed': 3342, 'strangely': 4212, 'mothers': 2912, 'wild': 4885, 'chases': 771, 'portraying': 3343, 'army': 295, 'officers': 3093, 'native': 2972, 'americans': 214, 'worlds': 4947, 'riding': 3695, 'saved': 3795, 'spirits': 4115, 'feelings': 1686, 'telling': 4396, 'emotion': 1458, 'breath': 573, 'force': 1786, 'tears': 4380, 'showing': 3958, 'puts': 3481, 'whoever': 4872, 'educational': 1425, 'huh': 2187, 'marvelous': 2750, 'combination': 883, 'thoughts': 4464, 'forever': 1792, 'mainly': 2708, 'chair': 742, 'don': 1320, 'sharp': 3922, 'finest': 1730, 'filmmakers': 1720, 'underrated': 4642, 'monk': 2889, 'overlooked': 3154, 'independent': 2272, 'productions': 3420, 'complex': 923, 'delightful': 1168, 'themes': 4434, 'centers': 734, 'object': 3066, 'mirror': 2861, 'ancient': 225, 'device': 1227, 'heavily': 2069, 'knowing': 2490, 'picks': 3268, 'clearly': 840, 'running': 3756, 'deeper': 1155, 'sacrifice': 3766, 'neat': 2982, 'inventive': 2341, 'climax': 849, 'admire': 121, 'dialogs': 1233, 'leader': 2546, 'eerie': 1427, 'recommended': 3572, 'definite': 1161, 'corruption': 1002, 'join': 2412, 'career': 686, 'agreed': 156, 'todays': 4509, 'inferior': 2285, 'product': 3418, 'tone': 4517, 'class': 833, 'mass': 2753, 'released': 3603, 'inspector': 2299, 'hates': 2048, 'dignity': 1252, 'level': 2584, 'expressions': 1603, 'carried': 698, 'discovery': 1282, 'debut': 1143, 'forgotten': 1797, '1st': 28, 'rebel': 3561, 'truth': 4599, 'revealing': 3672, 'faces': 1618, 'lies': 2591, 'kudos': 2497, 'national': 2970, 'awards': 367, 'serious': 3891, 'ratings': 3530, 'various': 4715, 'gene': 1879, 'georges': 1894, 'leslie': 2574, 'green': 1971, 'dickens': 1240, 'persona': 3239, 'ambitious': 211, 'focused': 1767, 'convincing': 985, 'artist': 307, 'content': 966, 'critics': 1064, 'ladies': 2506, 'rain': 3506, 'jerry': 2396, 'miscast': 2862, 'innocent': 2294, 'sees': 3866, 'pulls': 3464, 'dirty': 1268, 'trick': 4582, 'calls': 654, 'shop': 3945, 'believable': 453, 'boot': 538, 'admittedly': 123, 'partly': 3197, 'actress': 105, 'judy': 2426, 'shower': 3957, 'guts': 1999, 'acts': 107, 'shy': 3962, 'vulnerable': 4768, 'teenager': 4390, 'creep': 1051, 'choose': 799, 'changing': 752, 'older': 3101, 'rich': 3685, 'above': 68, 'improved': 2255, 'dancer': 1104, 'turned': 4606, 'ray': 3533, 'bobby': 525, 'van': 4713, 'necessarily': 2983, 'chased': 770, 'appeared': 276, 'hole': 2132, 'ballet': 389, 'provided': 3449, 'ended': 1470, 'somebody': 4062, 'depressing': 1188, 'heavy': 2070, 'prove': 3445, 'clean': 838, 'everybody': 1540, 'ugly': 4625, 'lacks': 2505, 'lover': 2672, 'tremendous': 4579, 'highlights': 2104, 'liberal': 2588, 'anti': 254, 'ludicrous': 2685, 'facts': 1624, 'robert': 3713, 'blake': 498, 'twisted': 4618, 'nice': 3008, 'riveting': 3708, 'hall': 2009, 'modern': 2882, 'jeff': 2390, 'april': 284, 'shortly': 3947, 'trial': 4580, 'color': 877, 'opportunity': 3121, 'remake': 3612, '100': 1, 'canadian': 667, 'location': 2635, 'sex': 3907, 'rock': 3720, 'roll': 3728, 'perry': 3237, 'blues': 519, 'prior': 3400, 'filming': 1718, 'person': 3238, 'royal': 3746, 'spoke': 4125, 'dressed': 1358, 'nation': 2969, 'prince': 3396, 'appearances': 275, 'ireland': 2352, 'culture': 1079, 'elvis': 1451, 'related': 3594, 'mistakes': 2873, 'grave': 1962, 'mention': 2810, 'suspicious': 4332, 'minds': 2852, 'examples': 1554, 'mike': 2838, 'tom': 4514, 'hanks': 2025, 'surprise': 4312, 'minute': 2858, 'ultra': 4629, 'eastern': 1408, 'doomed': 1327, 'die': 1243, 'knows': 2493, 'loses': 2657, 'towards': 4540, 'disagree': 1269, 'simple': 3983, 'respect': 3652, 'thrillers': 4473, '1970s': 17, 'ironically': 2356, 'underground': 4640, 'aforementioned': 139, 'contains': 964, 'originality': 3130, 'whilst': 4869, 'explained': 1587, 'developed': 1223, 'thin': 4449, 'run': 3755, 'scream': 3826, 'pack': 3165, 'rats': 3531, 'bag': 384, 'spot': 4131, 'hits': 2125, 'bargain': 400, 'dig': 1250, 'aka': 168, 'concerned': 932, 'figure': 1711, 'happening': 2028, 'prevent': 3385, 'bear': 420, 'bela': 450, 'lugosi': 2686, 'continue': 969, 'lets': 2580, 'move': 2921, 'twenty': 4612, 'treated': 4573, 'lab': 2501, 'assistant': 326, 'explaining': 1588, 'sleeping': 4025, 'comfortable': 892, 'bed': 436, 'vague': 4705, 'plots': 3310, 'journalist': 2420, 'nose': 3037, 'nevertheless': 3002, 'parts': 3199, 'understood': 4647, 'suitable': 4285, 'parent': 3187, 'junior': 2435, 'order': 3126, 'seven': 3903, 'crowd': 1067, 'younger': 4990, 'market': 2740, 'olivier': 3103, 'college': 875, 'student': 4238, 'mexican': 2826, 'gang': 1867, 'obnoxious': 3067, 'racist': 3503, 'choreography': 802, 'johnny': 2410, 'hit': 2122, 'miss': 2866, 'greatly': 1967, 'parody': 3192, 'keaton': 2448, 'gangster': 1868, 'higher': 2101, 'mob': 2879, 'recent': 3566, 'boom': 537, 'reached': 3537, 'pitch': 3279, 'countless': 1012, 'joe': 2407, 'hoping': 2160, 'tap': 4364, 'gay': 1876, 'twist': 4617, 'deal': 1135, 'kicks': 2463, 'hearing': 2063, 'wins': 4899, 'prize': 3405, 'hair': 2005, 'mans': 2730, 'dress': 1357, 'strip': 4228, 'fat': 1663, 'equivalent': 1512, 'performer': 3231, 'offensive': 3086, 'behave': 445, 'bank': 394, 'individuals': 2278, 'capable': 672, 'stereotype': 4178, 'soft': 4051, 'described': 1195, 'hong': 2149, 'kong': 2494, 'journey': 2421, 'huge': 2185, 'table': 4346, 'middle': 2833, 'expensive': 1579, 'implausible': 2245, 'suspend': 4329, 'disbelief': 1277, 'chasing': 772, 'sam': 3777, 'likes': 2602, 'smoke': 4039, 'walks': 4780, 'legendary': 2565, 'drug': 1373, 'letting': 2583, 'rap': 3520, 'corrupt': 1001, 'awkward': 374, 'suspect': 4327, 'absurd': 73, 'nature': 2975, 'ruthless': 3764, 'worked': 4941, 'fathers': 1667, 'poignant': 3315, 'ridiculous': 3693, 'warning': 4800, 'spoil': 4121, 'incredibly': 2270, 'clue': 864, 'star': 4150, 'dolph': 1317, 'shocked': 3939, 'bonus': 534, 'footage': 1782, 'deserves': 1201, 'tortured': 4530, 'inappropriate': 2259, 'lees': 2560, 'sincere': 3991, 'sounding': 4083, 'nonsensical': 3031, 'cops': 993, 'road': 3709, 'runs': 3757, 'disgusting': 1286, 'instance': 2304, 'silent': 3975, 'attack': 337, 'dick': 1239, 'naked': 2959, 'threw': 4470, 'anyway': 261, 'defeat': 1157, 'wow': 4962, 'wave': 4818, 'suffers': 4278, 'exist': 1569, 'japanese': 2382, 'angeles': 233, 'practically': 3362, 'references': 3583, 'revolves': 3682, 'parents': 3188, 'named': 2961, 'sidekick': 3966, 'ignorant': 2223, 'twice': 4613, 'unrealistic': 4677, 'recorded': 3574, 'impressive': 2253, 'managed': 2723, 'involves': 2348, 'handed': 2016, 'tea': 4373, 'closed': 854, 'door': 1328, 'beats': 426, 'glass': 1917, 'arm': 292, 'slightest': 4028, 'bullets': 621, 'bare': 398, 'chest': 784, 'manage': 2722, 'fill': 1714, 'within': 4912, 'seconds': 3848, 'condition': 937, 'manages': 2725, 'duke': 1383, 'super': 4295, 'samurai': 3779, 'carrying': 701, 'arms': 294, 'unnecessary': 4672, 'nude': 3058, 'topless': 4527, 'bar': 396, 'enthusiasm': 1501, 'eat': 1411, 'fish': 1738, 'chicks': 787, 'followed': 1773, 'junk': 2436, 'credits': 1050, 'enormous': 1490, 'workers': 4943, 'illogical': 2231, 'thoughtful': 4463, 'delight': 1167, 'actual': 108, 'merit': 2816, 'cake': 648, 'skin': 4015, 'pants': 3182, 'jim': 2402, 'doors': 1329, 'porn': 3336, 'holmes': 2139, 'key': 2458, 'slaughter': 4021, 'celebrity': 729, 'anyways': 262, 'sounded': 4082, 'preview': 3386, 'predictable': 3367, 'pleasantly': 3303, 'led': 2558, 'visual': 4757, 'humorous': 2193, 'allowed': 190, 'ie': 2221, 'reflection': 3585, 'generally': 1881, 'likable': 2598, 'scripted': 3835, 'superbly': 4297, 'teenage': 4389, 'drive': 1363, 'spring': 4134, 'flat': 1748, 'witnesses': 4916, 'sheriff': 3929, 'crime': 1055, 'nasty': 2968, 'murderous': 2942, 'dimensional': 1253, 'subplot': 4255, 'involving': 2349, 'woods': 4935, 'tense': 4403, 'cliche': 843, 'weapon': 4828, 'gary': 1873, 'shoots': 3944, 'entertain': 1497, 'machine': 2693, 'battles': 415, 'danny': 1112, 'cable': 644, 'excuse': 1564, 'attractive': 351, 'luke': 2687, 'crying': 1074, 'speaks': 4096, 'skills': 4014, 'scope': 3821, 'effect': 1428, 'refuses': 3587, 'marriage': 2743, 'hill': 2108, 'wind': 4893, 'blew': 505, 'onto': 3111, 'legs': 2566, 'shall': 3916, 'golden': 1934, 'cinemas': 817, '12': 3, 'pokemon': 3320, 'commercials': 903, 'conflict': 939, 'unusual': 4681, 'holes': 2133, 'closing': 859, 'sons': 4073, 'closer': 856, 'theatre': 4429, 'childrens': 793, 'chan': 746, 'missing': 2869, 'moving': 2928, 'san': 3780, 'francisco': 1819, 'perspective': 3245, 'essence': 1521, 'community': 908, 'chinese': 796, 'settings': 3901, 'voices': 4763, 'humble': 2191, 'everyday': 1541, 'taxi': 4371, 'kitchen': 2485, 'row': 3744, 'center': 732, 'era': 1513, 'urban': 4688, 'harry': 2039, 'fancy': 1649, 'harsh': 2040, 'closest': 857, 'buildings': 616, 'hills': 2109, 'scale': 3802, 'individual': 2277, 'photography': 3260, 'helps': 2082, 'speech': 4102, 'listen': 2619, 'ya': 4976, 'pull': 3461, 'hearts': 2066, 'ironic': 2355, 'quest': 3486, 'goofy': 1939, '1930s': 11, 'mark': 2739, 'australia': 356, 'event': 1535, 'hated': 2047, 'coach': 868, 'shining': 3933, 'physical': 3262, 'abysmal': 76, 'hitler': 2124, 'raised': 3508, 'catholic': 720, 'limits': 2607, 'insulting': 2310, 'millions': 2848, 'battle': 414, 'nazis': 2978, 'rat': 3525, 'wake': 4774, 'ourselves': 3140, 'learn': 2550, 'teach': 4374, 'weve': 4856, 'insult': 2309, 'countries': 1013, 'raising': 3509, 'thirty': 4456, 'included': 2262, 'insight': 2298, 'anywhere': 263, 'mini': 2854, 'element': 1442, 'beliefs': 452, 'surface': 4310, 'ran': 3513, 'segments': 3868, 'politically': 3325, 'farce': 1654, 'took': 4523, 'loser': 2655, 'useless': 4695, 'spent': 4108, 'stealing': 4171, 'boyfriend': 558, 'brains': 563, 'subtle': 4260, 'nonsense': 3030, 'plan': 3287, 'outer': 3143, 'christian': 808, 'conversation': 980, 'ones': 3108, 'involved': 2346, 'charm': 767, 'unconvincing': 4638, 'military': 2844, 'bother': 548, 'former': 1800, 'sky': 4017, 'alex': 179, 'planned': 3290, 'blows': 517, 'amateurish': 207, 'open': 3112, 'singer': 3993, 'industry': 2280, 'cartoon': 704, 'picked': 3266, 'mall': 2720, 'sucked': 4270, 'fox': 1814, 'cried': 1054, 'spirited': 4114, 'died': 1244, 'child': 789, 'agree': 155, 'sucks': 4271, 'produced': 3414, 'sir': 4000, 'wells': 4845, 'ahead': 159, 'aside': 315, 'stunning': 4244, 'ralph': 3510, 'raymond': 3534, 'deliver': 1169, 'keeps': 2451, 'brings': 587, 'experienced': 1581, 'phony': 3256, 'driver': 1366, 'viewed': 4737, 'vs': 4767, 'break': 569, 'statement': 4162, 'destiny': 1212, 'doubts': 1333, 'wisdom': 4902, 'response': 3654, 'standing': 4146, 'universe': 4666, 'chorus': 803, 'breaks': 571, 'blade': 495, 'remind': 3618, 'steven': 4182, 'latest': 2526, 'honor': 2150, 'standard': 4144, 'entertainment': 1500, 'commented': 900, 'surviving': 4323, '80s': 59, 'noted': 3045, 'theaters': 4428, 'kicked': 2461, 'anymore': 258, 'fast': 1661, 'sister': 4001, 'diamond': 1236, 'pretending': 3382, 'baby': 376, '15': 7, 'ripped': 3701, 'hire': 2116, 'stone': 4197, 'lloyd': 2630, 'president': 3378, 'studio': 4240, 'lifetime': 2594, 'achievement': 94, 'filmmaker': 1719, 'wrote': 4974, 'direct': 1258, 'decisions': 1152, 'daring': 1114, 'edge': 1418, 'intelligent': 2314, 'suspenseful': 4331, 'motion': 2913, 'receives': 3565, 'partner': 3198, 'lesbian': 2573, 'mary': 2751, 'winds': 4895, 'circumstances': 822, 'reveal': 3670, 'personality': 3242, 'inspired': 2301, 'nicholas': 3010, 'donald': 1321, 'erotic': 1515, 'thriller': 4472, 'earlier': 1399, 'includes': 2263, 'interviews': 2330, 'george': 1893, 'hints': 2113, 'mother': 2911, 'devils': 1229, 'ashamed': 312, 'spoiled': 4122, 'husband': 2204, 'scooby': 3820, 'doo': 1325, 'dad': 1095, 'planet': 3289, 'warner': 4799, 'allowing': 191, 'twin': 4615, 'gonna': 1936, 'folks': 1771, 'winning': 4898, 'format': 1799, 'garbage': 1870, 'stale': 4141, 'misses': 2868, 'uncle': 4636, 'renting': 3629, 'bbc': 417, 'jane': 2380, 'eyre': 1614, 'starring': 4154, 'timothy': 4499, 'dalton': 1098, 'recently': 3567, '1996': 26, 'tells': 4397, 'handsome': 2021, 'butler': 637, 'makeup': 2717, 'naive': 2958, '18': 10, 'passionate': 3206, 'kissing': 2484, 'include': 2261, 'fashioned': 1660, 'popularity': 3334, 'strength': 4219, 'assumed': 329, 'tedious': 4387, 'kinda': 2477, 'reminded': 3619, '20': 29, 'jessica': 2398, 'fetched': 1698, 'dumb': 1385, 'angela': 232, 'buff': 611, 'intrigued': 2334, 'contact': 961, 'risk': 3704, 'discovered': 1280, 'occurs': 3078, 'blind': 506, 'luck': 2681, 'increasingly': 2268, 'merely': 2815, 'detective': 1220, 'suspects': 4328, 'clever': 841, 'evidence': 1546, 'guessed': 1990, 'amateur': 206, 'hands': 2020, 'logic': 2638, 'crimes': 1056, 'drags': 1345, 'attempting': 342, 'determined': 1221, 'utterly': 4702, 'area': 286, 'territory': 4411, 'buried': 624, 'lighting': 2596, 'metal': 2823, 'bedroom': 437, 'priest': 3392, 'wicked': 4879, 'rise': 3702, 'master': 2757, 'soundtrack': 4085, 'fits': 1741, 'buy': 640, 'simmons': 3981, 'glory': 1922, 'safe': 3771, 'ben': 463, 'contain': 962, 'lessons': 2578, 'burned': 626, 'fed': 1682, 'ex': 1549, 'trees': 4577, 'knew': 2486, 'travel': 4567, 'opened': 3113, 'possibilities': 3348, 'producing': 3417, 'estate': 1525, 'creation': 1040, 'critic': 1061, 'garbo': 1871, 'louise': 2666, 'brooks': 596, 'masterpieces': 2760, 'exceptional': 1558, 'finished': 1733, 'clichéd': 845, 'toys': 4543, 'frame': 1815, 'flashbacks': 1747, '16': 8, 'alcohol': 176, 'depiction': 1185, 'jumping': 2431, 'coherent': 871, 'pretentious': 3383, 'rubbish': 3748, 'bitter': 491, 'dogs': 1311, 'escape': 1517, 'inside': 2297, 'shadow': 3912, 'adventure': 130, 'specific': 4099, 'imagination': 2236, 'sent': 3880, 'snake': 4042, 'technical': 4381, 'cut': 1089, 'cardboard': 682, 'amanda': 205, 'bus': 631, 'creative': 1041, 'bone': 533, 'thousand': 4465, 'thinks': 4454, 'shallow': 3917, 'specifically': 4100, 'satire': 3788, 'screaming': 3827, 'yeah': 4977, 'repeat': 3630, 'aint': 163, 'lowest': 2678, 'bumbling': 622, 'heroes': 2089, 'drops': 1372, 'toilet': 4512, 'bodies': 526, 'weight': 4840, 'loss': 2659, 'empty': 1465, 'italy': 2368, 'nowadays': 3055, 'thumbs': 4485, 'attempted': 341, 'vietnam': 4735, 'carter': 703, 'chapter': 757, 'hero': 2088, 'doc': 1303, 'savage': 3793, 'kenneth': 2455, 'pulp': 3465, 'novels': 3053, 'lucas': 2680, 'adding': 117, 'flaws': 1752, 'harder': 2035, 'superman': 4301, 'scientific': 3817, 'intellectual': 2312, 'blonde': 511, 'greek': 1970, 'tarzan': 4367, 'heston': 2094, 'albeit': 173, 'accept': 80, 'stretch': 4221, 'possibly': 3351, 'construction': 960, 'lawyer': 2541, 'horribly': 2164, 'happily': 2030, 'fare': 1655, 'menace': 2806, 'captain': 674, 'walker': 4778, 'accents': 79, 'scottish': 3825, 'relation': 3595, 'considering': 952, 'pool': 3327, 'gold': 1932, 'deadly': 1133, 'discover': 1279, '60s': 54, 'figures': 1713, 'comical': 894, 'purely': 3472, 'faced': 1617, 'post': 3352, 'dust': 1388, 'blacks': 494, 'philip': 3252, 'unintentional': 4658, 'paper': 3183, 'mundane': 2938, 'raise': 3507, 'anderson': 227, 'pulling': 3463, 'la': 2500, 'fred': 1825, 'superhero': 4299, 'opportunities': 3120, 'enemy': 1477, 'promised': 3431, 'extra': 1606, 'create': 1036, 'odd': 3080, 'anna': 245, 'tough': 4537, 'add': 115, 'brilliance': 582, 'project': 3427, 'impact': 2244, 'ellen': 1446, 'musicals': 2948, 'glorious': 1921, 'charles': 764, 'bill': 481, 'greedy': 1969, 'solely': 4056, 'costumes': 1006, 'multi': 2935, 'winner': 4897, 'massive': 2756, 'worthy': 4956, 'eight': 1436, 'collection': 874, 'internet': 2327, 'purchased': 3470, 'sellers': 3872, 'claim': 828, 'advance': 127, 'discuss': 1283, 'chris': 806, 'desert': 1198, 'noise': 3024, 'disturbed': 1299, 'bat': 410, 'tour': 4538, 'cave': 727, 'attacks': 339, 'resort': 3650, 'angry': 238, 'drink': 1361, 'treatment': 4574, '1999': 27, 'rated': 3527, 'helen': 2075, 'shocking': 3940, 'stylish': 4251, 'sophisticated': 4075, 'exploitation': 1592, 'curtis': 1087, 'henry': 2084, 'charlotte': 766, 'charge': 761, 'genres': 1889, 'horrific': 2166, 'religion': 3607, 'reynolds': 3684, 'shelley': 3928, 'winters': 4901, 'california': 650, 'herself': 2092, 'environment': 1505, 'continues': 971, 'sink': 3999, 'paranoia': 3186, 'radio': 3504, 'fears': 1677, 'committed': 905, 'develops': 1226, 'paced': 3162, 'extended': 1604, 'unpredictable': 4675, 'freddy': 1826, 'myers': 2952, 'combined': 885, 'gruesome': 1986, 'genuine': 1891, 'designs': 1204, 'nominated': 3025, 'wrap': 4963, 'quiet': 3492, 'anthony': 253, 'rings': 3699, 'russian': 3762, 'curse': 1086, 'namely': 2962, 'endings': 1472, 'creators': 1044, 'horrid': 2165, 'randomly': 3515, 'continuity': 972, 'flashback': 1746, 'stephen': 4176, 'beer': 439, 'praise': 3364, 'lived': 2626, 'plain': 3286, 'realize': 3552, 'virtually': 4751, 'ginger': 1908, 'formula': 1802, 'excited': 1561, 'endure': 1475, 'hopefully': 2157, 'exists': 1573, 'grab': 1949, 'twelve': 4611, 'bud': 607, 'subplots': 4256, 'cheese': 780, 'juvenile': 2441, 'regarding': 3589, 'legal': 2563, 'system': 4345, 'ease': 1404, 'chances': 748, 'appealing': 272, 'overcome': 3151, 'faults': 1669, 'months': 2897, 'trailers': 4555, 'weeks': 4839, 'learns': 2553, 'sudden': 4272, 'messages': 2820, 'reaching': 3539, 'helping': 2081, 'exact': 1550, 'threatening': 4468, 'tune': 4602, 'forgettable': 1794, 'aspects': 322, 'throat': 4476, 'blown': 516, 'opposite': 3123, 'ghosts': 1903, 'burton': 630, 'signed': 3971, 'produce': 3413, 'losing': 2658, 'hollow': 2135, 'waited': 4771, 'hadnt': 2004, 'successfully': 4267, 'neil': 2995, 'length': 2569, 'confusing': 942, 'disjointed': 1287, 'doll': 1313, 'robots': 3718, 'robot': 3717, 'causing': 726, 'destruction': 1216, 'logical': 2639, 'retarded': 3663, 'creature': 1045, 'kidding': 2465, 'iii': 2227, 'scientist': 3818, 'protect': 3443, 'mentions': 2813, 'rushed': 3760, 'annoyed': 248, 'source': 4086, 'stay': 4166, 'vicious': 4728, 'bay': 416, 'trio': 4587, 'storm': 4206, 'gentle': 1890, 'rescue': 3643, 'capturing': 679, 'rural': 3758, 'drawing': 1350, 'developing': 1224, 'sappy': 3784, 'adorable': 124, 'ann': 244, 'island': 2361, 'mom': 2885, 'support': 4303, 'displays': 1293, 'civilization': 827, 'wonderfully': 4929, 'players': 3299, 'cry': 1073, 'witty': 4917, 'morgan': 2905, 'tracy': 4546, 'worker': 4942, 'souls': 4080, 'research': 3644, 'whereas': 4865, 'translation': 4562, 'deeply': 1156, 'authentic': 358, 'empathy': 1462, 'incident': 2260, 'involvement': 2347, 'beloved': 461, 'caused': 724, 'decision': 1151, 'guilt': 1994, 'suicide': 4283, 'presence': 3373, 'gods': 1928, 'according': 88, 'bible': 477, 'destroyed': 1214, 'physically': 3263, 'freeman': 1829, 'burns': 628, 'bore': 540, 'carrey': 696, 'sorts': 4078, 'wannabe': 4787, 'frustrated': 1842, 'rolling': 3730, 'tends': 4402, 'study': 4242, 'drives': 1367, 'tragic': 4552, 'spare': 4093, 'build': 614, 'dream': 1354, 'brought': 600, 'stand': 4143, 'dave': 1123, 'lesson': 2577, 'seasons': 3844, 'improvement': 2256, 'bob': 524, '1980s': 21, 'solid': 4057, 'susan': 4326, 'outrageous': 3145, 'arguably': 289, 'consistently': 954, 'tongue': 4518, 'cheek': 779, 'rocky': 3723, 'teenagers': 4391, 'ad': 110, 'cruise': 1071, 'interpretation': 2328, 'broad': 590, 'scarecrow': 3804, 'amazingly': 210, 'greater': 1965, 'montage': 2894, 'facial': 1619, 'combine': 884, 'godfather': 1927, 'nomination': 3026, 'stolen': 4195, 'martin': 2748, 'sequels': 3886, 'installment': 2303, 'rage': 3505, 'considered': 951, 'entry': 1504, 'saga': 3773, 'directly': 1263, 'empire': 1464, 'strikes': 4225, 'appreciated': 280, 'negative': 2991, 'thrilling': 4474, 'changes': 751, 'relative': 3599, 'carrie': 697, 'fisher': 1739, 'outfit': 3144, 'lone': 2642, 'trilogy': 4586, 'vengeance': 4719, 'infamous': 2284, 'arrives': 302, 'results': 3662, 'bath': 411, 'packed': 3166, 'mouse': 2919, 'abuse': 74, 'stays': 4169, 'shed': 3924, 'routine': 3743, 'explicit': 1591, 'backgrounds': 381, 'trained': 4557, 'model': 2880, 'prepared': 3371, 'heads': 2059, 'crush': 1072, 'mentally': 2809, 'effectively': 1430, 'enemies': 1476, 'unforgettable': 4652, 'inevitable': 2282, 'survival': 4320, 'convince': 983, 'understanding': 4645, 'influence': 2286, 'sentimental': 3882, 'repeated': 3631, 'decades': 1145, 'nostalgic': 3039, 'unintentionally': 4659, 'pilot': 3276, 'ocean': 3079, 'muslim': 2949, 'sexuality': 3909, 'miles': 2843, 'removed': 3624, 'wendy': 4846, 'upper': 4685, 'stinker': 4191, 'beating': 425, 'hunting': 2201, 'sheer': 3925, 'tiny': 4500, 'starred': 4153, 'nights': 3016, 'handful': 2017, 'guest': 1992, 'laura': 2536, 'display': 1291, 'dr': 1340, 'university': 4667, 'theory': 4437, 'block': 508, 'detailed': 1218, 'stopped': 4202, 'needless': 2989, 'mentioned': 2811, 'connected': 945, 'needs': 2990, 'phantom': 3251, 'protagonist': 3441, 'scares': 3806, 'excitement': 1562, 'loads': 2633, 'lousy': 2667, 'skip': 4016, 'pig': 3274, 'singers': 3994, 'general': 1880, 'shakespeare': 3915, 'sally': 3776, 'asleep': 320, 'walk': 4775, 'mine': 2853, 'competition': 918, 'prime': 3395, 'jeremy': 2394, 'host': 2173, 'convinced': 984, 'understandable': 4644, 'drivel': 1364, 'reaction': 3541, 'distinct': 1296, 'helped': 2080, 'originally': 3131, 'performers': 3232, 'curiosity': 1082, 'aired': 165, 'demand': 1174, 'ah': 158, 'ha': 2002, 'tonight': 4519, 'quote': 3496, 'flawed': 1750, 'pleasure': 3306, 'brazil': 568, 'minimal': 2855, 'fay': 1674, 'grim': 1974, 'arrived': 301, 'assume': 328, 'youve': 4995, 'explain': 1586, 'parker': 3191, 'thomas': 4458, 'jay': 2386, 'ryan': 3765, 'simon': 3982, 'jail': 2376, 'toy': 4542, 'explains': 1589, 'impressed': 2251, 'hal': 2006, 'accomplished': 87, 'reach': 3536, 'portray': 3340, 'maintain': 2710, 'photographed': 3258, 'bang': 393, 'petty': 3249, 'youth': 4994, 'disappeared': 1271, 'slick': 4026, 'keeping': 2450, 'hip': 2114, 'dracula': 1341, 'staying': 4168, 'traditional': 4550, 'darkness': 1117, 'halfway': 2008, 'wes': 4851, 'patrick': 3213, 'polished': 3323, 'achieved': 93, 'virgin': 4749, 'advertising': 132, 'numerous': 3062, 'shots': 3950, 'tunes': 4603, 'sean': 3840, 'west': 4852, 'gerard': 1895, 'satisfying': 3791, 'ken': 2453, 'spoof': 4127, 'funnier': 1850, 'gag': 1861, 'cringe': 1059, 'oddly': 3081, 'dated': 1119, 'tied': 4489, 'dubbed': 1379, 'appearing': 277, 'trail': 4553, 'pathetic': 3210, 'fever': 1699, 'bleak': 503, 'drew': 1360, 'lonely': 2643, 'field': 1704, 'frequently': 1832, 'trap': 4563, 'poetic': 3313, 'section': 3853, 'exceptionally': 1559, 'rose': 3739, 'creates': 1038, 'backdrop': 379, 'symbolism': 4341, 'enjoys': 1489, 'tear': 4379, 'overlook': 3153, 'wished': 4905, 'creating': 1039, 'ride': 3692, 'context': 968, 'provides': 3450, 'expectations': 1576, 'ability': 65, 'outside': 3146, 'sticks': 4186, 'satisfied': 3789, 'balance': 387, 'emotions': 1461, 'eccentric': 1414, 'eric': 1514, 'roberts': 3714, 'weapons': 4829, 'introduction': 2339, 'ensemble': 1492, 'loyal': 2679, 'mask': 2752, 'freak': 1824, 'theyve': 4446, 'vision': 4754, 'illegal': 2229, 'enter': 1494, 'europe': 1529, 'frequent': 1831, 'enters': 1496, 'portrays': 3344, 'building': 615, 'spin': 4112, 'limited': 2606, 'blockbuster': 509, 'turning': 4608, 'hysterical': 2208, 'laughter': 2535, 'delivery': 1173, 'overrated': 3156, 'saturday': 3792, 'ship': 3934, 'primary': 3394, 'racial': 3501, 'underlying': 4641, 'triumph': 4590, 'focusing': 1769, 'navy': 2976, 'racism': 3502, 'directions': 1262, 'demon': 1177, 'tribute': 4581, 'porno': 3337, 'excessive': 1560, 'knock': 2488, 'feet': 1688, 'site': 4005, 'relatively': 3600, 'blue': 518, 'sea': 3838, 'execution': 1566, 'victim': 4729, 'lane': 2515, 'larger': 2519, 'secrets': 3852, 'decade': 1144, 'providing': 3451, 'nightmares': 3015, 'flaw': 1749, 'surrounding': 4319, 'guard': 1988, 'costs': 1004, 'con': 928, 'serves': 3895, 'advise': 134, 'recognize': 3569, 'icon': 2211, 'kane': 2442, 'creatures': 1046, 'depicting': 1184, 'league': 2549, 'wood': 4933, 'uwe': 4703, 'boll': 529, 'choreographed': 801, 'sun': 4292, 'screenwriter': 3833, 'dragon': 1344, 'couldve': 1009, 'todd': 4510, 'complicated': 925, 'government': 1948, 'experiment': 1583, 'featured': 1679, 'idiotic': 2219, 'fail': 1625, 'strictly': 4223, 'sympathetic': 4342, 'fairly': 1631, 'dialog': 1232, 'borrowed': 545, 'kubrick': 2496, 'iraq': 2351, 'classical': 836, 'sensitive': 3879, 'signs': 3973, 'desire': 1205, 'intent': 2318, 'orange': 3125, 'superior': 4300, 'liking': 2604, 'moronic': 2907, 'easier': 1405, 'akshay': 169, 'influenced': 2287, 'matrix': 2767, 'seventies': 3904, 'soldier': 4053, 'dances': 1106, 'hunt': 2198, 'convey': 982, 'fields': 1705, 'horrifying': 2167, 'compare': 911, 'lynch': 2691, 'widmark': 4882, 'similarly': 3980, 'false': 1641, 'reasonably': 3559, 'commercial': 902, 'flop': 1760, 'dreary': 1356, 'heroine': 2091, 'anne': 246, 'lovely': 2671, 'hidden': 2096, 'pays': 3218, 'exposed': 1598, '2007': 37, 'wealth': 4826, 'stanley': 4148, 'throwing': 4480, 'africa': 141, 'depicts': 1186, 'rule': 3753, 'emphasis': 1463, 'traveling': 4568, 'official': 3094, 'friendship': 1838, 'de': 1131, 'household': 2179, 'familys': 1646, 'sexually': 3910, 'image': 2233, 'interaction': 2322, 'beneath': 464, 'spite': 4117, 'stands': 4147, 'command': 897, 'land': 2511, 'nearby': 2980, 'mountains': 2918, 'wealthy': 4827, 'coffee': 870, 'mistress': 2874, 'hiding': 2099, 'jean': 2389, 'arrogant': 303, 'simplistic': 3985, 'roger': 3724, 'holding': 2130, 'citizen': 824, 'survivors': 4325, 'useful': 4694, 'asking': 318, 'guarantee': 1987, 'sign': 3970, 'teen': 4388, 'match': 2762, 'inevitably': 2283, 'crappy': 1032, 'court': 1020, 'below': 462, 'soap': 4047, 'opera': 3116, 'fx': 1858, 'kevin': 2457, 'return': 3665, 'opinions': 3119, 'bet': 470, 'females': 1694, 'vote': 4766, 'science': 3816, 'fiction': 1702, 'kicking': 2462, 'butt': 638, 'anime': 243, 'eighties': 1437, 'jeffrey': 2391, 'imagery': 2234, 'remaining': 3610, 'survivor': 4324, 'bloody': 513, 'corpse': 999, 'offered': 3088, 'peace': 3219, 'revelation': 3674, 'carpenter': 694, 'daniel': 1111, 'craig': 1030, 'reflect': 3584, '60': 53, 'advanced': 128, 'affair': 135, 'catherine': 719, 'ready': 3546, 'foul': 1810, 'touches': 4535, 'fond': 1776, 'presentation': 3375, 'scrooge': 3837, 'visits': 4756, 'carol': 693, 'strangers': 4214, 'bush': 632, 'questionable': 3488, 'homeless': 2143, 'striking': 4226, 'frankenstein': 1822, 'week': 4837, 'portrait': 3339, 'mighty': 2836, 'sin': 3988, 'status': 4165, 'testament': 4417, 'lion': 2614, 'faithful': 1634, 'warriors': 4803, 'evening': 1534, 'neighborhood': 2993, 'refreshing': 3586, 'unhappy': 4656, 'intentions': 2321, 'consequences': 947, 'threat': 4467, 'lord': 2652, 'pregnant': 3369, 'law': 2538, 'sends': 3876, 'send': 3875, 'birth': 486, 'blame': 499, 'plight': 3308, 'integrity': 2311, 'greed': 1968, 'francis': 1818, 'punishment': 3467, '45': 50, 'spoken': 4126, 'jazz': 2387, 'unseen': 4678, 'string': 4227, 'broadway': 592, 'jackson': 2375, 'eddie': 1416, 'murphy': 2944, 'brown': 601, 'cgi': 740, 'hat': 2045, 'gotta': 1946, 'mistaken': 2872, 'wayne': 4821, 'texas': 4418, 'double': 1331, 'forth': 1804, 'dennis': 1179, 'hopper': 2161, 'flynn': 1765, 'nonetheless': 3029, 'scores': 3823, 'ford': 1789, 'paying': 3217, 'punk': 3468, 'ball': 388, 'presents': 3377, 'twilight': 4614, 'zone': 4999, 'techniques': 4384, 'minor': 2857, 'elsewhere': 1449, 'provide': 3448, 'powers': 3361, 'stretched': 4222, 'considerable': 950, '2006': 36, 'draws': 1352, 'segment': 3867, 'latin': 2527, 'mail': 2706, 'visit': 4755, 'ideal': 2214, 'tiresome': 4502, 'terms': 4406, 'teachers': 4376, 'doctors': 1305, 'monsters': 2893, 'horrors': 2169, 'daily': 1097, 'report': 3635, 'centered': 733, 'strike': 4224, 'reviews': 3679, 'stage': 4139, 'showed': 3956, 'promise': 3430, 'immensely': 2243, 'psychotic': 3459, 'peters': 3248, 'communist': 907, 'sneak': 4043, 'theyll': 4444, 'succeed': 4262, 'link': 2613, 'steal': 4170, 'fbi': 1675, 'gripping': 1976, 'finish': 1732, 'ritter': 3705, 'square': 4136, 'mouth': 2920, 'subsequent': 4257, 'monkey': 2890, 'cutting': 1092, 'comparing': 913, 'inspiration': 2300, 'worthless': 4954, 'sitting': 4007, 'wishing': 4907, 'writes': 4970, 'wears': 4832, 'shirt': 3937, 'perform': 3227, 'picking': 3267, 'reads': 3545, 'wrestling': 4966, 'talks': 4361, 'suffered': 4276, 'doctor': 1304, 'education': 1424, 'separate': 3883, 'domestic': 1318, 'realizes': 3554, 'abusive': 75, 'grow': 1982, 'confidence': 938, 'network': 3000, 'stress': 4220, 'larry': 2520, 'deceased': 1146, 'reveals': 3673, 'stops': 4203, 'climactic': 848, 'issue': 2364, 'instinct': 2308, 'danger': 1109, 'furthermore': 1854, 'valuable': 4708, 'sci': 3815, 'fi': 1701, 'crash': 1033, 'matches': 2764, 'built': 618, '1972': 18, 'warm': 4794, 'irony': 2357, 'rabbit': 3498, 'issues': 2365, '40s': 49, 'civil': 826, 'stiller': 4189, 'macy': 2695, 'bruce': 602, 'visually': 4758, 'los': 2653, 'dangerous': 1110, 'steps': 4177, 'glover': 1923, 'dire': 1257, 'smaller': 4034, 'details': 1219, 'helicopter': 2076, 'bridge': 578, 'flow': 1762, 'lawrence': 2539, 'created': 1037, 'alas': 172, 'wouldve': 4959, 'steve': 4181, 'davis': 1126, '13': 4, 'acid': 95, 'duo': 1386, 'edition': 1422, 'murderer': 2941, 'occasional': 3074, 'cg': 739, 'maker': 2714, 'parties': 3196, 'accidentally': 85, 'resembles': 3646, 'rush': 3759, 'trademark': 4548, 'standards': 4145, 'matthew': 2772, 'vhs': 4725, 'believes': 456, 'accused': 91, 'band': 391, 'information': 2288, 'howard': 2182, 'matters': 2770, 'bacall': 377, 'fresh': 1833, 'westerns': 4854, 'bought': 552, 'bucks': 606, 'hello': 2078, 'nervous': 2999, 'bugs': 613, 'disney': 1289, 'julia': 2427, 'brian': 576, 'al': 170, 'pacino': 3164, 'tony': 4521, 'montana': 2895, 'peoples': 3222, 'pan': 3180, 'screams': 3828, 'heat': 2067, 'dealing': 1136, 'womans': 4922, 'sexy': 3911, 'motivation': 2914, 'professor': 3422, 'blowing': 515, 'dropping': 1371, 'allow': 189, 'mill': 2845, 'allows': 192, 'broke': 593, 'summary': 4290, 'famous': 1647, 'hardcore': 2034, 'couples': 1017, 'welles': 4844, 'ms': 2931, '1990s': 25, 'month': 2896, 'fate': 1665, 'blunt': 520, 'interview': 2329, 'contrast': 975, 'covered': 1023, 'lou': 2663, 'rob': 3710, 'robbery': 3711, 'therefore': 4439, 'ps': 3453, 'proceedings': 3410, 'unlikely': 4671, 'precious': 3366, 'listed': 2618, 'mid': 2832, '50s': 52, 'sings': 3997, 'trouble': 4592, 'chicago': 785, 'web': 4833, 'artists': 309, 'clues': 865, 'category': 718, 'definition': 1163, 'ted': 4386, 'airplane': 166, 'thrills': 4475, 'jon': 2416, 'voight': 4764, 'represents': 3639, 'proof': 3434, 'psychological': 3458, 'analysis': 224, 'psycho': 3457, 'strongly': 4231, 'minded': 2850, 'destroy': 1213, 'troubled': 4593, 'silver': 3977, 'neck': 2985, 'apartment': 265, 'brooklyn': 595, 'heights': 2073, 'rental': 3627, 'agrees': 157, 'elderly': 1440, 'welcome': 4842, 'mental': 2808, 'basis': 408, 'courage': 1018, 'knife': 2487, 'defense': 1159, 'investigate': 2342, 'garden': 1872, 'devil': 1228, 'invisible': 2344, 'neighbors': 2994, 'competent': 917, 'beast': 422, 'sue': 4274, 'elaborate': 1439, 'awfully': 373, 'ass': 323, 'graphic': 1958, 'willing': 4889, 'rape': 3521, 'witnessed': 4915, 'intimate': 2331, 'cinderella': 815, 'superficial': 4298, 'nations': 2971, 'path': 3209, 'directorial': 1265, 'denzel': 1181, 'washington': 4806, 'haunted': 2050, 'hed': 2072, 'failing': 1627, 'overdone': 3152, 'bull': 619, 'starting': 4158, 'water': 4816, 'ships': 3935, 'faster': 1662, 'meaningful': 2781, 'props': 3439, 'appreciation': 281, 'jaws': 2385, 'whale': 4857, 'alright': 198, 'exaggerated': 1552, 'forty': 1807, 'recognized': 3570, 'shark': 3921, 'fortunately': 1805, 'hype': 2207, 'marketing': 2741, 'purposes': 3475, 'contrived': 976, 'remarks': 3615, 'clown': 862, 'massacre': 2754, 'synopsis': 4344, 'remote': 3622, 'cabin': 643, 'began': 441, 'disappear': 1270, 'replaced': 3634, 'fest': 1696, 'circle': 821, 'differences': 1247, 'lying': 2690, 'mars': 2746, 'doom': 1326, 'panic': 3181, 'medium': 2792, 'pie': 3271, 'snl': 4044, 'williams': 4888, 'bears': 421, 'pretend': 3381, 'depth': 1190, 'kay': 2447, 'caring': 691, 'demons': 1178, 'nick': 3012, 'listening': 2620, 'simplicity': 3984, 'daughters': 1122, 'gift': 1906, 'background': 380, 'expression': 1602, 'ought': 3138, 'bourne': 554, 'entertained': 1498, 'earned': 1401, 'constructed': 959, 'structure': 4233, 'concern': 931, 'arrested': 298, 'meeting': 2794, 'load': 2631, 'gangsters': 1869, 'figured': 1712, 'johnson': 2411, 'blow': 514, 'challenge': 743, 'widely': 4881, 'team': 4378, 'ramones': 3512, 'concert': 935, 'stupidity': 4248, 'boredom': 542, 'unwatchable': 4682, 'principal': 3398, 'vincent': 4746, 'connect': 944, 'kate': 2446, 'instant': 2305, 'pg': 3250, 'affected': 137, 'brosnan': 597, 'mexico': 2827, 'sunday': 4293, 'lively': 2627, 'usa': 4691, 'marty': 2749, 'goldberg': 1933, 'african': 142, 'husbands': 2205, 'friendly': 1836, 'victoria': 4732, 'manipulative': 2727, 'danes': 1108, 'cox': 1026, 'boxing': 556, 'hitting': 2126, 'angle': 236, 'clip': 851, 'topic': 4526, 'timeless': 4496, 'holly': 2136, 'manhattan': 2726, 'author': 359, 'apes': 267, 'exotic': 1574, 'guilty': 1995, 'feed': 1683, 'asian': 314, 'severe': 3906, 'ego': 1435, 'generations': 1884, 'chose': 804, 'receive': 3563, 'method': 2824, 'mentioning': 2812, 'moon': 2900, 'talked': 4359, 'rising': 3703, 'stole': 4194, 'met': 2822, 'possessed': 3347, 'destroying': 1215, 'priceless': 3390, 'accurate': 90, 'consists': 955, 'aliens': 184, 'flawless': 1751, 'turner': 4607, 'freedom': 1828, 'distracting': 1297, 'attend': 344, 'tales': 4357, 'print': 3399, 'village': 4743, 'anger': 235, 'letter': 2581, 'claims': 830, 'semi': 3874, 'lie': 2590, 'lucky': 2683, 'maria': 2736, 'extraordinary': 1607, 'border': 539, 'unexpected': 4650, 'afterwards': 145, 'wholly': 4874, 'exercise': 1568, 'grows': 1985, 'mst3k': 2932, 'forgive': 1795, 'dedicated': 1153, 'revolution': 3680, 'documentaries': 1306, 'aids': 161, 'medical': 2790, 'heck': 2071, 'wore': 4939, 'illness': 2230, 'hunter': 2199, 'marry': 2745, 'grandmother': 1955, 'roy': 3745, 'historical': 2119, 'fictional': 1703, 'wallace': 4782, 'improve': 2254, 'alan': 171, 'sleazy': 4023, 'factor': 1622, 'rival': 3706, 'charismatic': 763, 'unaware': 4632, 'betty': 474, 'resulting': 3661, 'brutally': 604, 'raped': 3522, 'captivating': 675, 'lewis': 2586, 'brenda': 575, 'teens': 4392, 'dramas': 1347, 'whenever': 4863, 'recording': 3575, 'drunk': 1375, 'oscars': 3134, 'colour': 880, 'stellar': 4174, 'photos': 3261, 'headed': 2058, 'flight': 1757, 'lisa': 2616, 'plausible': 3295, 'struck': 4232, 'rachel': 3500, 'craven': 1034, 'australian': 357, 'ninja': 3018, 'chuck': 812, 'colonel': 876, 'shine': 3931, 'soviet': 4089, 'union': 4661, 'edited': 1420, '2000': 30, 'feminist': 1695, 'idiots': 2220, 'screening': 3830, 'adds': 119, 'opposed': 3122, 'silence': 3974, 'castle': 712, 'purchase': 3469, 'trashy': 4566, 'experiments': 1584, 'miserable': 2863, 'suffer': 4275, 'tad': 4347, 'warming': 4795, 'baseball': 403, 'angels': 234, 'joseph': 2419, 'tall': 4362, 'gray': 1963, 'artificial': 306, 'overacting': 3149, 'sentence': 3881, 'russell': 3761, 'smiling': 4037, 'teaching': 4377, 'columbo': 881, 'fault': 1668, 'bright': 581, 'ham': 2011, 'credible': 1048, 'broadcast': 591, 'lol': 2640, 'andy': 230, 'nuts': 3064, 'vehicle': 4718, 'rough': 3741, 'planning': 3291, 'marks': 2742, 'judging': 2425, 'born': 544, 'joan': 2404, 'albert': 174, 'imagined': 2239, 'punch': 3466, 'highlight': 2103, 'equal': 1509, 'louis': 2665, 'indians': 2275, 'gain': 1863, 'hamilton': 2012, 'robinson': 3716, 'wing': 4896, 'roots': 3738, 'base': 402, 'bo': 521, 'sidney': 3968, 'lumet': 2688, '20th': 38, 'someones': 4065, 'misery': 2865, 'selfish': 3870, 'serving': 3897, 'hoffman': 2128, 'executive': 1567, 'descent': 1193, 'calm': 655, 'scheme': 3812, 'chief': 788, 'root': 3737, 'wasting': 4810, 'captured': 677, 'vice': 4727, 'mrs': 2930, 'selling': 3873, 'lazy': 2543, 'hook': 2152, 'hollywoods': 2138, 'titled': 4505, 'training': 4558, 'stock': 4193, 'fighter': 1708, 'guns': 1998, 'fatal': 1664, 'shadows': 3913, 'jaw': 2384, 'unit': 4663, 'veteran': 4724, 'cameron': 661, 'madness': 2698, 'bottle': 550, 'ruined': 3751, 'reel': 3581, 'showcase': 3954, 'slave': 4022, 'clumsy': 866, 'button': 639, 'willis': 4890, 'virus': 4752, 'terry': 4415, 'brad': 560, 'pitt': 3280, 'wanna': 4786, 'magazine': 2701, 'lust': 2689, 'unfolds': 4651, 'choices': 798, 'justify': 2439, 'rex': 3683, 'buddy': 609, 'dinosaur': 1255, 'futuristic': 1857, 'dinosaurs': 1256, 'technology': 4385, 'awake': 365, 'caliber': 649, 'stated': 4161, 'affect': 136, 'investigation': 2343, 'neo': 2998, 'nicholson': 3011, 'alongside': 196, 'victor': 4731, 'seagal': 3839, 'warrior': 4802, 'jamie': 2379, 'taught': 4370, 'bettie': 473, 'pages': 3168, 'page': 3167, '3rd': 47, '30s': 44, 'transfer': 4559, 'brady': 561, 'solution': 4059, 'expert': 1585, 'performing': 3233, 'groups': 1981, 'cuts': 1091, 'crack': 1027, 'convincingly': 986, 'molly': 2884, 'landing': 2512, 'resources': 3651, 'user': 4696, 'argue': 290, 'board': 522, 'criminals': 1058, 'commentary': 899, 'lasted': 2522, 'recall': 3562, 'generated': 1882, 'hired': 2117, 'dean': 1139, 'leg': 2562, 'atrocious': 335, 'kingdom': 2480, 'swim': 4337, 'driven': 1365, 'granted': 1957, 'catches': 715, 'andrew': 228, 'diane': 1238, 'regard': 3588, 'suggests': 4282, 'consistent': 953, 'kurt': 2499, 'iron': 2354, 'edward': 1426, 'hanging': 2023, 'beatty': 427, 'cards': 683, 'elvira': 1450, 'von': 4765, 'carefully': 689, 'blend': 504, 'lena': 2568, 'prisoners': 3403, 'parallel': 3185, 'credibility': 1047, 'stinks': 4192, 'ignored': 2225, 'quit': 3494, 'overly': 3155, 'senseless': 3878, 'desperate': 1208, 'established': 1524, 'relatives': 3601, 'technically': 4382, 'shirley': 3936, '1933': 12, 'heaven': 2068, 'diana': 1237, 'barry': 401, 'hardy': 2037, 'succeeded': 4263, 'cruel': 1070, 'becoming': 435, 'personalities': 3241, 'trade': 4547, 'troops': 4591, 'amazed': 208, 'beach': 419, 'worried': 4949, 'eyed': 1612, 'hamlet': 2013, 'wedding': 4836, 'initially': 2291, 'continued': 970, 'fix': 1744, 'countryside': 1015, 'farm': 1656, 'regardless': 3590, 'warn': 4797, 'letters': 2582, 'introduced': 2337, 'margaret': 2735, 'carl': 692, 'jesus': 2399, 'christ': 807, 'closet': 858, 'embarrassing': 1454, 'unpleasant': 4674, 'deserve': 1199, 'mickey': 2831, 'subtlety': 4261, 'ring': 3698, 'craft': 1028, 'jet': 2400, 'li': 2587, 'sole': 4055, 'grey': 1973, 'attitudes': 347, 'drag': 1342, 'hop': 2154, 'wondered': 4927, 'formulaic': 1803, 'quotes': 3497, 'invasion': 2340, 'slap': 4018, 'lengthy': 2570, 'adequate': 120, 'meaningless': 2782, 'species': 4098, 'cannibal': 669, 'eaten': 1412, 'breasts': 572, 'rubber': 3747, 'alert': 178, 'monkeys': 2891, 'vacation': 4704, 'reminds': 3620, 'sinatra': 3989, 'southern': 4088, 'harvey': 2042, 'der': 1191, 'et': 1526, 'dub': 1378, 'fury': 1855, 'mel': 2796, 'lucy': 2684, 'rights': 3697, 'counter': 1011, 'code': 869, 'bette': 471, 'mildred': 2841, 'rogers': 3725, 'promises': 3432, 'shell': 3927, 'march': 2734, 'conventional': 979, 'imaginative': 2237, 'hurts': 2203, 'bold': 528, 'gags': 1862, 'dropped': 1370, 'wonders': 4931, 'elizabeth': 1445, 'lovable': 2668, 'equipment': 1511, 'thrill': 4471, 'thousands': 4466, 'asks': 319, 'stilted': 4190, 'album': 175, 'tracks': 4545, 'newly': 3004, 'folk': 1770, 'nuclear': 3057, 'aid': 160, 'plant': 3293, 'viewings': 4741, 'wizard': 4919, 'bakshi': 386, 'leonard': 2572, 'pleased': 3305, 'mgm': 2828, 'businessman': 634, 'generic': 1885, 'combat': 882, 'hbo': 2055, 'disc': 1278, 'spiritual': 4116, 'treats': 4575, 'miller': 2846, 'gender': 1878, 'associated': 327, 'push': 3477, 'manager': 2724, 'carradine': 695, 'scientists': 3819, 'tiger': 4491, 'security': 3854, 'attacked': 338, 'cliff': 847, 'sunshine': 4294, 'describe': 1194, 'jenny': 2393, '2nd': 41, 'showdown': 3955, 'hundreds': 2196, 'scare': 3803, 'kidnapped': 2466, 'remotely': 3623, 'basketball': 409, 'weakest': 4825, 'pushed': 3478, 'divorce': 1301, 'satan': 3787, 'north': 3036, '3d': 46, 'buying': 641, 'spielberg': 4110, 'test': 4416, 'composed': 926, 'earl': 1398, 'alien': 183, 'melodramatic': 2798, 'museum': 2945, 'laughably': 2531, 'cia': 814, 'lit': 2621, 'unbelievably': 4635, 'elm': 1447, 'lights': 2597, 'succeeds': 4264, 'annie': 247, 'mindless': 2851, 'struggles': 4235, 'redemption': 3578, 'honesty': 2148, 'respected': 3653, 'department': 1182, 'jake': 2377, 'miracle': 2860, 'incompetent': 2266, 'conceived': 929, 'chaos': 755, 'crucial': 1068, 'damage': 1099, 'simpson': 3987, 'recognition': 3568, 'streep': 4215, 'spike': 4111, 'bands': 392, 'babe': 375, 'buck': 605, 'cowboy': 1025, 'argument': 291, 'bird': 484, 'reporter': 3636, 'prequel': 3372, 'placed': 3283, 'merits': 2817, 'measure': 2786, 'sloppy': 4030, 'corner': 996, 'models': 2881, 'taylor': 4372, 'reviewer': 3677, 'japan': 2381, 'hence': 2083, 'banned': 395, 'dealt': 1138, 'derek': 1192, 'rolled': 3729, 'landscape': 2513, 'aged': 149, 'stranger': 4213, 'slight': 4027, 'lacked': 2503, 'hoped': 2156, 'current': 1084, 'complain': 919, 'methods': 2825, 'exposure': 1599, 'wear': 4830, 'fortune': 1806, 'patients': 3212, 'rick': 3689, 'reasonable': 3558, 'ticket': 4487, 'spending': 4106, 'mann': 2728, 'gifted': 1907, 'hudson': 2184, 'mitchell': 2875, 'contest': 967, 'dutch': 1389, 'joey': 2408, 'jesse': 2397, 'michelle': 2830, 'homer': 2144, 'text': 4419, 'vivid': 4760, 'subtitles': 4259, 'existed': 1570, 'kirk': 2482, 'douglas': 1334, 'walter': 4784, 'factory': 1623, 'alike': 185, 'surrounded': 4318, 'believed': 455, 'daddy': 1096, 'hideous': 2098, 'catchy': 717, 'impress': 2250, 'innocence': 2293, 'activities': 102, 'donna': 1323, 'norman': 3035, 'proceeds': 3411, 'distance': 1294, 'jewish': 2401, 'ian': 2209, 'widow': 4883, 'torn': 4528, 'masters': 2761, 'via': 4726, 'voiced': 4762, 'assault': 324, 'engaged': 1480, 'andrews': 229, 'homage': 2141, 'devoid': 1230, 'deaf': 1134, 'intention': 2319, 'cheating': 776, 'comics': 895, '1980': 20, 'provoking': 3452, 'intentionally': 2320, 'deliberately': 1166, 'eg': 1434, 'graphics': 1959, 'madonna': 2699, 'harris': 2038, 'transition': 4561, 'nelson': 2997, 'lay': 2542, 'rank': 3518, 'ridiculously': 3694, 'overwhelming': 3157, 'swedish': 4335, 'incoherent': 2265, 'yelling': 4980, 'pit': 3278, 'solo': 4058, 'restored': 3659, 'schools': 3814, 'laws': 2540, 'gas': 1874, 'morris': 2908, 'mile': 2842, 'directs': 1267, 'desperation': 1210, 'creativity': 1042, 'cure': 1081, 'st': 4137, 'rid': 3690, 'likewise': 2603, 'crisis': 1060, 'indie': 2276, 'amy': 222, 'retired': 3664, 'blond': 510, 'eager': 1396, 'blair': 497, 'tree': 4576, 'spanish': 4092, 'innovative': 2295, 'itll': 2369, 'uninspired': 4657, 'inducing': 2279, 'funeral': 1849, 'waves': 4819, 'pushing': 3479, 'grinch': 1975, 'antics': 255, 'distribution': 1298, 'explore': 1594, 'practice': 3363, 'reunion': 3669, 'plans': 3292, 'shelf': 3926, 'videos': 4734, 'kings': 2481, 'dressing': 1359, 'masses': 2755, 'dorothy': 1330, 'sandler': 3781, 'clark': 832, 'rambo': 3511, 'niro': 3019, 'smoking': 4040, 'ned': 2986, 'tag': 4348, 'cagney': 646, 'canada': 666, 'holiday': 2134, 'nazi': 2977, '3000': 43, 'believing': 457, 'accompanied': 86, 'gabriel': 1859, 'ties': 4490, 'swear': 4334, 'careful': 688, 'pet': 3246, 'builds': 617, 'cary': 706, 'grant': 1956, 'prostitute': 3440, 'motives': 2916, 'suggested': 4281, 'inspiring': 2302, 'machines': 2694, 'suits': 4287, 'warren': 4801, 'position': 3345, 'june': 2433, 'cup': 1080, 'caine': 647, 'similarities': 3979, 'walken': 4777, 'outcome': 3142, 'driving': 1368, 'kapoor': 2443, 'india': 2273, 'atlantis': 332, 'staff': 4138, 'landscapes': 2514, 'roman': 3731, 'visible': 4753, 'explored': 1595, 'hint': 2112, 'avoided': 364, 'dear': 1140, 'hilariously': 2107, 'defend': 1158, 'stood': 4199, 'target': 4366, 'luckily': 2682, 'conflicts': 940, 'highest': 2102, 'access': 83, 'belongs': 460, 'odds': 3082, 'alternate': 200, 'che': 773, 'cuba': 1075, 'del': 1165, 'september': 3884, '2001': 31, 'pursuit': 3476, 'virginia': 4750, 'florida': 1761, 'operation': 3117, 'movements': 2924, 'laurel': 2537, 'cole': 873, '75': 57, 'vampires': 4712, 'despair': 1207, 'seek': 3858, 'dubbing': 1380, 'powell': 3358, 'intrigue': 2333, 'orders': 3127, 'claimed': 829, 'substance': 4258, 'chess': 783, 'trek': 4578, 'ensues': 1493, 'mummy': 2937, 'stan': 4142, 'devoted': 1231, 'assigned': 325, 'piano': 3264, 'orson': 3132, 'unreal': 4676, 'philosophical': 3253, 'evident': 1547, 'ward': 4793, 'dawson': 1128, 'guessing': 1991, 'terrorists': 4414, 'cheated': 775, 'candy': 668, 'survived': 4322, 'dialogues': 1235, 'bride': 577, 'notes': 3046, 'unfortunate': 4653, 'degree': 1164, 'lesser': 2576, 'hart': 2041, 'audio': 354, 'careers': 687, 'witches': 4910, 'cities': 823, 'le': 2544, 'marie': 2737, 'astaire': 330, 'capital': 673, 'elegant': 1441, 'sullivan': 4288, 'baker': 385, 'fallen': 1638, 'confusion': 943, 'beaten': 424, 'dancers': 1105, 'thru': 4483, 'richards': 3687, 'sid': 3964, 'pink': 3277, 'rotten': 3740, 'karen': 2444, 'storytelling': 4209, 'satisfy': 3790, 'fifteen': 1706, 'isolated': 2363, 'swimming': 4338, 'hunters': 2200, 'gandhi': 1866, 'drunken': 1376, 'polanski': 3321, 'pot': 3354, 'lips': 2615, 'mayor': 2777, 'enjoyment': 1488, 'mafia': 2700, 'spooky': 4128, 'omen': 3104, 'matthau': 2771, 'arnold': 296, 'resemblance': 3645, 'eve': 1532, '17': 9, 'cameos': 658, 'map': 2733, 'ridden': 3691, 'shape': 3919, '2002': 32, 'editor': 1423, 'glenn': 1918, '1984': 23, 'compelled': 915, 'masterful': 2758, 'everyones': 1543, 'controversial': 978, 'spain': 4091, 'engage': 1479, 'flies': 1756, 'united': 4664, 'chooses': 800, 'mere': 2814, 'modesty': 2883, 'corporate': 998, 'brando': 566, 'frustration': 1843, 'charisma': 762, 'notorious': 3051, 'franco': 1820, 'nyc': 3065, 'hotel': 2175, 'wolf': 4920, 'sutherland': 4333, 'arrive': 300, 'blob': 507, 'poster': 3353, 'witness': 4914, 'portion': 3338, 'escaped': 1518, 'richardson': 3688, 'jonathan': 2417, 'obscure': 3068, 'relations': 3596, 'linda': 2609, 'seed': 3856, 'accepted': 82, 'depressed': 1187, 'fascinated': 1657, 'psychiatrist': 3455, 'hippie': 2115, 'complexity': 924, 'campbell': 663, 'travels': 4569, 'foster': 1809, 'gradually': 1952, 'da': 1094, 'explosions': 1597, 'inane': 2258, 'online': 3109, 'profound': 3423, 'website': 4834, 'buffs': 612, 'grasp': 1960, 'rangers': 3517, 'characterization': 759, 'dozens': 1339, 'stooges': 4200, 'performs': 3234, 'press': 3379, 'blah': 496, 'clint': 850, 'eastwood': 1409, 'shoes': 3941, 'contract': 973, 'bergman': 466, 'stunts': 4246, 'werewolf': 4850, 'smooth': 4041, 'tooth': 4524, 'winter': 4900, 'defined': 1160, 'exploration': 1593, 'cell': 730, 'closely': 855, 'cleverly': 842, 'generous': 1886, 'airport': 167, 'streisand': 4218, 'stones': 4198, 'mtv': 2933, 'global': 1920, 'ape': 266, 'loaded': 2632, 'miike': 2837, 'troubles': 4594, 'cinematographer': 819, 'fonda': 1777, 'gothic': 1945, 'disneys': 1290, 'stargate': 4151, 'belong': 459, 'represent': 3637, 'vegas': 4717, 'stevens': 4183, 'abc': 63, 'painted': 3174, 'enterprise': 1495, 'crocodile': 1065, 'literature': 2623, 'valley': 4707, 'ruby': 3749, 'pearl': 3220, 'tomatoes': 4515, 'ashley': 313, 'nancy': 2964, 'emma': 1457, '1940s': 13, 'jumped': 2430, 'khan': 2459, 'unoriginal': 4673, 'afford': 138, 'justin': 2440, 'buddies': 608, 'steel': 4173, 'minimum': 2856, 'pseudo': 3454, 'gundam': 1997, 'conservative': 948, 'ruth': 3763, 'universal': 4665, 'paltrow': 3178, 'prisoner': 3402, 'prom': 3429, 'lily': 2605, 'wacky': 4769, 'championship': 745, 'christians': 809, 'domino': 1319, 'mario': 2738, 'hopeless': 2158, 'ruins': 3752, 'hyde': 2206, 'branagh': 564, 'melting': 2799, 'ears': 1402, 'abraham': 69, 'lincoln': 2608, 'sadness': 3770, 'rocket': 3721, 'gadget': 1860, 'paulie': 3215, 'oz': 3160, 'wounded': 4961, 'hugh': 2186, 'stanwyck': 4149}\n"
     ]
    }
   ],
   "source": [
    "print(str(vocabulary))"
   ]
  },
  {
   "cell_type": "markdown",
   "metadata": {},
   "source": [
    "Once you have added the endpoint name to the Lambda function, click on **Save**. Your Lambda function is now up and running. Next we need to create a way for our web app to execute the Lambda function."
   ]
  },
  {
   "cell_type": "markdown",
   "metadata": {},
   "source": [
    "### Setting up API Gateway\n",
    "\n",
    "Now that our Lambda function is set up, it is time to create a new API using API Gateway that will trigger the Lambda function we have just created.\n",
    "\n",
    "Using AWS Console, navigate to **Amazon API Gateway** and then click on **Get started**.\n",
    "\n",
    "On the next page, make sure that **New API** is selected and give the new api a name, for example, `sentiment_analysis_web_app`. Then, click on **Create API**.\n",
    "\n",
    "Now we have created an API, however it doesn't currently do anything. What we want it to do is to trigger the Lambda function that we created earlier.\n",
    "\n",
    "Select the **Actions** dropdown menu and click **Create Method**. A new blank method will be created, select its dropdown menu and select **POST**, then click on the check mark beside it.\n",
    "\n",
    "For the integration point, make sure that **Lambda Function** is selected and click on the **Use Lambda Proxy integration**. This option makes sure that the data that is sent to the API is then sent directly to the Lambda function with no processing. It also means that the return value must be a proper response object as it will also not be processed by API Gateway.\n",
    "\n",
    "Type the name of the Lambda function you created earlier into the **Lambda Function** text entry box and then click on **Save**. Click on **OK** in the pop-up box that then appears, giving permission to API Gateway to invoke the Lambda function you created.\n",
    "\n",
    "The last step in creating the API Gateway is to select the **Actions** dropdown and click on **Deploy API**. You will need to create a new Deployment stage and name it anything you like, for example `prod`.\n",
    "\n",
    "You have now successfully set up a public API to access your SageMaker model. Make sure to copy or write down the URL provided to invoke your newly created public API as this will be needed in the next step. This URL can be found at the top of the page, highlighted in blue next to the text **Invoke URL**."
   ]
  },
  {
   "cell_type": "markdown",
   "metadata": {},
   "source": [
    "## Step 7: Deploying our web app\n",
    "\n",
    "Now that we have a publicly available API, we can start using it in a web app. For our purposes, we have provided a simple static html file which can make use of the public api you created earlier.\n",
    "\n",
    "In the `website` folder there should be a file called `index.html`. Download the file to your computer and open that file up in a text editor of your choice. There should be a line which contains **\\*\\*REPLACE WITH PUBLIC API URL\\*\\***. Replace this string with the url that you wrote down in the last step and then save the file.\n",
    "\n",
    "Now, if you open `index.html` on your local computer, your browser will behave as a local web server and you can use the provided site to interact with your SageMaker model.\n",
    "\n",
    "If you'd like to go further, you can host this html file anywhere you'd like, for example using github or hosting a static site on Amazon's S3. Once you have done this you can share the link with anyone you'd like and have them play with it too!\n",
    "\n",
    "> **Important Note** In order for the web app to communicate with the SageMaker endpoint, the endpoint has to actually be deployed and running. This means that you are paying for it. Make sure that the endpoint is running when you want to use the web app but that you shut it down when you don't need it, otherwise you will end up with a surprisingly large AWS bill."
   ]
  },
  {
   "cell_type": "markdown",
   "metadata": {},
   "source": [
    "### Delete the endpoint\n",
    "\n",
    "Remember to always shut down your endpoint if you are no longer using it. You are charged for the length of time that the endpoint is running so if you forget and leave it on you could end up with an unexpectedly large bill."
   ]
  },
  {
   "cell_type": "code",
   "execution_count": 57,
   "metadata": {},
   "outputs": [],
   "source": [
    "xgb_predictor.delete_endpoint()"
   ]
  },
  {
   "cell_type": "markdown",
   "metadata": {},
   "source": [
    "## Optional: Clean up\n",
    "\n",
    "The default notebook instance on SageMaker doesn't have a lot of excess disk space available. As you continue to complete and execute notebooks you will eventually fill up this disk space, leading to errors which can be difficult to diagnose. Once you are completely finished using a notebook it is a good idea to remove the files that you created along the way. Of course, you can do this from the terminal or from the notebook hub if you would like. The cell below contains some commands to clean up the created files from within the notebook."
   ]
  },
  {
   "cell_type": "code",
   "execution_count": 59,
   "metadata": {},
   "outputs": [
    {
     "ename": "OSError",
     "evalue": "[Errno 12] Cannot allocate memory",
     "output_type": "error",
     "traceback": [
      "\u001b[0;31m---------------------------------------------------------------------------\u001b[0m",
      "\u001b[0;31mOSError\u001b[0m                                   Traceback (most recent call last)",
      "\u001b[0;32m<ipython-input-59-2c87d8eefdf2>\u001b[0m in \u001b[0;36m<module>\u001b[0;34m\u001b[0m\n\u001b[1;32m      1\u001b[0m \u001b[0;31m# First we will remove all of the files contained in the data_dir directory\u001b[0m\u001b[0;34m\u001b[0m\u001b[0;34m\u001b[0m\u001b[0;34m\u001b[0m\u001b[0m\n\u001b[0;32m----> 2\u001b[0;31m \u001b[0mget_ipython\u001b[0m\u001b[0;34m(\u001b[0m\u001b[0;34m)\u001b[0m\u001b[0;34m.\u001b[0m\u001b[0msystem\u001b[0m\u001b[0;34m(\u001b[0m\u001b[0;34m'rm $data_dir/*'\u001b[0m\u001b[0;34m)\u001b[0m\u001b[0;34m\u001b[0m\u001b[0;34m\u001b[0m\u001b[0m\n\u001b[0m\u001b[1;32m      3\u001b[0m \u001b[0;34m\u001b[0m\u001b[0m\n\u001b[1;32m      4\u001b[0m \u001b[0;31m# And then we delete the directory itself\u001b[0m\u001b[0;34m\u001b[0m\u001b[0;34m\u001b[0m\u001b[0;34m\u001b[0m\u001b[0m\n\u001b[1;32m      5\u001b[0m \u001b[0mget_ipython\u001b[0m\u001b[0;34m(\u001b[0m\u001b[0;34m)\u001b[0m\u001b[0;34m.\u001b[0m\u001b[0msystem\u001b[0m\u001b[0;34m(\u001b[0m\u001b[0;34m'rmdir $data_dir'\u001b[0m\u001b[0;34m)\u001b[0m\u001b[0;34m\u001b[0m\u001b[0;34m\u001b[0m\u001b[0m\n",
      "\u001b[0;32m~/anaconda3/envs/python3/lib/python3.6/site-packages/IPython/core/interactiveshell.py\u001b[0m in \u001b[0;36msystem_piped\u001b[0;34m(self, cmd)\u001b[0m\n\u001b[1;32m   2454\u001b[0m         \u001b[0;31m# a non-None value would trigger :func:`sys.displayhook` calls.\u001b[0m\u001b[0;34m\u001b[0m\u001b[0;34m\u001b[0m\u001b[0;34m\u001b[0m\u001b[0m\n\u001b[1;32m   2455\u001b[0m         \u001b[0;31m# Instead, we store the exit_code in user_ns.\u001b[0m\u001b[0;34m\u001b[0m\u001b[0;34m\u001b[0m\u001b[0;34m\u001b[0m\u001b[0m\n\u001b[0;32m-> 2456\u001b[0;31m         \u001b[0mself\u001b[0m\u001b[0;34m.\u001b[0m\u001b[0muser_ns\u001b[0m\u001b[0;34m[\u001b[0m\u001b[0;34m'_exit_code'\u001b[0m\u001b[0;34m]\u001b[0m \u001b[0;34m=\u001b[0m \u001b[0msystem\u001b[0m\u001b[0;34m(\u001b[0m\u001b[0mself\u001b[0m\u001b[0;34m.\u001b[0m\u001b[0mvar_expand\u001b[0m\u001b[0;34m(\u001b[0m\u001b[0mcmd\u001b[0m\u001b[0;34m,\u001b[0m \u001b[0mdepth\u001b[0m\u001b[0;34m=\u001b[0m\u001b[0;36m1\u001b[0m\u001b[0;34m)\u001b[0m\u001b[0;34m)\u001b[0m\u001b[0;34m\u001b[0m\u001b[0;34m\u001b[0m\u001b[0m\n\u001b[0m\u001b[1;32m   2457\u001b[0m \u001b[0;34m\u001b[0m\u001b[0m\n\u001b[1;32m   2458\u001b[0m     \u001b[0;32mdef\u001b[0m \u001b[0msystem_raw\u001b[0m\u001b[0;34m(\u001b[0m\u001b[0mself\u001b[0m\u001b[0;34m,\u001b[0m \u001b[0mcmd\u001b[0m\u001b[0;34m)\u001b[0m\u001b[0;34m:\u001b[0m\u001b[0;34m\u001b[0m\u001b[0;34m\u001b[0m\u001b[0m\n",
      "\u001b[0;32m~/anaconda3/envs/python3/lib/python3.6/site-packages/IPython/utils/_process_posix.py\u001b[0m in \u001b[0;36msystem\u001b[0;34m(self, cmd)\u001b[0m\n\u001b[1;32m    154\u001b[0m                 \u001b[0mchild\u001b[0m \u001b[0;34m=\u001b[0m \u001b[0mpexpect\u001b[0m\u001b[0;34m.\u001b[0m\u001b[0mspawnb\u001b[0m\u001b[0;34m(\u001b[0m\u001b[0mself\u001b[0m\u001b[0;34m.\u001b[0m\u001b[0msh\u001b[0m\u001b[0;34m,\u001b[0m \u001b[0margs\u001b[0m\u001b[0;34m=\u001b[0m\u001b[0;34m[\u001b[0m\u001b[0;34m'-c'\u001b[0m\u001b[0;34m,\u001b[0m \u001b[0mcmd\u001b[0m\u001b[0;34m]\u001b[0m\u001b[0;34m)\u001b[0m \u001b[0;31m# Pexpect-U\u001b[0m\u001b[0;34m\u001b[0m\u001b[0;34m\u001b[0m\u001b[0m\n\u001b[1;32m    155\u001b[0m             \u001b[0;32melse\u001b[0m\u001b[0;34m:\u001b[0m\u001b[0;34m\u001b[0m\u001b[0;34m\u001b[0m\u001b[0m\n\u001b[0;32m--> 156\u001b[0;31m                 \u001b[0mchild\u001b[0m \u001b[0;34m=\u001b[0m \u001b[0mpexpect\u001b[0m\u001b[0;34m.\u001b[0m\u001b[0mspawn\u001b[0m\u001b[0;34m(\u001b[0m\u001b[0mself\u001b[0m\u001b[0;34m.\u001b[0m\u001b[0msh\u001b[0m\u001b[0;34m,\u001b[0m \u001b[0margs\u001b[0m\u001b[0;34m=\u001b[0m\u001b[0;34m[\u001b[0m\u001b[0;34m'-c'\u001b[0m\u001b[0;34m,\u001b[0m \u001b[0mcmd\u001b[0m\u001b[0;34m]\u001b[0m\u001b[0;34m)\u001b[0m  \u001b[0;31m# Vanilla Pexpect\u001b[0m\u001b[0;34m\u001b[0m\u001b[0;34m\u001b[0m\u001b[0m\n\u001b[0m\u001b[1;32m    157\u001b[0m             \u001b[0mflush\u001b[0m \u001b[0;34m=\u001b[0m \u001b[0msys\u001b[0m\u001b[0;34m.\u001b[0m\u001b[0mstdout\u001b[0m\u001b[0;34m.\u001b[0m\u001b[0mflush\u001b[0m\u001b[0;34m\u001b[0m\u001b[0;34m\u001b[0m\u001b[0m\n\u001b[1;32m    158\u001b[0m             \u001b[0;32mwhile\u001b[0m \u001b[0;32mTrue\u001b[0m\u001b[0;34m:\u001b[0m\u001b[0;34m\u001b[0m\u001b[0;34m\u001b[0m\u001b[0m\n",
      "\u001b[0;32m~/anaconda3/envs/python3/lib/python3.6/site-packages/pexpect/pty_spawn.py\u001b[0m in \u001b[0;36m__init__\u001b[0;34m(self, command, args, timeout, maxread, searchwindowsize, logfile, cwd, env, ignore_sighup, echo, preexec_fn, encoding, codec_errors, dimensions, use_poll)\u001b[0m\n\u001b[1;32m    203\u001b[0m             \u001b[0mself\u001b[0m\u001b[0;34m.\u001b[0m\u001b[0mname\u001b[0m \u001b[0;34m=\u001b[0m \u001b[0;34m'<pexpect factory incomplete>'\u001b[0m\u001b[0;34m\u001b[0m\u001b[0;34m\u001b[0m\u001b[0m\n\u001b[1;32m    204\u001b[0m         \u001b[0;32melse\u001b[0m\u001b[0;34m:\u001b[0m\u001b[0;34m\u001b[0m\u001b[0;34m\u001b[0m\u001b[0m\n\u001b[0;32m--> 205\u001b[0;31m             \u001b[0mself\u001b[0m\u001b[0;34m.\u001b[0m\u001b[0m_spawn\u001b[0m\u001b[0;34m(\u001b[0m\u001b[0mcommand\u001b[0m\u001b[0;34m,\u001b[0m \u001b[0margs\u001b[0m\u001b[0;34m,\u001b[0m \u001b[0mpreexec_fn\u001b[0m\u001b[0;34m,\u001b[0m \u001b[0mdimensions\u001b[0m\u001b[0;34m)\u001b[0m\u001b[0;34m\u001b[0m\u001b[0;34m\u001b[0m\u001b[0m\n\u001b[0m\u001b[1;32m    206\u001b[0m         \u001b[0mself\u001b[0m\u001b[0;34m.\u001b[0m\u001b[0muse_poll\u001b[0m \u001b[0;34m=\u001b[0m \u001b[0muse_poll\u001b[0m\u001b[0;34m\u001b[0m\u001b[0;34m\u001b[0m\u001b[0m\n\u001b[1;32m    207\u001b[0m \u001b[0;34m\u001b[0m\u001b[0m\n",
      "\u001b[0;32m~/anaconda3/envs/python3/lib/python3.6/site-packages/pexpect/pty_spawn.py\u001b[0m in \u001b[0;36m_spawn\u001b[0;34m(self, command, args, preexec_fn, dimensions)\u001b[0m\n\u001b[1;32m    302\u001b[0m \u001b[0;34m\u001b[0m\u001b[0m\n\u001b[1;32m    303\u001b[0m         self.ptyproc = self._spawnpty(self.args, env=self.env,\n\u001b[0;32m--> 304\u001b[0;31m                                      cwd=self.cwd, **kwargs)\n\u001b[0m\u001b[1;32m    305\u001b[0m \u001b[0;34m\u001b[0m\u001b[0m\n\u001b[1;32m    306\u001b[0m         \u001b[0mself\u001b[0m\u001b[0;34m.\u001b[0m\u001b[0mpid\u001b[0m \u001b[0;34m=\u001b[0m \u001b[0mself\u001b[0m\u001b[0;34m.\u001b[0m\u001b[0mptyproc\u001b[0m\u001b[0;34m.\u001b[0m\u001b[0mpid\u001b[0m\u001b[0;34m\u001b[0m\u001b[0;34m\u001b[0m\u001b[0m\n",
      "\u001b[0;32m~/anaconda3/envs/python3/lib/python3.6/site-packages/pexpect/pty_spawn.py\u001b[0m in \u001b[0;36m_spawnpty\u001b[0;34m(self, args, **kwargs)\u001b[0m\n\u001b[1;32m    313\u001b[0m     \u001b[0;32mdef\u001b[0m \u001b[0m_spawnpty\u001b[0m\u001b[0;34m(\u001b[0m\u001b[0mself\u001b[0m\u001b[0;34m,\u001b[0m \u001b[0margs\u001b[0m\u001b[0;34m,\u001b[0m \u001b[0;34m**\u001b[0m\u001b[0mkwargs\u001b[0m\u001b[0;34m)\u001b[0m\u001b[0;34m:\u001b[0m\u001b[0;34m\u001b[0m\u001b[0;34m\u001b[0m\u001b[0m\n\u001b[1;32m    314\u001b[0m         \u001b[0;34m'''Spawn a pty and return an instance of PtyProcess.'''\u001b[0m\u001b[0;34m\u001b[0m\u001b[0;34m\u001b[0m\u001b[0m\n\u001b[0;32m--> 315\u001b[0;31m         \u001b[0;32mreturn\u001b[0m \u001b[0mptyprocess\u001b[0m\u001b[0;34m.\u001b[0m\u001b[0mPtyProcess\u001b[0m\u001b[0;34m.\u001b[0m\u001b[0mspawn\u001b[0m\u001b[0;34m(\u001b[0m\u001b[0margs\u001b[0m\u001b[0;34m,\u001b[0m \u001b[0;34m**\u001b[0m\u001b[0mkwargs\u001b[0m\u001b[0;34m)\u001b[0m\u001b[0;34m\u001b[0m\u001b[0;34m\u001b[0m\u001b[0m\n\u001b[0m\u001b[1;32m    316\u001b[0m \u001b[0;34m\u001b[0m\u001b[0m\n\u001b[1;32m    317\u001b[0m     \u001b[0;32mdef\u001b[0m \u001b[0mclose\u001b[0m\u001b[0;34m(\u001b[0m\u001b[0mself\u001b[0m\u001b[0;34m,\u001b[0m \u001b[0mforce\u001b[0m\u001b[0;34m=\u001b[0m\u001b[0;32mTrue\u001b[0m\u001b[0;34m)\u001b[0m\u001b[0;34m:\u001b[0m\u001b[0;34m\u001b[0m\u001b[0;34m\u001b[0m\u001b[0m\n",
      "\u001b[0;32m~/anaconda3/envs/python3/lib/python3.6/site-packages/ptyprocess/ptyprocess.py\u001b[0m in \u001b[0;36mspawn\u001b[0;34m(cls, argv, cwd, env, echo, preexec_fn, dimensions)\u001b[0m\n\u001b[1;32m    224\u001b[0m \u001b[0;34m\u001b[0m\u001b[0m\n\u001b[1;32m    225\u001b[0m         \u001b[0;32mif\u001b[0m \u001b[0muse_native_pty_fork\u001b[0m\u001b[0;34m:\u001b[0m\u001b[0;34m\u001b[0m\u001b[0;34m\u001b[0m\u001b[0m\n\u001b[0;32m--> 226\u001b[0;31m             \u001b[0mpid\u001b[0m\u001b[0;34m,\u001b[0m \u001b[0mfd\u001b[0m \u001b[0;34m=\u001b[0m \u001b[0mpty\u001b[0m\u001b[0;34m.\u001b[0m\u001b[0mfork\u001b[0m\u001b[0;34m(\u001b[0m\u001b[0;34m)\u001b[0m\u001b[0;34m\u001b[0m\u001b[0;34m\u001b[0m\u001b[0m\n\u001b[0m\u001b[1;32m    227\u001b[0m         \u001b[0;32melse\u001b[0m\u001b[0;34m:\u001b[0m\u001b[0;34m\u001b[0m\u001b[0;34m\u001b[0m\u001b[0m\n\u001b[1;32m    228\u001b[0m             \u001b[0;31m# Use internal fork_pty, for Solaris\u001b[0m\u001b[0;34m\u001b[0m\u001b[0;34m\u001b[0m\u001b[0;34m\u001b[0m\u001b[0m\n",
      "\u001b[0;32m~/anaconda3/envs/python3/lib/python3.6/pty.py\u001b[0m in \u001b[0;36mfork\u001b[0;34m()\u001b[0m\n\u001b[1;32m     95\u001b[0m \u001b[0;34m\u001b[0m\u001b[0m\n\u001b[1;32m     96\u001b[0m     \u001b[0mmaster_fd\u001b[0m\u001b[0;34m,\u001b[0m \u001b[0mslave_fd\u001b[0m \u001b[0;34m=\u001b[0m \u001b[0mopenpty\u001b[0m\u001b[0;34m(\u001b[0m\u001b[0;34m)\u001b[0m\u001b[0;34m\u001b[0m\u001b[0;34m\u001b[0m\u001b[0m\n\u001b[0;32m---> 97\u001b[0;31m     \u001b[0mpid\u001b[0m \u001b[0;34m=\u001b[0m \u001b[0mos\u001b[0m\u001b[0;34m.\u001b[0m\u001b[0mfork\u001b[0m\u001b[0;34m(\u001b[0m\u001b[0;34m)\u001b[0m\u001b[0;34m\u001b[0m\u001b[0;34m\u001b[0m\u001b[0m\n\u001b[0m\u001b[1;32m     98\u001b[0m     \u001b[0;32mif\u001b[0m \u001b[0mpid\u001b[0m \u001b[0;34m==\u001b[0m \u001b[0mCHILD\u001b[0m\u001b[0;34m:\u001b[0m\u001b[0;34m\u001b[0m\u001b[0;34m\u001b[0m\u001b[0m\n\u001b[1;32m     99\u001b[0m         \u001b[0;31m# Establish a new session.\u001b[0m\u001b[0;34m\u001b[0m\u001b[0;34m\u001b[0m\u001b[0;34m\u001b[0m\u001b[0m\n",
      "\u001b[0;31mOSError\u001b[0m: [Errno 12] Cannot allocate memory"
     ]
    }
   ],
   "source": [
    "# First we will remove all of the files contained in the data_dir directory\n",
    "!rm $data_dir/*\n",
    "\n",
    "# And then we delete the directory itself\n",
    "!rmdir $data_dir\n",
    "\n",
    "# Similarly we remove the files in the cache_dir directory and the directory itself\n",
    "!rm $cache_dir/*\n",
    "!rmdir $cache_dir"
   ]
  },
  {
   "cell_type": "code",
   "execution_count": null,
   "metadata": {},
   "outputs": [],
   "source": []
  }
 ],
 "metadata": {
  "kernelspec": {
   "display_name": "conda_python3",
   "language": "python",
   "name": "conda_python3"
  },
  "language_info": {
   "codemirror_mode": {
    "name": "ipython",
    "version": 3
   },
   "file_extension": ".py",
   "mimetype": "text/x-python",
   "name": "python",
   "nbconvert_exporter": "python",
   "pygments_lexer": "ipython3",
   "version": "3.6.10"
  }
 },
 "nbformat": 4,
 "nbformat_minor": 2
}
